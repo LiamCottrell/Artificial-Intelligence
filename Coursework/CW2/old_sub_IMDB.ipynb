{
 "cells": [
  {
   "cell_type": "markdown",
   "metadata": {},
   "source": [
    "# Text Classification - IMDB"
   ]
  },
  {
   "cell_type": "markdown",
   "metadata": {},
   "source": [
    "# Imports "
   ]
  },
  {
   "cell_type": "code",
   "execution_count": 1,
   "metadata": {},
   "outputs": [],
   "source": [
    "import numpy as np\n",
    "import pandas as pd\n",
    "\n",
    "#for nlp\n",
    "import nltk\n",
    "from nltk.corpus import stopwords \n",
    "from nltk.stem.snowball import SnowballStemmer\n",
    "from nltk.corpus import stopwords\n",
    "\n",
    "#text vectorisation\n",
    "from sklearn.feature_extraction.text import CountVectorizer, TfidfTransformer, TfidfVectorizer\n",
    "\n",
    "#metrics\n",
    "from sklearn.metrics import classification_report, accuracy_score, roc_curve, auc\n",
    "\n",
    "#import method releated to evaluation\n",
    "from sklearn import model_selection\n",
    "from sklearn.pipeline import make_pipeline\n",
    "from sklearn.pipeline import Pipeline\n",
    "from sklearn.model_selection import train_test_split, KFold, StratifiedKFold, StratifiedShuffleSplit, ShuffleSplit, cross_val_score, GridSearchCV\n",
    "\n",
    "#classifiers\n",
    "from sklearn.linear_model import LogisticRegression\n",
    "from sklearn.naive_bayes import MultinomialNB\n",
    "from sklearn.tree import DecisionTreeClassifier\n",
    "from sklearn.neighbors import KNeighborsClassifier\n",
    "from sklearn.discriminant_analysis import LinearDiscriminantAnalysis\n",
    "from sklearn.naive_bayes import GaussianNB\n",
    "from sklearn.neural_network import MLPClassifier\n",
    "from sklearn.svm import SVC\n",
    "\n",
    "#for graphs\n",
    "%matplotlib inline\n",
    "import matplotlib.pyplot as plt\n",
    "import seaborn as sns\n",
    "\n",
    "import warnings\n",
    "warnings.simplefilter(action='ignore', category=FutureWarning)"
   ]
  },
  {
   "cell_type": "code",
   "execution_count": 2,
   "metadata": {},
   "outputs": [],
   "source": [
    "# Global vairiables for script\n",
    "\n",
    "cross_validation_iterations = 30\n"
   ]
  },
  {
   "cell_type": "markdown",
   "metadata": {},
   "source": [
    "# Exploring the Dataset"
   ]
  },
  {
   "cell_type": "code",
   "execution_count": 3,
   "metadata": {},
   "outputs": [],
   "source": [
    "filename = 'movie_data_cat.csv'\n",
    "SPAM_dataframe = pd.read_csv(filename, encoding='utf-8')"
   ]
  },
  {
   "cell_type": "code",
   "execution_count": 4,
   "metadata": {
    "scrolled": false
   },
   "outputs": [
    {
     "data": {
      "text/html": [
       "<div>\n",
       "<style scoped>\n",
       "    .dataframe tbody tr th:only-of-type {\n",
       "        vertical-align: middle;\n",
       "    }\n",
       "\n",
       "    .dataframe tbody tr th {\n",
       "        vertical-align: top;\n",
       "    }\n",
       "\n",
       "    .dataframe thead th {\n",
       "        text-align: right;\n",
       "    }\n",
       "</style>\n",
       "<table border=\"1\" class=\"dataframe\">\n",
       "  <thead>\n",
       "    <tr style=\"text-align: right;\">\n",
       "      <th></th>\n",
       "      <th>review</th>\n",
       "      <th>sentiment</th>\n",
       "    </tr>\n",
       "  </thead>\n",
       "  <tbody>\n",
       "    <tr>\n",
       "      <th>0</th>\n",
       "      <td>In 1974, the teenager Martha Moxley (Maggie Gr...</td>\n",
       "      <td>pos</td>\n",
       "    </tr>\n",
       "    <tr>\n",
       "      <th>1</th>\n",
       "      <td>OK... so... I really like Kris Kristofferson a...</td>\n",
       "      <td>neg</td>\n",
       "    </tr>\n",
       "    <tr>\n",
       "      <th>2</th>\n",
       "      <td>***SPOILER*** Do not read this, if you think a...</td>\n",
       "      <td>neg</td>\n",
       "    </tr>\n",
       "    <tr>\n",
       "      <th>3</th>\n",
       "      <td>hi for all the people who have seen this wonde...</td>\n",
       "      <td>pos</td>\n",
       "    </tr>\n",
       "    <tr>\n",
       "      <th>4</th>\n",
       "      <td>I recently bought the DVD, forgetting just how...</td>\n",
       "      <td>neg</td>\n",
       "    </tr>\n",
       "  </tbody>\n",
       "</table>\n",
       "</div>"
      ],
      "text/plain": [
       "                                              review sentiment\n",
       "0  In 1974, the teenager Martha Moxley (Maggie Gr...       pos\n",
       "1  OK... so... I really like Kris Kristofferson a...       neg\n",
       "2  ***SPOILER*** Do not read this, if you think a...       neg\n",
       "3  hi for all the people who have seen this wonde...       pos\n",
       "4  I recently bought the DVD, forgetting just how...       neg"
      ]
     },
     "execution_count": 4,
     "metadata": {},
     "output_type": "execute_result"
    }
   ],
   "source": [
    "SPAM_dataframe.head()"
   ]
  },
  {
   "cell_type": "markdown",
   "metadata": {},
   "source": [
    "# Converting Class Index to int"
   ]
  },
  {
   "cell_type": "code",
   "execution_count": 5,
   "metadata": {},
   "outputs": [
    {
     "name": "stdout",
     "output_type": "stream",
     "text": [
      "{'neg': 0, 'pos': 1}\n"
     ]
    }
   ],
   "source": [
    "class_mapping = {label:idx for idx,label in enumerate(np.unique(SPAM_dataframe['sentiment']))}\n",
    "\n",
    "print(class_mapping)\n",
    "class_labels = [x for x in class_mapping] # store the class labels for later"
   ]
  },
  {
   "cell_type": "code",
   "execution_count": 6,
   "metadata": {},
   "outputs": [],
   "source": [
    "#use the mapping dictionary to transform the class labels into integers\n",
    "\n",
    "SPAM_dataframe[\"sentiment\"] = SPAM_dataframe[\"sentiment\"].map(class_mapping)\n"
   ]
  },
  {
   "cell_type": "code",
   "execution_count": 7,
   "metadata": {},
   "outputs": [
    {
     "data": {
      "text/html": [
       "<div>\n",
       "<style scoped>\n",
       "    .dataframe tbody tr th:only-of-type {\n",
       "        vertical-align: middle;\n",
       "    }\n",
       "\n",
       "    .dataframe tbody tr th {\n",
       "        vertical-align: top;\n",
       "    }\n",
       "\n",
       "    .dataframe thead th {\n",
       "        text-align: right;\n",
       "    }\n",
       "</style>\n",
       "<table border=\"1\" class=\"dataframe\">\n",
       "  <thead>\n",
       "    <tr style=\"text-align: right;\">\n",
       "      <th></th>\n",
       "      <th>review</th>\n",
       "      <th>sentiment</th>\n",
       "    </tr>\n",
       "  </thead>\n",
       "  <tbody>\n",
       "    <tr>\n",
       "      <th>0</th>\n",
       "      <td>In 1974, the teenager Martha Moxley (Maggie Gr...</td>\n",
       "      <td>1</td>\n",
       "    </tr>\n",
       "    <tr>\n",
       "      <th>1</th>\n",
       "      <td>OK... so... I really like Kris Kristofferson a...</td>\n",
       "      <td>0</td>\n",
       "    </tr>\n",
       "    <tr>\n",
       "      <th>2</th>\n",
       "      <td>***SPOILER*** Do not read this, if you think a...</td>\n",
       "      <td>0</td>\n",
       "    </tr>\n",
       "    <tr>\n",
       "      <th>3</th>\n",
       "      <td>hi for all the people who have seen this wonde...</td>\n",
       "      <td>1</td>\n",
       "    </tr>\n",
       "    <tr>\n",
       "      <th>4</th>\n",
       "      <td>I recently bought the DVD, forgetting just how...</td>\n",
       "      <td>0</td>\n",
       "    </tr>\n",
       "  </tbody>\n",
       "</table>\n",
       "</div>"
      ],
      "text/plain": [
       "                                              review  sentiment\n",
       "0  In 1974, the teenager Martha Moxley (Maggie Gr...          1\n",
       "1  OK... so... I really like Kris Kristofferson a...          0\n",
       "2  ***SPOILER*** Do not read this, if you think a...          0\n",
       "3  hi for all the people who have seen this wonde...          1\n",
       "4  I recently bought the DVD, forgetting just how...          0"
      ]
     },
     "execution_count": 7,
     "metadata": {},
     "output_type": "execute_result"
    }
   ],
   "source": [
    "SPAM_dataframe.head()"
   ]
  },
  {
   "cell_type": "markdown",
   "metadata": {},
   "source": [
    "# Cleaning up the Data"
   ]
  },
  {
   "cell_type": "code",
   "execution_count": 8,
   "metadata": {
    "scrolled": true
   },
   "outputs": [
    {
     "data": {
      "text/plain": [
       "'This is a big step down after the surprisingly enjoyable original. This sequel isn\\'t nearly as fun as part one, and it instead spends too much time on plot development. Tim Thomerson is still the best thing about this series, but his wisecracking is toned down in this entry. The performances are all adequate, but this time the script lets us down. The action is merely routine and the plot is only mildly interesting, so I need lots of silly laughs in order to stay entertained during a \"Trancers\" movie. Unfortunately, the laughs are few and far between, and so, this film is watchable at best.'"
      ]
     },
     "execution_count": 8,
     "metadata": {},
     "output_type": "execute_result"
    }
   ],
   "source": [
    "SPAM_dataframe.loc[42, 'review']#[-50:]"
   ]
  },
  {
   "cell_type": "code",
   "execution_count": 9,
   "metadata": {},
   "outputs": [],
   "source": [
    "#import regular expressions to clean up the text\n",
    "import re\n",
    "def preprocessor(text):\n",
    "    text = re.sub('<[^>]*>', '', text) # remove all html markup\n",
    "    emoticons = re.findall('(?::|;|=)(?:-)?(?:\\)|\\(|D|P)', text) # findall the emoticons\n",
    "    \n",
    "    # remove the non-word chars '[\\W]+'\n",
    "    # append the emoticons to end \n",
    "    #convert all to lowercase\n",
    "    # remove nose char for consistency\n",
    "    text = (re.sub('[\\W]+', ' ', text.lower()) +\n",
    "            ' '.join(emoticons).replace('-', '')) \n",
    "    return text"
   ]
  },
  {
   "cell_type": "code",
   "execution_count": 10,
   "metadata": {},
   "outputs": [
    {
     "data": {
      "text/plain": [
       "'this is a big step down after the surprisingly enjoyable original this sequel isn t nearly as fun as part one and it instead spends too much time on plot development tim thomerson is still the best thing about this series but his wisecracking is toned down in this entry the performances are all adequate but this time the script lets us down the action is merely routine and the plot is only mildly interesting so i need lots of silly laughs in order to stay entertained during a trancers movie unfortunately the laughs are few and far between and so this film is watchable at best '"
      ]
     },
     "execution_count": 10,
     "metadata": {},
     "output_type": "execute_result"
    }
   ],
   "source": [
    "preprocessor(SPAM_dataframe.loc[42, 'review'])#[-50:]"
   ]
  },
  {
   "cell_type": "code",
   "execution_count": 11,
   "metadata": {},
   "outputs": [],
   "source": [
    "# apply the preprocessor to the entire dataframe (i.e. column review)\n",
    "SPAM_dataframe['review'] = SPAM_dataframe['review'].apply(preprocessor)"
   ]
  },
  {
   "cell_type": "markdown",
   "metadata": {},
   "source": [
    "# Tokenise, Stemmer & Stop"
   ]
  },
  {
   "cell_type": "code",
   "execution_count": 12,
   "metadata": {},
   "outputs": [
    {
     "name": "stdout",
     "output_type": "stream",
     "text": [
      "[nltk_data] Downloading package stopwords to /root/nltk_data...\n",
      "[nltk_data]   Package stopwords is already up-to-date!\n"
     ]
    }
   ],
   "source": [
    "from nltk.corpus import stopwords \n",
    "\n",
    "nltk.download('stopwords')\n",
    "\n",
    "\n",
    "stop = set(stopwords.words('english'))\n",
    "stemmer = SnowballStemmer(\"english\")\n",
    "\n",
    "def tokenizer(text):\n",
    "       return text.split()\n",
    "\n",
    "def tokenizer_stemmer(text):\n",
    "    return [stemmer.stem(word) for word in tokenizer(text)]#text.split()]\n",
    "\n",
    "\n",
    "def stop_removal(text):\n",
    "       return [w for w in text if not w in stop]\n",
    "    "
   ]
  },
  {
   "cell_type": "code",
   "execution_count": 13,
   "metadata": {
    "scrolled": true
   },
   "outputs": [
    {
     "data": {
      "text/plain": [
       "'this is a big step down after the surprisingly enjoyable original this sequel isn t nearly as fun as part one and it instead spends too much time on plot development tim thomerson is still the best thing about this series but his wisecracking is toned down in this entry the performances are all adequate but this time the script lets us down the action is merely routine and the plot is only mildly interesting so i need lots of silly laughs in order to stay entertained during a trancers movie unfortunately the laughs are few and far between and so this film is watchable at best '"
      ]
     },
     "execution_count": 13,
     "metadata": {},
     "output_type": "execute_result"
    }
   ],
   "source": [
    "SPAM_dataframe.loc[42, 'review']"
   ]
  },
  {
   "cell_type": "code",
   "execution_count": 14,
   "metadata": {},
   "outputs": [],
   "source": [
    "SPAM_dataframe_subset = SPAM_dataframe.sample(n=5000)\n",
    "# SPAM_dataframe_subset = SPAM_dataframe"
   ]
  },
  {
   "cell_type": "markdown",
   "metadata": {},
   "source": [
    "# Training for Sentiment Classification"
   ]
  },
  {
   "cell_type": "code",
   "execution_count": 15,
   "metadata": {},
   "outputs": [],
   "source": [
    "X_train, X_test, y_train, y_test = train_test_split(\n",
    "     SPAM_dataframe_subset.iloc[:,0], SPAM_dataframe_subset.iloc[:,1], test_size=0.20, random_state=42)"
   ]
  },
  {
   "cell_type": "code",
   "execution_count": 16,
   "metadata": {},
   "outputs": [],
   "source": [
    "param_grid0 = [{'vect__ngram_range': [(1, 1)], #can also extract 2-grams of words in addition to the 1-grams (individual words)\n",
    "               'vect__stop_words': [stop, None], # use the stop dictionary of stopwords or not\n",
    "               'vect__tokenizer': [tokenizer_stemmer]}, # use a tokeniser and the stemmer \n",
    "               ]"
   ]
  },
  {
   "cell_type": "code",
   "execution_count": 17,
   "metadata": {},
   "outputs": [
    {
     "data": {
      "text/plain": [
       "13738    i see a lot of really negative posts by people...\n",
       "37525    where do i begin its one of the most frustrati...\n",
       "44130    this film by friðrik þór director of children ...\n",
       "14879     curse of monkey island is a treasure in my op...\n",
       "28484    mukhsin is a beautiful movie about a first lov...\n",
       "19996    wladyslaw starewicz was a russian born animato...\n",
       "42170    after you ve seen this small likable and comic...\n",
       "5099     i jumped at the chance to view this movie uncu...\n",
       "39367    let me break down this film for you the first ...\n",
       "3129     a year after her triumphant first special my n...\n",
       "31014    the minutiae of what s involved in carrying ou...\n",
       "42487    the plot seemed to be interesting but this fil...\n",
       "46296    oh my gosh this was one of the best sci fi mov...\n",
       "11899    i cannot argue with other comments that the st...\n",
       "38572    someone says this anime could be offensive for...\n",
       "40016    this was a new alltime low among westerns the ...\n",
       "11982    i only gave this nine stars instead of ten bec...\n",
       "38338    this horror movie starts out promisingly enoug...\n",
       "6845     this film is so bad it s hilarious i watched h...\n",
       "22716    i gave this a 3 out of a possible 10 stars unl...\n",
       "31668    well maybe i m just having a bad run with hind...\n",
       "7225     well i can and will be very short this is a wr...\n",
       "9027     with boundless raw energy and an uncompromisin...\n",
       "48393    who ever came up with story is one sick person...\n",
       "10061    i used to watch this show as a child and i lov...\n",
       "29505    i m not sure quite why i clicked contains spoi...\n",
       "11250    really bad movie the story is too simple and p...\n",
       "19764    any movie that portrays the hard working respo...\n",
       "21260    i ve read all the rave reviews here and am imp...\n",
       "957      most of these reviews are dead on so i ll cut ...\n",
       "                               ...                        \n",
       "3314     tell the truth i m a bit stun to see all these...\n",
       "37735    to me this was colin farrells best movie evr h...\n",
       "7050     pictures that usually glorify a hero have mean...\n",
       "27730    in the same way lamberto bava was a substandar...\n",
       "37571    otto preminger was one of the great maverick f...\n",
       "43989    it could have been a morbidly fascinating look...\n",
       "24738    one of my all time favorite so laughably lousy...\n",
       "31943    its plain to see why the makers of scary movie...\n",
       "34612    vivacious irrepressible anne of green gables b...\n",
       "6572      mild spoilers _ but you probably know the plo...\n",
       "39135    we see at the beginning of little dieter needs...\n",
       "36732    i wanted to see sarah buffy on the big screen ...\n",
       "43235    it was the night he came home warned the poste...\n",
       "35388    ok admittedly as an orthodox woman who lives i...\n",
       "47312     chances are i m gonna spoil valuable plot poi...\n",
       "31975    craig brewer is now officially a writer direct...\n",
       "9950     this has to be the ultimate chick flick ever w...\n",
       "2538     just finished watching american pie beta house...\n",
       "12356    i have fond memories of watching this visually...\n",
       "26832    rainbow brite and the star stealer is not for ...\n",
       "7713     in 1954 marlon brando was the hot actor after ...\n",
       "13696    whatever the producer was going for he missed ...\n",
       "8504     this is one of the most atrocious rewrites i v...\n",
       "5534     the copy of this movie that i have seen is not...\n",
       "134      in a movie that follows a struggling actor pla...\n",
       "29426    lush cinematography beautifully written and ed...\n",
       "39841    i am a jane eyre lover and a purist and this v...\n",
       "17112    when the magic of lassie opened at radio city ...\n",
       "31979    police investigations murder suspicion we are ...\n",
       "21732    any film which begins with a cowhand shagging ...\n",
       "Name: review, Length: 4000, dtype: object"
      ]
     },
     "execution_count": 17,
     "metadata": {},
     "output_type": "execute_result"
    }
   ],
   "source": [
    "X_train"
   ]
  },
  {
   "cell_type": "code",
   "execution_count": 18,
   "metadata": {
    "scrolled": false
   },
   "outputs": [
    {
     "name": "stdout",
     "output_type": "stream",
     "text": [
      "Testing: LogisticRegression\n",
      "Fitting 30 folds for each of 2 candidates, totalling 60 fits\n"
     ]
    },
    {
     "name": "stderr",
     "output_type": "stream",
     "text": [
      "[Parallel(n_jobs=-1)]: Done  28 tasks      | elapsed:  3.6min\n",
      "[Parallel(n_jobs=-1)]: Done  60 out of  60 | elapsed:  6.5min finished\n"
     ]
    },
    {
     "name": "stdout",
     "output_type": "stream",
     "text": [
      "Test Accuracy: 86.700\n",
      "CV Accuracy: 86.775\n",
      "CV split 1 results:\n",
      "[0.8880597  0.87313433]\n",
      "CV split 2 results:\n",
      "[0.8358209  0.84328358]\n",
      "CV split 3 results:\n",
      "[0.8880597  0.85820896]\n",
      "CV split 4 results:\n",
      "[0.85820896 0.85074627]\n",
      "CV split 5 results:\n",
      "[0.85820896 0.8880597 ]\n",
      "CV split 6 results:\n",
      "[0.82089552 0.87313433]\n",
      "CV split 7 results:\n",
      "[0.87313433 0.8880597 ]\n",
      "CV split 8 results:\n",
      "[0.87313433 0.86567164]\n",
      "CV split 9 results:\n",
      "[0.84328358 0.85074627]\n",
      "CV split 10 results:\n",
      "[0.8880597  0.84328358]\n",
      "CV split 11 results:\n",
      "[0.90225564 0.85714286]\n",
      "CV split 12 results:\n",
      "[0.87969925 0.87218045]\n",
      "CV split 13 results:\n",
      "[0.87218045 0.84210526]\n",
      "CV split 14 results:\n",
      "[0.90225564 0.87218045]\n",
      "CV split 15 results:\n",
      "[0.82706767 0.83458647]\n",
      "CV split 16 results:\n",
      "[0.90977444 0.91729323]\n",
      "CV split 17 results:\n",
      "[0.84210526 0.80451128]\n",
      "CV split 18 results:\n",
      "[0.83458647 0.86466165]\n",
      "CV split 19 results:\n",
      "[0.84962406 0.83458647]\n",
      "CV split 20 results:\n",
      "[0.87969925 0.84210526]\n",
      "CV split 21 results:\n",
      "[0.90225564 0.89473684]\n",
      "CV split 22 results:\n",
      "[0.83458647 0.87969925]\n",
      "CV split 23 results:\n",
      "[0.90225564 0.87969925]\n",
      "CV split 24 results:\n",
      "[0.86466165 0.83458647]\n",
      "CV split 25 results:\n",
      "[0.80451128 0.81954887]\n",
      "CV split 26 results:\n",
      "[0.87969925 0.87969925]\n",
      "CV split 27 results:\n",
      "[0.84210526 0.83458647]\n",
      "CV split 28 results:\n",
      "[0.88721805 0.86466165]\n",
      "CV split 29 results:\n",
      "[0.93233083 0.87969925]\n",
      "CV split 30 results:\n",
      "[0.85714286 0.84210526]\n",
      "Testing: MultinomialNB\n",
      "Fitting 30 folds for each of 2 candidates, totalling 60 fits\n"
     ]
    },
    {
     "name": "stderr",
     "output_type": "stream",
     "text": [
      "[Parallel(n_jobs=-1)]: Done  28 tasks      | elapsed:  3.3min\n",
      "[Parallel(n_jobs=-1)]: Done  60 out of  60 | elapsed:  6.3min finished\n"
     ]
    },
    {
     "name": "stdout",
     "output_type": "stream",
     "text": [
      "Test Accuracy: 84.300\n",
      "CV Accuracy: 83.275\n",
      "CV split 1 results:\n",
      "[0.84328358 0.82835821]\n",
      "CV split 2 results:\n",
      "[0.85074627 0.80597015]\n",
      "CV split 3 results:\n",
      "[0.85074627 0.84328358]\n",
      "CV split 4 results:\n",
      "[0.7761194  0.76119403]\n",
      "CV split 5 results:\n",
      "[0.82835821 0.82835821]\n",
      "CV split 6 results:\n",
      "[0.82089552 0.82089552]\n",
      "CV split 7 results:\n",
      "[0.84328358 0.81343284]\n",
      "CV split 8 results:\n",
      "[0.86567164 0.81343284]\n",
      "CV split 9 results:\n",
      "[0.85820896 0.85820896]\n",
      "CV split 10 results:\n",
      "[0.88059701 0.85074627]\n",
      "CV split 11 results:\n",
      "[0.82706767 0.81203008]\n",
      "CV split 12 results:\n",
      "[0.86466165 0.81954887]\n",
      "CV split 13 results:\n",
      "[0.78195489 0.78947368]\n",
      "CV split 14 results:\n",
      "[0.83458647 0.82706767]\n",
      "CV split 15 results:\n",
      "[0.79699248 0.78195489]\n",
      "CV split 16 results:\n",
      "[0.87218045 0.85714286]\n",
      "CV split 17 results:\n",
      "[0.77443609 0.7593985 ]\n",
      "CV split 18 results:\n",
      "[0.7593985  0.76691729]\n",
      "CV split 19 results:\n",
      "[0.84962406 0.80451128]\n",
      "CV split 20 results:\n",
      "[0.84210526 0.81954887]\n",
      "CV split 21 results:\n",
      "[0.82706767 0.80451128]\n",
      "CV split 22 results:\n",
      "[0.79699248 0.80451128]\n",
      "CV split 23 results:\n",
      "[0.83458647 0.82706767]\n",
      "CV split 24 results:\n",
      "[0.81954887 0.80451128]\n",
      "CV split 25 results:\n",
      "[0.80451128 0.76691729]\n",
      "CV split 26 results:\n",
      "[0.86466165 0.81954887]\n",
      "CV split 27 results:\n",
      "[0.89473684 0.84210526]\n",
      "CV split 28 results:\n",
      "[0.84962406 0.82706767]\n",
      "CV split 29 results:\n",
      "[0.82706767 0.80451128]\n",
      "CV split 30 results:\n",
      "[0.84210526 0.81203008]\n",
      "Testing: SVC\n",
      "Fitting 30 folds for each of 2 candidates, totalling 60 fits\n"
     ]
    },
    {
     "name": "stderr",
     "output_type": "stream",
     "text": [
      "[Parallel(n_jobs=-1)]: Done  28 tasks      | elapsed:  5.0min\n",
      "[Parallel(n_jobs=-1)]: Done  60 out of  60 | elapsed:  9.9min finished\n"
     ]
    },
    {
     "name": "stdout",
     "output_type": "stream",
     "text": [
      "Test Accuracy: 86.300\n",
      "CV Accuracy: 86.825\n",
      "CV split 1 results:\n",
      "[0.89552239 0.8880597 ]\n",
      "CV split 2 results:\n",
      "[0.82089552 0.84328358]\n",
      "CV split 3 results:\n",
      "[0.8880597  0.86567164]\n",
      "CV split 4 results:\n",
      "[0.85820896 0.8880597 ]\n",
      "CV split 5 results:\n",
      "[0.87313433 0.90298507]\n",
      "CV split 6 results:\n",
      "[0.82835821 0.87313433]\n",
      "CV split 7 results:\n",
      "[0.87313433 0.89552239]\n",
      "CV split 8 results:\n",
      "[0.87313433 0.88059701]\n",
      "CV split 9 results:\n",
      "[0.8358209 0.8880597]\n",
      "CV split 10 results:\n",
      "[0.90298507 0.85074627]\n",
      "CV split 11 results:\n",
      "[0.90225564 0.84210526]\n",
      "CV split 12 results:\n",
      "[0.87969925 0.89473684]\n",
      "CV split 13 results:\n",
      "[0.86466165 0.85714286]\n",
      "CV split 14 results:\n",
      "[0.89473684 0.87969925]\n",
      "CV split 15 results:\n",
      "[0.80451128 0.84962406]\n",
      "CV split 16 results:\n",
      "[0.90225564 0.90977444]\n",
      "CV split 17 results:\n",
      "[0.81954887 0.80451128]\n",
      "CV split 18 results:\n",
      "[0.84962406 0.84962406]\n",
      "CV split 19 results:\n",
      "[0.84210526 0.81203008]\n",
      "CV split 20 results:\n",
      "[0.88721805 0.86466165]\n",
      "CV split 21 results:\n",
      "[0.90977444 0.89473684]\n",
      "CV split 22 results:\n",
      "[0.82706767 0.87218045]\n",
      "CV split 23 results:\n",
      "[0.92481203 0.87969925]\n",
      "CV split 24 results:\n",
      "[0.85714286 0.85714286]\n",
      "CV split 25 results:\n",
      "[0.80451128 0.82706767]\n",
      "CV split 26 results:\n",
      "[0.87969925 0.87218045]\n",
      "CV split 27 results:\n",
      "[0.83458647 0.83458647]\n",
      "CV split 28 results:\n",
      "[0.90225564 0.87218045]\n",
      "CV split 29 results:\n",
      "[0.90977444 0.90977444]\n",
      "CV split 30 results:\n",
      "[0.85714286 0.88721805]\n"
     ]
    }
   ],
   "source": [
    "from sklearn.pipeline import Pipeline\n",
    "from sklearn.linear_model import LogisticRegression\n",
    "from sklearn.naive_bayes import MultinomialNB\n",
    "from sklearn.feature_extraction.text import TfidfVectorizer\n",
    "from sklearn.model_selection import GridSearchCV\n",
    "from sklearn.svm import SVC\n",
    "\n",
    "\n",
    "tfidf = TfidfVectorizer(strip_accents=None,\n",
    "                        lowercase=False,\n",
    "                        preprocessor=None)\n",
    "\n",
    "results_list = []\n",
    "\n",
    "names = []\n",
    "\n",
    "raw_names = []\n",
    "\n",
    "cv_results = []\n",
    "\n",
    "predictions = []\n",
    "\n",
    "best_settings = []\n",
    "\n",
    "\n",
    "for func in [LogisticRegression(),\n",
    "                   MultinomialNB(alpha=1.0, class_prior=None, fit_prior=True),\n",
    "                   SVC(kernel='rbf', gamma=0.7, C=1.0)]:\n",
    "    results = {}\n",
    "    \n",
    "    stop_results = []\n",
    "    none_results = []\n",
    "    \n",
    "    print(\"Testing: \" + func.__class__.__name__)\n",
    "    \n",
    "    mnb_tfidf = Pipeline([('vect', tfidf),\n",
    "                     ('clf',  func)])\n",
    "                   \n",
    "    gs_mnb_tfidf = GridSearchCV(mnb_tfidf, param_grid0,\n",
    "                               scoring='accuracy',\n",
    "                               cv=cross_validation_iterations,\n",
    "                               verbose=1,\n",
    "                               n_jobs=-1)\n",
    "    \n",
    "    gs_mnb_tfidf.fit(X_train, y_train)\n",
    "    \n",
    "         \n",
    "    clf = gs_mnb_tfidf.best_estimator_\n",
    "    \n",
    "    print('Test Accuracy: %.3f' % (clf.score(X_test, y_test) * 100))\n",
    "\n",
    "    print('CV Accuracy: %.3f' % (gs_mnb_tfidf.best_score_ * 100))\n",
    "    \n",
    "    results['cv_acc'] = gs_mnb_tfidf.best_score_* 100\n",
    "    \n",
    "    results['accuracy'] = clf.score(X_test, y_test) * 100\n",
    "    \n",
    "    results['name'] = func.__class__.__name__ \n",
    "    \n",
    "    results_list.append(results)\n",
    "    \n",
    "    temp_split = []\n",
    "    \n",
    "    for split in range (0, gs_mnb_tfidf.n_splits_):\n",
    "        \n",
    "        print(\"CV split \" + str(split + 1) + \" results:\")\n",
    "        \n",
    "        print(gs_mnb_tfidf.cv_results_['split'+ str(split) +'_test_score'])\n",
    "        \n",
    "        stop_results.append(gs_mnb_tfidf.cv_results_['split'+ str(split) +'_test_score'][0])\n",
    "        none_results.append(gs_mnb_tfidf.cv_results_['split'+ str(split) +'_test_score'][1])\n",
    "        \n",
    "        \n",
    "    predictions.append(clf.predict(X_test))\n",
    "    best_settings.append(clf.get_params(GridSearchCV)['vect__stop_words']  )\n",
    "        \n",
    "    raw_names.append(func.__class__.__name__)\n",
    "    \n",
    "    names.append(func.__class__.__name__ + \" StopWords\")\n",
    "    cv_results.append(stop_results)\n",
    "\n",
    "    names.append(func.__class__.__name__ + \" None\")\n",
    "    cv_results.append(none_results)\n",
    "    \n",
    "    "
   ]
  },
  {
   "cell_type": "code",
   "execution_count": 19,
   "metadata": {},
   "outputs": [
    {
     "data": {
      "text/html": [
       "<div>\n",
       "<style scoped>\n",
       "    .dataframe tbody tr th:only-of-type {\n",
       "        vertical-align: middle;\n",
       "    }\n",
       "\n",
       "    .dataframe tbody tr th {\n",
       "        vertical-align: top;\n",
       "    }\n",
       "\n",
       "    .dataframe thead th {\n",
       "        text-align: right;\n",
       "    }\n",
       "</style>\n",
       "<table border=\"1\" class=\"dataframe\">\n",
       "  <thead>\n",
       "    <tr style=\"text-align: right;\">\n",
       "      <th></th>\n",
       "      <th>accuracy</th>\n",
       "      <th>cv_acc</th>\n",
       "      <th>name</th>\n",
       "    </tr>\n",
       "  </thead>\n",
       "  <tbody>\n",
       "    <tr>\n",
       "      <th>0</th>\n",
       "      <td>86.7</td>\n",
       "      <td>86.775</td>\n",
       "      <td>LogisticRegression</td>\n",
       "    </tr>\n",
       "    <tr>\n",
       "      <th>1</th>\n",
       "      <td>84.3</td>\n",
       "      <td>83.275</td>\n",
       "      <td>MultinomialNB</td>\n",
       "    </tr>\n",
       "    <tr>\n",
       "      <th>2</th>\n",
       "      <td>86.3</td>\n",
       "      <td>86.825</td>\n",
       "      <td>SVC</td>\n",
       "    </tr>\n",
       "  </tbody>\n",
       "</table>\n",
       "</div>"
      ],
      "text/plain": [
       "   accuracy  cv_acc                name\n",
       "0      86.7  86.775  LogisticRegression\n",
       "1      84.3  83.275       MultinomialNB\n",
       "2      86.3  86.825                 SVC"
      ]
     },
     "execution_count": 19,
     "metadata": {},
     "output_type": "execute_result"
    }
   ],
   "source": [
    "df_results = pd.DataFrame(results_list) \n",
    "df_results"
   ]
  },
  {
   "cell_type": "code",
   "execution_count": 20,
   "metadata": {},
   "outputs": [
    {
     "name": "stdout",
     "output_type": "stream",
     "text": [
      "LogisticRegression StopWords\n",
      "[0.8880597014925373, 0.835820895522388, 0.8880597014925373, 0.8582089552238806, 0.8582089552238806, 0.8208955223880597, 0.8731343283582089, 0.8731343283582089, 0.8432835820895522, 0.8880597014925373, 0.9022556390977443, 0.8796992481203008, 0.8721804511278195, 0.9022556390977443, 0.8270676691729323, 0.9097744360902256, 0.8421052631578947, 0.8345864661654135, 0.849624060150376, 0.8796992481203008, 0.9022556390977443, 0.8345864661654135, 0.9022556390977443, 0.8646616541353384, 0.8045112781954887, 0.8796992481203008, 0.8421052631578947, 0.8872180451127819, 0.9323308270676691, 0.8571428571428571]\n",
      "---\n",
      "LogisticRegression None\n",
      "[0.8731343283582089, 0.8432835820895522, 0.8582089552238806, 0.8507462686567164, 0.8880597014925373, 0.8731343283582089, 0.8880597014925373, 0.8656716417910447, 0.8507462686567164, 0.8432835820895522, 0.8571428571428571, 0.8721804511278195, 0.8421052631578947, 0.8721804511278195, 0.8345864661654135, 0.9172932330827067, 0.8045112781954887, 0.8646616541353384, 0.8345864661654135, 0.8421052631578947, 0.8947368421052632, 0.8796992481203008, 0.8796992481203008, 0.8345864661654135, 0.8195488721804511, 0.8796992481203008, 0.8345864661654135, 0.8646616541353384, 0.8796992481203008, 0.8421052631578947]\n",
      "---\n",
      "MultinomialNB StopWords\n",
      "[0.8432835820895522, 0.8507462686567164, 0.8507462686567164, 0.7761194029850746, 0.8283582089552238, 0.8208955223880597, 0.8432835820895522, 0.8656716417910447, 0.8582089552238806, 0.8805970149253731, 0.8270676691729323, 0.8646616541353384, 0.7819548872180451, 0.8345864661654135, 0.7969924812030075, 0.8721804511278195, 0.7744360902255639, 0.7593984962406015, 0.849624060150376, 0.8421052631578947, 0.8270676691729323, 0.7969924812030075, 0.8345864661654135, 0.8195488721804511, 0.8045112781954887, 0.8646616541353384, 0.8947368421052632, 0.849624060150376, 0.8270676691729323, 0.8421052631578947]\n",
      "---\n",
      "MultinomialNB None\n",
      "[0.8283582089552238, 0.8059701492537313, 0.8432835820895522, 0.7611940298507462, 0.8283582089552238, 0.8208955223880597, 0.8134328358208955, 0.8134328358208955, 0.8582089552238806, 0.8507462686567164, 0.8120300751879699, 0.8195488721804511, 0.7894736842105263, 0.8270676691729323, 0.7819548872180451, 0.8571428571428571, 0.7593984962406015, 0.7669172932330827, 0.8045112781954887, 0.8195488721804511, 0.8045112781954887, 0.8045112781954887, 0.8270676691729323, 0.8045112781954887, 0.7669172932330827, 0.8195488721804511, 0.8421052631578947, 0.8270676691729323, 0.8045112781954887, 0.8120300751879699]\n",
      "---\n",
      "SVC StopWords\n",
      "[0.8955223880597015, 0.8208955223880597, 0.8880597014925373, 0.8582089552238806, 0.8731343283582089, 0.8283582089552238, 0.8731343283582089, 0.8731343283582089, 0.835820895522388, 0.9029850746268657, 0.9022556390977443, 0.8796992481203008, 0.8646616541353384, 0.8947368421052632, 0.8045112781954887, 0.9022556390977443, 0.8195488721804511, 0.849624060150376, 0.8421052631578947, 0.8872180451127819, 0.9097744360902256, 0.8270676691729323, 0.924812030075188, 0.8571428571428571, 0.8045112781954887, 0.8796992481203008, 0.8345864661654135, 0.9022556390977443, 0.9097744360902256, 0.8571428571428571]\n",
      "---\n",
      "SVC None\n",
      "[0.8880597014925373, 0.8432835820895522, 0.8656716417910447, 0.8880597014925373, 0.9029850746268657, 0.8731343283582089, 0.8955223880597015, 0.8805970149253731, 0.8880597014925373, 0.8507462686567164, 0.8421052631578947, 0.8947368421052632, 0.8571428571428571, 0.8796992481203008, 0.849624060150376, 0.9097744360902256, 0.8045112781954887, 0.849624060150376, 0.8120300751879699, 0.8646616541353384, 0.8947368421052632, 0.8721804511278195, 0.8796992481203008, 0.8571428571428571, 0.8270676691729323, 0.8721804511278195, 0.8345864661654135, 0.8721804511278195, 0.9097744360902256, 0.8872180451127819]\n",
      "---\n"
     ]
    }
   ],
   "source": [
    "for method in range(0, len(cv_results)):\n",
    "    print(names[method])\n",
    "    print(cv_results[method])\n",
    "    print(\"---\")"
   ]
  },
  {
   "cell_type": "code",
   "execution_count": 21,
   "metadata": {},
   "outputs": [
    {
     "data": {
      "image/png": "[encoded data removed]",
      "text/plain": [
       "<Figure size 1152x720 with 2 Axes>"
      ]
     },
     "metadata": {},
     "output_type": "display_data"
    }
   ],
   "source": [
    "from matplotlib.ticker import MultipleLocator\n",
    "\n",
    "fig, axes = plt.subplots(nrows=1, ncols=2, figsize=(16, 10))\n",
    "\n",
    "for predict in range(0, len(predictions)):\n",
    "    fpr, tpr, threshold = roc_curve(y_test, predictions[predict]) \n",
    "\n",
    "# This is the AUC\n",
    "    the_auc = auc(fpr, tpr)\n",
    "# This is the ROC curve\n",
    "    if best_settings[predict]:\n",
    "        plot_label = \"`\" + raw_names[predict] + \"` with StopWords (area = \"+str(round(the_auc, 4))+\").\"\n",
    "    else:\n",
    "        plot_label = \"`\" + raw_names[predict] + \"` with no StopWords (area = \"+str(round(the_auc, 4))+\").\"\n",
    "    axes[0].plot(fpr,tpr, label=plot_label % (the_auc))\n",
    "    \n",
    "axes[0].plot([0, 1], [0, 1], 'k--') # diagonal\n",
    "\n",
    "axes[0].set_title('ROC Curve \\n'+\n",
    "                  'Best accuracy StopWord paramiter from each model. \\n' +\n",
    "                 'Quantity (Train: ' + str(X_train.count()) + '; Test:' + str(X_test.count())+') ')\n",
    "axes[0].set_xlabel('False positive rate')\n",
    "axes[0].set_ylabel('True positive rate')\n",
    "axes[0].legend(loc='best')\n",
    "axes[0].xaxis.grid(True)\n",
    "\n",
    "spacing = 0.1 # This can be your user specified spacing. \n",
    "minorLocator = MultipleLocator(spacing)\n",
    "\n",
    "axes[0].yaxis.set_minor_locator(minorLocator)\n",
    "axes[0].xaxis.set_minor_locator(minorLocator)\n",
    "axes[0].grid(which = 'minor')\n",
    "\n",
    "\n",
    "# box plot\n",
    "\n",
    "bplot2 = axes[1].boxplot(cv_results,\n",
    "                         vert=True,  # vertical box alignment\n",
    "                         patch_artist=True,  # fill with color\n",
    "                         labels=names\n",
    "                         )  # will be used to label x-ticks\n",
    "axes[1].set_title('Model Accuracy \\n'+ \n",
    "                  'Performed with ' + str(cross_validation_iterations) +' cross validation iterations. \\n' + \n",
    "                  'Quantity (Train: ' + str(X_train.count()) + '; Test:' + str(X_test.count())+') ')\n",
    "\n",
    "axes[1].set_xlabel('Models used')\n",
    "axes[1].set_ylabel('Accuracy Recorded (range(0 - 1) = 0 - 100%)')\n",
    "\n",
    "# fill with colors\n",
    "colors = ['#CBD9D6', '#8DA593', '#D9CBA3', '#F2A88C', '#D98282']\n",
    "for patch, color in zip(bplot2['boxes'], colors):\n",
    "    patch.set_facecolor(color)\n",
    "\n",
    "# adding horizontal grid lines\n",
    "for ax in axes:\n",
    "    ax.yaxis.grid(True)\n",
    "\n",
    "    \n",
    "    \n",
    "plt.xticks(rotation=90)\n",
    "plt.show()"
   ]
  },
  {
   "cell_type": "code",
   "execution_count": 33,
   "metadata": {},
   "outputs": [
    {
     "data": {
      "text/plain": [
       "<bound method CountVectorizer.get_feature_names of TfidfVectorizer(analyzer='word', binary=False, decode_error='strict',\n",
       "        dtype=<class 'numpy.int64'>, encoding='utf-8', input='content',\n",
       "        lowercase=False, max_df=1.0, max_features=None, min_df=1,\n",
       "        ngram_range=(1, 1), norm='l2', preprocessor=None, smooth_idf=True,\n",
       "        stop_words=None, strip_accents=None, sublinear_tf=False,\n",
       "        token_pattern='(?u)\\\\b\\\\w\\\\w+\\\\b', tokenizer=None, use_idf=True,\n",
       "        vocabulary=None)>"
      ]
     },
     "execution_count": 33,
     "metadata": {},
     "output_type": "execute_result"
    }
   ],
   "source": [
    "tfidf.get_feature_names"
   ]
  }
 ],
 "metadata": {
  "kernelspec": {
   "display_name": "Python 3",
   "language": "python",
   "name": "python3"
  },
  "language_info": {
   "codemirror_mode": {
    "name": "ipython",
    "version": 3
   },
   "file_extension": ".py",
   "mimetype": "text/x-python",
   "name": "python",
   "nbconvert_exporter": "python",
   "pygments_lexer": "ipython3",
   "version": "3.6.5"
  }
 },
 "nbformat": 4,
 "nbformat_minor": 2
}
