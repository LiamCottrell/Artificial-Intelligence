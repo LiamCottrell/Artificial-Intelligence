{
 "cells": [
  {
   "cell_type": "markdown",
   "metadata": {},
   "source": [
    "# Text Classification - IMDB"
   ]
  },
  {
   "cell_type": "markdown",
   "metadata": {},
   "source": [
    "# Imports "
   ]
  },
  {
   "cell_type": "code",
   "execution_count": 1,
   "metadata": {},
   "outputs": [],
   "source": [
    "import numpy as np\n",
    "import pandas as pd\n",
    "\n",
    "#for nlp\n",
    "import nltk\n",
    "from nltk.corpus import stopwords \n",
    "from nltk.stem.snowball import SnowballStemmer\n",
    "from nltk.corpus import stopwords\n",
    "\n",
    "#text vectorisation\n",
    "from sklearn.feature_extraction.text import CountVectorizer, TfidfTransformer, TfidfVectorizer\n",
    "\n",
    "#metrics\n",
    "from sklearn.metrics import classification_report, accuracy_score, roc_curve, auc\n",
    "\n",
    "#import method releated to evaluation\n",
    "from sklearn import model_selection\n",
    "from sklearn.pipeline import make_pipeline\n",
    "from sklearn.pipeline import Pipeline\n",
    "from sklearn.model_selection import train_test_split, KFold, StratifiedKFold, StratifiedShuffleSplit, ShuffleSplit, cross_val_score, GridSearchCV, RandomizedSearchCV\n",
    "\n",
    "#classifiers\n",
    "from sklearn.linear_model import LogisticRegression\n",
    "from sklearn.naive_bayes import MultinomialNB\n",
    "from sklearn.tree import DecisionTreeClassifier\n",
    "from sklearn.neighbors import KNeighborsClassifier\n",
    "from sklearn.discriminant_analysis import LinearDiscriminantAnalysis\n",
    "from sklearn.naive_bayes import GaussianNB\n",
    "from sklearn.neural_network import MLPClassifier\n",
    "from sklearn.svm import SVC\n",
    "\n",
    "#for graphs\n",
    "%matplotlib inline\n",
    "import matplotlib.pyplot as plt\n",
    "import seaborn as sns\n",
    "\n",
    "import warnings\n",
    "warnings.simplefilter(action='ignore', category=FutureWarning)"
   ]
  },
  {
   "cell_type": "code",
   "execution_count": 2,
   "metadata": {},
   "outputs": [],
   "source": [
    "# Global vairiables for script\n",
    "\n",
    "cross_validation_iterations = 30\n"
   ]
  },
  {
   "cell_type": "markdown",
   "metadata": {},
   "source": [
    "# Exploring the Dataset"
   ]
  },
  {
   "cell_type": "code",
   "execution_count": 3,
   "metadata": {},
   "outputs": [],
   "source": [
    "filename = 'movie_data_cat.csv'\n",
    "IMDB_dataframe = pd.read_csv(filename, encoding='utf-8')"
   ]
  },
  {
   "cell_type": "code",
   "execution_count": 4,
   "metadata": {
    "scrolled": false
   },
   "outputs": [
    {
     "data": {
      "text/html": [
       "<div>\n",
       "<style scoped>\n",
       "    .dataframe tbody tr th:only-of-type {\n",
       "        vertical-align: middle;\n",
       "    }\n",
       "\n",
       "    .dataframe tbody tr th {\n",
       "        vertical-align: top;\n",
       "    }\n",
       "\n",
       "    .dataframe thead th {\n",
       "        text-align: right;\n",
       "    }\n",
       "</style>\n",
       "<table border=\"1\" class=\"dataframe\">\n",
       "  <thead>\n",
       "    <tr style=\"text-align: right;\">\n",
       "      <th></th>\n",
       "      <th>review</th>\n",
       "      <th>sentiment</th>\n",
       "    </tr>\n",
       "  </thead>\n",
       "  <tbody>\n",
       "    <tr>\n",
       "      <th>0</th>\n",
       "      <td>In 1974, the teenager Martha Moxley (Maggie Gr...</td>\n",
       "      <td>pos</td>\n",
       "    </tr>\n",
       "    <tr>\n",
       "      <th>1</th>\n",
       "      <td>OK... so... I really like Kris Kristofferson a...</td>\n",
       "      <td>neg</td>\n",
       "    </tr>\n",
       "    <tr>\n",
       "      <th>2</th>\n",
       "      <td>***SPOILER*** Do not read this, if you think a...</td>\n",
       "      <td>neg</td>\n",
       "    </tr>\n",
       "    <tr>\n",
       "      <th>3</th>\n",
       "      <td>hi for all the people who have seen this wonde...</td>\n",
       "      <td>pos</td>\n",
       "    </tr>\n",
       "    <tr>\n",
       "      <th>4</th>\n",
       "      <td>I recently bought the DVD, forgetting just how...</td>\n",
       "      <td>neg</td>\n",
       "    </tr>\n",
       "  </tbody>\n",
       "</table>\n",
       "</div>"
      ],
      "text/plain": [
       "                                              review sentiment\n",
       "0  In 1974, the teenager Martha Moxley (Maggie Gr...       pos\n",
       "1  OK... so... I really like Kris Kristofferson a...       neg\n",
       "2  ***SPOILER*** Do not read this, if you think a...       neg\n",
       "3  hi for all the people who have seen this wonde...       pos\n",
       "4  I recently bought the DVD, forgetting just how...       neg"
      ]
     },
     "execution_count": 4,
     "metadata": {},
     "output_type": "execute_result"
    }
   ],
   "source": [
    "IMDB_dataframe.head()"
   ]
  },
  {
   "cell_type": "markdown",
   "metadata": {},
   "source": [
    "# Converting Class Index to int"
   ]
  },
  {
   "cell_type": "code",
   "execution_count": 5,
   "metadata": {},
   "outputs": [
    {
     "name": "stdout",
     "output_type": "stream",
     "text": [
      "{'neg': 0, 'pos': 1}\n"
     ]
    }
   ],
   "source": [
    "class_mapping = {label:idx for idx,label in enumerate(np.unique(IMDB_dataframe['sentiment']))}\n",
    "\n",
    "print(class_mapping)\n",
    "class_labels = [x for x in class_mapping] # store the class labels for later"
   ]
  },
  {
   "cell_type": "code",
   "execution_count": 6,
   "metadata": {},
   "outputs": [],
   "source": [
    "#use the mapping dictionary to transform the class labels into integers\n",
    "\n",
    "IMDB_dataframe[\"sentiment\"] = IMDB_dataframe[\"sentiment\"].map(class_mapping)\n"
   ]
  },
  {
   "cell_type": "code",
   "execution_count": 7,
   "metadata": {},
   "outputs": [
    {
     "data": {
      "text/html": [
       "<div>\n",
       "<style scoped>\n",
       "    .dataframe tbody tr th:only-of-type {\n",
       "        vertical-align: middle;\n",
       "    }\n",
       "\n",
       "    .dataframe tbody tr th {\n",
       "        vertical-align: top;\n",
       "    }\n",
       "\n",
       "    .dataframe thead th {\n",
       "        text-align: right;\n",
       "    }\n",
       "</style>\n",
       "<table border=\"1\" class=\"dataframe\">\n",
       "  <thead>\n",
       "    <tr style=\"text-align: right;\">\n",
       "      <th></th>\n",
       "      <th>review</th>\n",
       "      <th>sentiment</th>\n",
       "    </tr>\n",
       "  </thead>\n",
       "  <tbody>\n",
       "    <tr>\n",
       "      <th>0</th>\n",
       "      <td>In 1974, the teenager Martha Moxley (Maggie Gr...</td>\n",
       "      <td>1</td>\n",
       "    </tr>\n",
       "    <tr>\n",
       "      <th>1</th>\n",
       "      <td>OK... so... I really like Kris Kristofferson a...</td>\n",
       "      <td>0</td>\n",
       "    </tr>\n",
       "    <tr>\n",
       "      <th>2</th>\n",
       "      <td>***SPOILER*** Do not read this, if you think a...</td>\n",
       "      <td>0</td>\n",
       "    </tr>\n",
       "    <tr>\n",
       "      <th>3</th>\n",
       "      <td>hi for all the people who have seen this wonde...</td>\n",
       "      <td>1</td>\n",
       "    </tr>\n",
       "    <tr>\n",
       "      <th>4</th>\n",
       "      <td>I recently bought the DVD, forgetting just how...</td>\n",
       "      <td>0</td>\n",
       "    </tr>\n",
       "  </tbody>\n",
       "</table>\n",
       "</div>"
      ],
      "text/plain": [
       "                                              review  sentiment\n",
       "0  In 1974, the teenager Martha Moxley (Maggie Gr...          1\n",
       "1  OK... so... I really like Kris Kristofferson a...          0\n",
       "2  ***SPOILER*** Do not read this, if you think a...          0\n",
       "3  hi for all the people who have seen this wonde...          1\n",
       "4  I recently bought the DVD, forgetting just how...          0"
      ]
     },
     "execution_count": 7,
     "metadata": {},
     "output_type": "execute_result"
    }
   ],
   "source": [
    "IMDB_dataframe.head()"
   ]
  },
  {
   "cell_type": "markdown",
   "metadata": {},
   "source": [
    "# Cleaning up the Data"
   ]
  },
  {
   "cell_type": "code",
   "execution_count": 8,
   "metadata": {
    "scrolled": true
   },
   "outputs": [
    {
     "data": {
      "text/plain": [
       "'This is a big step down after the surprisingly enjoyable original. This sequel isn\\'t nearly as fun as part one, and it instead spends too much time on plot development. Tim Thomerson is still the best thing about this series, but his wisecracking is toned down in this entry. The performances are all adequate, but this time the script lets us down. The action is merely routine and the plot is only mildly interesting, so I need lots of silly laughs in order to stay entertained during a \"Trancers\" movie. Unfortunately, the laughs are few and far between, and so, this film is watchable at best.'"
      ]
     },
     "execution_count": 8,
     "metadata": {},
     "output_type": "execute_result"
    }
   ],
   "source": [
    "IMDB_dataframe.loc[42, 'review']#[-50:]"
   ]
  },
  {
   "cell_type": "code",
   "execution_count": 9,
   "metadata": {},
   "outputs": [],
   "source": [
    "#import regular expressions to clean up the text\n",
    "import re\n",
    "def preprocessor(text):\n",
    "    text = re.sub('<[^>]*>', '', text) # remove all html markup\n",
    "    emoticons = re.findall('(?::|;|=)(?:-)?(?:\\)|\\(|D|P)', text) # findall the emoticons\n",
    "    \n",
    "    # remove the non-word chars '[\\W]+'\n",
    "    # append the emoticons to end \n",
    "    #convert all to lowercase\n",
    "    # remove nose char for consistency\n",
    "    text = (re.sub('[\\W]+', ' ', text.lower()) +\n",
    "            ' '.join(emoticons).replace('-', '')) \n",
    "    return text"
   ]
  },
  {
   "cell_type": "code",
   "execution_count": 10,
   "metadata": {},
   "outputs": [
    {
     "data": {
      "text/plain": [
       "'this is a big step down after the surprisingly enjoyable original this sequel isn t nearly as fun as part one and it instead spends too much time on plot development tim thomerson is still the best thing about this series but his wisecracking is toned down in this entry the performances are all adequate but this time the script lets us down the action is merely routine and the plot is only mildly interesting so i need lots of silly laughs in order to stay entertained during a trancers movie unfortunately the laughs are few and far between and so this film is watchable at best '"
      ]
     },
     "execution_count": 10,
     "metadata": {},
     "output_type": "execute_result"
    }
   ],
   "source": [
    "preprocessor(IMDB_dataframe.loc[42, 'review'])#[-50:]"
   ]
  },
  {
   "cell_type": "code",
   "execution_count": 11,
   "metadata": {},
   "outputs": [],
   "source": [
    "# apply the preprocessor to the entire dataframe (i.e. column review)\n",
    "IMDB_dataframe['review'] = IMDB_dataframe['review'].apply(preprocessor)"
   ]
  },
  {
   "cell_type": "markdown",
   "metadata": {},
   "source": [
    "# Tokenise, Stemmer & Stop"
   ]
  },
  {
   "cell_type": "code",
   "execution_count": 12,
   "metadata": {},
   "outputs": [
    {
     "name": "stdout",
     "output_type": "stream",
     "text": [
      "[nltk_data] Downloading package stopwords to /root/nltk_data...\n",
      "[nltk_data]   Package stopwords is already up-to-date!\n"
     ]
    }
   ],
   "source": [
    "from nltk.corpus import stopwords \n",
    "\n",
    "nltk.download('stopwords')\n",
    "\n",
    "\n",
    "stop = set(stopwords.words('english'))\n",
    "stemmer = SnowballStemmer(\"english\")\n",
    "\n",
    "def tokenizer(text):\n",
    "    text = str(text)\n",
    "    return text.split()\n",
    "\n",
    "def tokenizer_stemmer(text):\n",
    "    return [stemmer.stem(word) for word in tokenizer(text)]#text.split()]\n",
    "\n",
    "\n",
    "def stop_removal(text):\n",
    "       return [w for w in text if not w in stop]\n",
    "    "
   ]
  },
  {
   "cell_type": "code",
   "execution_count": 13,
   "metadata": {
    "scrolled": true
   },
   "outputs": [
    {
     "data": {
      "text/plain": [
       "'this is a big step down after the surprisingly enjoyable original this sequel isn t nearly as fun as part one and it instead spends too much time on plot development tim thomerson is still the best thing about this series but his wisecracking is toned down in this entry the performances are all adequate but this time the script lets us down the action is merely routine and the plot is only mildly interesting so i need lots of silly laughs in order to stay entertained during a trancers movie unfortunately the laughs are few and far between and so this film is watchable at best '"
      ]
     },
     "execution_count": 13,
     "metadata": {},
     "output_type": "execute_result"
    }
   ],
   "source": [
    "IMDB_dataframe.loc[42, 'review']"
   ]
  },
  {
   "cell_type": "code",
   "execution_count": 14,
   "metadata": {},
   "outputs": [],
   "source": [
    "# IMDB_dataframe_subset = IMDB_dataframe.sample(n=10000) #Uncomment and comment line bellow for faster processing.\n",
    "IMDB_dataframe_subset = IMDB_dataframe"
   ]
  },
  {
   "cell_type": "markdown",
   "metadata": {},
   "source": [
    "# Training for Sentiment Classification"
   ]
  },
  {
   "cell_type": "code",
   "execution_count": 15,
   "metadata": {},
   "outputs": [],
   "source": [
    "X_val_train, X_test, y_val_train, y_test = train_test_split(\n",
    "     IMDB_dataframe_subset.iloc[:,0], IMDB_dataframe_subset.iloc[:,1], test_size=0.20, random_state=42)"
   ]
  },
  {
   "cell_type": "code",
   "execution_count": 16,
   "metadata": {},
   "outputs": [],
   "source": [
    "X_train, X_val, y_train, y_val = train_test_split(\n",
    "     X_val_train, y_val_train, test_size=0.10, random_state=42)"
   ]
  },
  {
   "cell_type": "code",
   "execution_count": 17,
   "metadata": {},
   "outputs": [
    {
     "name": "stdout",
     "output_type": "stream",
     "text": [
      "Number of entries for Training of best models: 36000\n",
      "Number of entries for Validating best models: 4000\n",
      "Number of entries for Testing best models: 10000\n"
     ]
    }
   ],
   "source": [
    "print(\"Number of entries for Training of best models: \" + str(len(X_train)))\n",
    "print(\"Number of entries for Validating best models: \" + str(len(X_val)))\n",
    "print(\"Number of entries for Testing best models: \" + str(len(X_test)))"
   ]
  },
  {
   "cell_type": "code",
   "execution_count": 18,
   "metadata": {},
   "outputs": [],
   "source": [
    "param_grid0 = [{'vect__ngram_range': [(1, 1), (1, 2), (1, 3)], #can also extract 2-grams of words in addition to the 1-grams (individual words)\n",
    "               'vect__stop_words': [stop, None], # use the stop dictionary of stopwords or not\n",
    "               'vect__tokenizer': [tokenizer_stemmer]}, # use a tokeniser and the stemmer \n",
    "               ]"
   ]
  },
  {
   "cell_type": "code",
   "execution_count": 19,
   "metadata": {},
   "outputs": [],
   "source": [
    "# LogisticRegression().get_params().keys()"
   ]
  },
  {
   "cell_type": "markdown",
   "metadata": {},
   "source": [
    "param_grids = [\n",
    "    # Logistical Regression Settings\n",
    "    {\n",
    "        'vect__ngram_range': [(1, 1), (1, 2), (1, 3)], #can also extract 2-grams of words in addition to the 1-grams (individual words)\n",
    "        'vect__stop_words': [stop, None], # use the stop dictionary of stopwords or not\n",
    "        'vect__tokenizer': [tokenizer_stemmer], # use a tokeniser and the stemmer\n",
    "        'clf__C': range(1, 5, 1)\n",
    "    },\n",
    "    # MultinomialNB Settings\n",
    "    {\n",
    "        'vect__ngram_range': [(1, 1), (1, 2), (1, 3)], #can also extract 2-grams of words in addition to the 1-grams (individual words)\n",
    "        'vect__stop_words': [stop, None], # use the stop dictionary of stopwords or not\n",
    "        'vect__tokenizer': [tokenizer_stemmer], # use a tokeniser and the stemmer\n",
    "        'clf__fit_prior': [True, False],\n",
    "        'clf__alpha': range(1, 5, 1)\n",
    "    },\n",
    "    # SVC Settings\n",
    "    {\n",
    "        'vect__ngram_range': [(1, 1), (1, 2), (1, 3)], #can also extract 2-grams of words in addition to the 1-grams (individual words)\n",
    "        'vect__stop_words': [stop, None], # use the stop dictionary of stopwords or not\n",
    "        'vect__tokenizer': [tokenizer_stemmer], # use a tokeniser and the stemmer\n",
    "        'clf__C': range(1, 5, 1),\n",
    "        'clf__kernel': ['rbf', 'linear', 'sigmoid'],\n",
    "        'clf__gamma': np.arange(0.0, 1.0, 0.1)\n",
    "    },\n",
    "    \n",
    "]"
   ]
  },
  {
   "cell_type": "code",
   "execution_count": 20,
   "metadata": {
    "scrolled": false
   },
   "outputs": [
    {
     "name": "stdout",
     "output_type": "stream",
     "text": [
      "Testing: LogisticRegression\n",
      "Fitting 3 folds for each of 8 candidates, totalling 24 fits\n"
     ]
    },
    {
     "name": "stderr",
     "output_type": "stream",
     "text": [
      "[Parallel(n_jobs=-1)]: Done  24 out of  24 | elapsed:  5.0min finished\n"
     ]
    },
    {
     "name": "stdout",
     "output_type": "stream",
     "text": [
      "Model cv score: 86.35000000000001\n",
      "Testing: MultinomialNB\n",
      "Fitting 3 folds for each of 16 candidates, totalling 48 fits\n"
     ]
    },
    {
     "name": "stderr",
     "output_type": "stream",
     "text": [
      "[Parallel(n_jobs=-1)]: Done  48 out of  48 | elapsed:  9.1min finished\n"
     ]
    },
    {
     "name": "stdout",
     "output_type": "stream",
     "text": [
      "Model cv score: 85.85000000000001\n",
      "Testing: SVC\n",
      "Fitting 3 folds for each of 64 candidates, totalling 192 fits\n"
     ]
    },
    {
     "name": "stderr",
     "output_type": "stream",
     "text": [
      "[Parallel(n_jobs=-1)]: Done  28 tasks      | elapsed:  9.5min\n",
      "[Parallel(n_jobs=-1)]: Done 192 out of 192 | elapsed: 57.2min finished\n"
     ]
    },
    {
     "name": "stdout",
     "output_type": "stream",
     "text": [
      "Model cv score: 87.35000000000001\n",
      "Best models created!\n"
     ]
    }
   ],
   "source": [
    "from sklearn.pipeline import Pipeline\n",
    "from sklearn.linear_model import LogisticRegression\n",
    "from sklearn.naive_bayes import MultinomialNB\n",
    "from sklearn.feature_extraction.text import TfidfVectorizer\n",
    "# from sklearn.model_selection import GridSearchCV\n",
    "from sklearn.svm import SVC\n",
    "\n",
    "\n",
    "tfidf = TfidfVectorizer(strip_accents=None,\n",
    "                        lowercase=False,\n",
    "                        preprocessor=None)\n",
    "\n",
    "\n",
    "base_models = [LogisticRegression(),\n",
    "                   MultinomialNB(class_prior = None),\n",
    "                   SVC()]\n",
    "\n",
    "\n",
    "# Quicker test settings\n",
    "param_grids = [\n",
    "    # Logistical Regression Settings\n",
    "    {\n",
    "        'vect__ngram_range': [(1, 1), (1, 3)], #can also extract 2-grams of words in addition to the 1-grams (individual words)\n",
    "        'vect__stop_words': [stop, None], # use the stop dictionary of stopwords or not\n",
    "        'vect__tokenizer': [tokenizer_stemmer], # use a tokeniser and the stemmer\n",
    "        'clf__C': range(2, 4, 1)\n",
    "    },\n",
    "    # MultinomialNB Settings\n",
    "    {\n",
    "        'vect__ngram_range': [(1, 1), (1, 3)], #can also extract 2-grams of words in addition to the 1-grams (individual words)\n",
    "        'vect__stop_words': [stop, None], # use the stop dictionary of stopwords or not\n",
    "        'vect__tokenizer': [tokenizer_stemmer], # use a tokeniser and the stemmer\n",
    "        'clf__fit_prior': [True, False],\n",
    "        'clf__alpha': range(4, 6, 1)\n",
    "    },\n",
    "    # SVC Settings\n",
    "    {\n",
    "        'vect__ngram_range': [(1, 1), (1, 3)], #can also extract 2-grams of words in addition to the 1-grams (individual words)\n",
    "        'vect__stop_words': [stop, None], # use the stop dictionary of stopwords or not\n",
    "        'vect__tokenizer': [tokenizer_stemmer], # use a tokeniser and the stemmer\n",
    "        'clf__C': range(1, 3, 1),\n",
    "        'clf__kernel': ['linear', 'sigmoid'],\n",
    "        'clf__gamma': np.arange(0.6, 0.9, 0.1)\n",
    "    },\n",
    "    \n",
    "]\n",
    "\n",
    "\n",
    "my_models = []\n",
    "\n",
    "def testModel(params, model):\n",
    "    print(\"Testing: \" + model.__class__.__name__)\n",
    "    \n",
    "    mnb_tfidf = Pipeline([('vect', tfidf),\n",
    "                     ('clf',  model)])\n",
    "                   \n",
    "    gs_mnb_tfidf = GridSearchCV(mnb_tfidf, params,\n",
    "                               scoring='accuracy',\n",
    "                               cv=3, #change to `cross_validation_iterations` if you have lots of time!\n",
    "                               verbose=1,\n",
    "                               n_jobs=-1)\n",
    "    \n",
    "#     print(sorted(mnb_tfidf.get_params().keys()))\n",
    "    \n",
    "    gs_mnb_tfidf.fit(X_val, y_val)\n",
    "    \n",
    "         \n",
    "    clf = gs_mnb_tfidf.best_estimator_\n",
    "    \n",
    "    print(\"Model cv score: \" + str(gs_mnb_tfidf.best_score_* 100))\n",
    "    \n",
    "    return clf\n",
    "  \n",
    "    \n",
    "    \n",
    "\n",
    "for item in range(0, len(base_models)):\n",
    "    best_model = testModel(param_grids[item], base_models[item]) \n",
    "    my_models.append((str(base_models[item].__class__.__name__), best_model))\n",
    "                  \n",
    " \n",
    "    \n",
    "    \n",
    "    \n",
    "print('Best models created!')"
   ]
  },
  {
   "cell_type": "code",
   "execution_count": 49,
   "metadata": {},
   "outputs": [
    {
     "name": "stdout",
     "output_type": "stream",
     "text": [
      "TfidfVectorizer(analyzer='word', binary=False, decode_error='strict',\n",
      "        dtype=<class 'numpy.int64'>, encoding='utf-8', input='content',\n",
      "        lowercase=False, max_df=1.0, max_features=None, min_df=1,\n",
      "        ngram_range=(1, 1), norm='l2', preprocessor=None, smooth_idf=True,\n",
      "        stop_words={'whom', 'of', 'yourselves', 've', 'than', 'if', 'their', \"don't\", 'itself', 'an', 'both', 'with', 'do', 'above', 'that', 'any', 'by', 'doesn', 'nor', 'will', 'had', 'i', 'did', \"it's\", 'isn', \"isn't\", 'didn', \"won't\", 'this', 'very', \"hasn't\", 'won', 'into', 'where', 'own', 'they', 'duri...uldn't\", \"shouldn't\", 'some', 'now', 'does', 'between', 'why', 'was', 'in', 'after', 'same', 'then'},\n",
      "        strip_accents=None, sublinear_tf=False,\n",
      "        token_pattern='(?u)\\\\b\\\\w\\\\w+\\\\b',\n",
      "        tokenizer=<function tokenizer_stemmer at 0x7f58283e6048>,\n",
      "        use_idf=True, vocabulary=None)\n",
      "TfidfVectorizer(analyzer='word', binary=False, decode_error='strict',\n",
      "        dtype=<class 'numpy.int64'>, encoding='utf-8', input='content',\n",
      "        lowercase=False, max_df=1.0, max_features=None, min_df=1,\n",
      "        ngram_range=(1, 3), norm='l2', preprocessor=None, smooth_idf=True,\n",
      "        stop_words={'whom', 'of', 'yourselves', 've', 'than', 'if', 'their', \"don't\", 'itself', 'an', 'both', 'with', 'do', 'above', 'that', 'any', 'by', 'doesn', 'nor', 'will', 'had', 'i', 'did', \"it's\", 'isn', \"isn't\", 'didn', \"won't\", 'this', 'very', \"hasn't\", 'won', 'into', 'where', 'own', 'they', 'duri...uldn't\", \"shouldn't\", 'some', 'now', 'does', 'between', 'why', 'was', 'in', 'after', 'same', 'then'},\n",
      "        strip_accents=None, sublinear_tf=False,\n",
      "        token_pattern='(?u)\\\\b\\\\w\\\\w+\\\\b',\n",
      "        tokenizer=<function tokenizer_stemmer at 0x7f58283e6048>,\n",
      "        use_idf=True, vocabulary=None)\n",
      "TfidfVectorizer(analyzer='word', binary=False, decode_error='strict',\n",
      "        dtype=<class 'numpy.int64'>, encoding='utf-8', input='content',\n",
      "        lowercase=False, max_df=1.0, max_features=None, min_df=1,\n",
      "        ngram_range=(1, 3), norm='l2', preprocessor=None, smooth_idf=True,\n",
      "        stop_words=None, strip_accents=None, sublinear_tf=False,\n",
      "        token_pattern='(?u)\\\\b\\\\w\\\\w+\\\\b',\n",
      "        tokenizer=<function tokenizer_stemmer at 0x7f58283e6048>,\n",
      "        use_idf=True, vocabulary=None)\n"
     ]
    }
   ],
   "source": [
    "print(my_models[0][1].get_params()['vect'])\n",
    "print(my_models[1][1].get_params()['vect'])\n",
    "print(my_models[2][1].get_params()['vect'])"
   ]
  },
  {
   "cell_type": "markdown",
   "metadata": {},
   "source": [
    "### Settings found to be good\n",
    "if you do not have time to test paramiters, settings bellow have found to be good:\n",
    "\n",
    "Remove StopWords\n",
    "```\n",
    "LogisticRegression(C=3, class_weight=None, dual=False, fit_intercept=True,\n",
    "          intercept_scaling=1, max_iter=100, multi_class='ovr', n_jobs=1,\n",
    "          penalty='l2', random_state=None, solver='liblinear', tol=0.0001,\n",
    "          verbose=0, warm_start=False)\n",
    "MultinomialNB(alpha=4, class_prior=None, fit_prior=False)\n",
    "SVC(C=2, cache_size=200, class_weight=None, coef0=0.0,\n",
    "  decision_function_shape='ovr', degree=3, gamma=0.8999999999999999,\n",
    "  kernel='sigmoid', max_iter=-1, probability=False, random_state=None,\n",
    "  shrinking=True, tol=0.001, verbose=False)\n",
    "  \n",
    "```"
   ]
  },
  {
   "cell_type": "code",
   "execution_count": 22,
   "metadata": {
    "scrolled": false
   },
   "outputs": [
    {
     "name": "stdout",
     "output_type": "stream",
     "text": [
      "---------------------------------\n",
      "Cross validation of model: LogisticRegression with settings: \n",
      "\n",
      "LogisticRegression(C=3, class_weight=None, dual=False, fit_intercept=True,\n",
      "          intercept_scaling=1, max_iter=100, multi_class='ovr', n_jobs=1,\n",
      "          penalty='l2', random_state=None, solver='liblinear', tol=0.0001,\n",
      "          verbose=0, warm_start=False)\n",
      "\n"
     ]
    },
    {
     "name": "stderr",
     "output_type": "stream",
     "text": [
      "[Parallel(n_jobs=-1)]: Done  30 out of  30 | elapsed: 26.9min finished\n"
     ]
    },
    {
     "name": "stdout",
     "output_type": "stream",
     "text": [
      "[0.89458333 0.90013889 0.89583333 0.90027778 0.89125    0.89277778\n",
      " 0.89319444 0.9        0.88958333 0.89388889 0.89541667 0.88777778\n",
      " 0.89305556 0.89319444 0.89388889 0.895      0.89652778 0.89486111\n",
      " 0.89236111 0.89597222 0.89291667 0.90055556 0.89666667 0.88652778\n",
      " 0.89236111 0.89569444 0.90194444 0.88611111 0.90027778 0.88722222]\n",
      "---------------------------------\n",
      "Complete\n",
      "---------------------------------\n",
      "Cross validation of model: MultinomialNB with settings: \n",
      "\n",
      "MultinomialNB(alpha=4, class_prior=None, fit_prior=False)\n",
      "\n"
     ]
    },
    {
     "name": "stderr",
     "output_type": "stream",
     "text": [
      "[Parallel(n_jobs=-1)]: Done  30 out of  30 | elapsed: 21.3min finished\n"
     ]
    },
    {
     "name": "stdout",
     "output_type": "stream",
     "text": [
      "[0.88055556 0.88444444 0.88       0.88263889 0.87833333 0.87555556\n",
      " 0.8875     0.88402778 0.88444444 0.8825     0.87972222 0.87777778\n",
      " 0.88347222 0.88361111 0.88180556 0.88013889 0.88277778 0.87986111\n",
      " 0.88222222 0.88236111 0.88486111 0.88305556 0.88083333 0.875\n",
      " 0.87888889 0.88111111 0.88597222 0.87805556 0.88194444 0.87666667]\n",
      "---------------------------------\n",
      "Complete\n",
      "---------------------------------\n",
      "Cross validation of model: SVC with settings: \n",
      "\n",
      "SVC(C=2, cache_size=200, class_weight=None, coef0=0.0,\n",
      "  decision_function_shape='ovr', degree=3, gamma=0.8999999999999999,\n",
      "  kernel='sigmoid', max_iter=-1, probability=False, random_state=None,\n",
      "  shrinking=True, tol=0.001, verbose=False)\n",
      "\n"
     ]
    },
    {
     "name": "stderr",
     "output_type": "stream",
     "text": [
      "[Parallel(n_jobs=-1)]: Done  30 out of  30 | elapsed: 535.6min finished\n"
     ]
    },
    {
     "name": "stdout",
     "output_type": "stream",
     "text": [
      "[0.91847222 0.92166667 0.91680556 0.91902778 0.91027778 0.91708333\n",
      " 0.91930556 0.92152778 0.91458333 0.91708333 0.91861111 0.91486111\n",
      " 0.91708333 0.91763889 0.91791667 0.91694444 0.91791667 0.91597222\n",
      " 0.91902778 0.91986111 0.91986111 0.91888889 0.91902778 0.91361111\n",
      " 0.91416667 0.92083333 0.92291667 0.91569444 0.91694444 0.91611111]\n",
      "---------------------------------\n",
      "Complete\n"
     ]
    }
   ],
   "source": [
    "results = []\n",
    "names = []\n",
    "roc_prediction = []\n",
    "for name, model in my_models:\n",
    "    print('---------------------------------')\n",
    "    print('Cross validation of model: ' + name + ' with settings: \\n')\n",
    "    print(str(model.get_params()['clf']) + '\\n')\n",
    "    \n",
    "    cv = ShuffleSplit(n_splits=cross_validation_iterations, test_size=0.2, random_state=42)\n",
    "    \n",
    "    cv_results = model_selection.cross_val_score(model, X_train, y_train, \n",
    "                                                 cv=cv, scoring='accuracy',\n",
    "                                                 verbose=1,\n",
    "                                                 n_jobs=-1)\n",
    "    roc_prediction.append(model.predict(X_test))\n",
    "    print(cv_results)\n",
    "    results.append(cv_results)\n",
    "    names.append(name)\n",
    "    print('---------------------------------')\n",
    "    print('Complete')\n",
    "    "
   ]
  },
  {
   "cell_type": "code",
   "execution_count": 34,
   "metadata": {},
   "outputs": [
    {
     "data": {
      "image/png": "[encoded data removed]",
      "text/plain": [
       "<Figure size 1152x720 with 2 Axes>"
      ]
     },
     "metadata": {},
     "output_type": "display_data"
    }
   ],
   "source": [
    "from matplotlib.ticker import MultipleLocator\n",
    "from math import *\n",
    "from statistics import *\n",
    "\n",
    "fig, axes = plt.subplots(nrows=1, ncols=2, figsize=(16, 10))\n",
    "\n",
    "for result in range(0, len(results)):\n",
    "    fpr, tpr, threshold = roc_curve(y_test, roc_prediction[result]) \n",
    "\n",
    "# This is the AUC\n",
    "    the_auc = auc(fpr, tpr)\n",
    "# This is the ROC curve\n",
    "\n",
    "    plot_label = \"`\" + names[result] + \"` (area = \"+str(round(the_auc, 4))+\").\"\n",
    "    \n",
    "    axes[0].plot(fpr,tpr, label=plot_label)\n",
    "\n",
    "axes[0].plot([0, 1], [0, 1], 'k--') # diagonal    \n",
    "\n",
    "axes[0].set_title('ROC Curve \\n'+\n",
    "                  'Best accuracy StopWord paramiter from each model. \\n' +\n",
    "                 'Quantity (Train: ' + str(X_train.count()) + '; Test:' + str(X_test.count())+') ')\n",
    "axes[0].set_xlabel('False positive rate')\n",
    "axes[0].set_ylabel('True positive rate')\n",
    "axes[0].legend(loc='best')\n",
    "axes[0].xaxis.grid(True)\n",
    "\n",
    "spacing = 0.1 # This can be your user specified spacing. \n",
    "minorLocator = MultipleLocator(spacing)\n",
    "\n",
    "axes[0].yaxis.set_minor_locator(minorLocator)\n",
    "axes[0].xaxis.set_minor_locator(minorLocator)\n",
    "axes[0].grid(which = 'minor')\n",
    "\n",
    "\n",
    "# box plot\n",
    "\n",
    "sd_labels = []\n",
    "\n",
    "for plot_name in range(0, len(results)):\n",
    "    sd_labels.append(names[plot_name] + \" (Std dev: \" + str(round(results[plot_name].std(), 5)) + \")\")\n",
    "\n",
    "bplot2 = axes[1].boxplot(results,\n",
    "                         vert=True,  # vertical box alignment\n",
    "                         patch_artist=True,  # fill with color\n",
    "                         labels=sd_labels\n",
    "                         )  # will be used to label x-ticks\n",
    "axes[1].set_title('Model Accuracy \\n'+ \n",
    "                  'Performed with ' + str(cross_validation_iterations) +' cross validation iterations. \\n' + \n",
    "                  'Quantity (Train: ' + str(X_train.count()) + '; Test:' + str(X_test.count())+') ')\n",
    "\n",
    "axes[1].set_xlabel('Models used')\n",
    "axes[1].set_ylabel('Accuracy Recorded (range(0 - 1) = 0 - 100%)')\n",
    "\n",
    "# fill with colors\n",
    "colors = ['#EBC7D5', '#D4EEF4', '#E9EFCA']\n",
    "for patch, color in zip(bplot2['boxes'], colors):\n",
    "    patch.set_facecolor(color)\n",
    "\n",
    "# adding horizontal grid lines\n",
    "for ax in axes:\n",
    "    ax.yaxis.grid(True)\n",
    "\n",
    "    \n",
    "    \n",
    "plt.xticks(rotation=90)\n",
    "plt.show()"
   ]
  },
  {
   "cell_type": "code",
   "execution_count": 46,
   "metadata": {},
   "outputs": [
    {
     "name": "stdout",
     "output_type": "stream",
     "text": [
      "Mean values\n",
      "LogisticRegression: 89.43%\n",
      "MultinomialNB: 88.13%\n",
      "SVC: 91.77%\n"
     ]
    }
   ],
   "source": [
    "print(\"Mean values\")\n",
    "for result in range(0, len(results)):\n",
    "    print(str(names[result])+ \": \" +str(round(results[result].mean()*100,2)) + \"%\")"
   ]
  },
  {
   "cell_type": "code",
   "execution_count": 47,
   "metadata": {},
   "outputs": [
    {
     "name": "stdout",
     "output_type": "stream",
     "text": [
      "Max values\n",
      "LogisticRegression: 90.19%\n",
      "MultinomialNB: 88.75%\n",
      "SVC: 92.29%\n"
     ]
    }
   ],
   "source": [
    "print(\"Max values\")\n",
    "for result in range(0, len(results)):\n",
    "    print(str(names[result])+ \": \" +str(round(results[result].max()*100,2)) + \"%\")"
   ]
  },
  {
   "cell_type": "code",
   "execution_count": 48,
   "metadata": {},
   "outputs": [
    {
     "name": "stdout",
     "output_type": "stream",
     "text": [
      "Standard Deviation\n",
      "LogisticRegression: 0.42%\n",
      "MultinomialNB: 0.3%\n",
      "SVC: 0.26%\n"
     ]
    }
   ],
   "source": [
    "print(\"Standard Deviation\")\n",
    "for result in range(0, len(results)):\n",
    "    print(str(names[result])+ \": \" +str(round(results[result].std()*100,2)) + \"%\")"
   ]
  }
 ],
 "metadata": {
  "kernelspec": {
   "display_name": "Python 3",
   "language": "python",
   "name": "python3"
  },
  "language_info": {
   "codemirror_mode": {
    "name": "ipython",
    "version": 3
   },
   "file_extension": ".py",
   "mimetype": "text/x-python",
   "name": "python",
   "nbconvert_exporter": "python",
   "pygments_lexer": "ipython3",
   "version": "3.6.5"
  }
 },
 "nbformat": 4,
 "nbformat_minor": 2
}
