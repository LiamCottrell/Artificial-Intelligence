{
 "cells": [
  {
   "cell_type": "markdown",
   "metadata": {},
   "source": [
    "# Liam Cottrell"
   ]
  },
  {
   "cell_type": "markdown",
   "metadata": {},
   "source": [
    "# First time\n",
    "\n",
    "If this is the first time you have run this program, please run the following code block. We plan to make use of the ggplot package in python, which will mean that we need to install it into our Annoconda Enviroment. Due to changes in the way that pandas methods have been updated, we will also need to update aspects of ggplot to be functional.\n",
    "\n",
    "#### Uncomment the bellow block of code first and run, after which, please re comment the block.\n",
    "\n",
    "After you perform these actions, perform a \"Restart and Run all\" option in the Kernal menu in your Jupyter Notebook."
   ]
  },
  {
   "cell_type": "code",
   "execution_count": null,
   "metadata": {},
   "outputs": [],
   "source": [
    "# import sys\n",
    "# !conda install --yes --prefix {sys.prefix} ggplot\n",
    "# !sed -i \"s,from pandas.lib import Timestamp,from pandas import Timestamp,g\" /opt/conda/lib/python3.6/site-packages/ggplot/stats/smoothers.py\n",
    "# !sed -i \"s,smoothed_data.sort('x'),smoothed_data.sort_values('x'),g\" /opt/conda/lib/python3.6/site-packages/ggplot/stats/stat_smooth.py"
   ]
  },
  {
   "cell_type": "markdown",
   "metadata": {},
   "source": [
    "### Imports for Application"
   ]
  },
  {
   "cell_type": "code",
   "execution_count": null,
   "metadata": {},
   "outputs": [],
   "source": [
    "# import all our libraries here\n",
    "%matplotlib inline \n",
    "import matplotlib.pyplot as plt # this library will be used for the scatter plot\n",
    "import numpy as np \n",
    "import pandas as pd # to manage data frames and reading csv files\n",
    "import random\n",
    "import pprint\n",
    "\n",
    "from ggplot import *\n",
    "\n",
    "from sklearn.preprocessing import StandardScaler\n",
    "from sklearn.neighbors import KNeighborsClassifier\n",
    "from sklearn.metrics import confusion_matrix\n",
    "from sklearn.metrics import f1_score\n",
    "# np.warnings.filterwarnings('ignore')"
   ]
  },
  {
   "cell_type": "code",
   "execution_count": null,
   "metadata": {},
   "outputs": [],
   "source": [
    "seed = 256712\n",
    "np.random.seed(seed)"
   ]
  },
  {
   "cell_type": "code",
   "execution_count": null,
   "metadata": {},
   "outputs": [],
   "source": [
    "def create_data_wrapper(dataset, training):\n",
    "    \"\"\"Return a tuple containing ``(training_data, validation_data,\n",
    "    test_data)``. Based on ``load_data``, but the format is more\n",
    "    convenient for use in our implementation of neural networks.\n",
    "    In particular, ``training_data`` is a list containing 50,000\n",
    "    2-tuples ``(x, y)``.  ``x`` is a 784-dimensional numpy.ndarray\n",
    "    containing the input image.  ``y`` is a 10-dimensional\n",
    "    numpy.ndarray representing the unit vector corresponding to the\n",
    "    correct digit for ``x``.\n",
    "    ``validation_data`` and ``test_data`` are lists containing 10,000\n",
    "    2-tuples ``(x, y)``.  In each case, ``x`` is a 784-dimensional\n",
    "    numpy.ndarry containing the input image, and ``y`` is the\n",
    "    corresponding classification, i.e., the digit values (integers)\n",
    "    corresponding to ``x``.\n",
    "    Obviously, this means we're using slightly different formats for\n",
    "    the training data and the validation / test data.  These formats\n",
    "    turn out to be the most convenient for use in our neural network\n",
    "    code.\"\"\"\n",
    "    my_inputs = [np.reshape(x, (len(dataset.iloc[:, 1:].columns), 1)) for x in dataset.values[:, 1:]]\n",
    "    if training:\n",
    "        my_results = [vectorized_result(y) for y in dataset.iloc[:,0]]\n",
    "    else:\n",
    "        my_results = dataset.iloc[:,0]\n",
    "    compliled_data = list(zip(my_inputs, my_results))\n",
    "    return compliled_data\n",
    "\n",
    "def vectorized_result(j):\n",
    "    \"\"\"Return a 10-dimensional unit vector with a 1.0 in the jth\n",
    "    position and zeroes elsewhere.  This is used to convert a digit\n",
    "    (0...9) into a corresponding desired output from the neural\n",
    "    network.\"\"\"\n",
    "    e = np.zeros((10, 1))\n",
    "    e[j] = 1.0\n",
    "    return e"
   ]
  },
  {
   "cell_type": "markdown",
   "metadata": {},
   "source": [
    "### ANN Network Class"
   ]
  },
  {
   "cell_type": "markdown",
   "metadata": {},
   "source": [
    "Class adapted from Repo found here: https://github.com/mnielsen/neural-networks-and-deep-learning"
   ]
  },
  {
   "cell_type": "code",
   "execution_count": null,
   "metadata": {},
   "outputs": [],
   "source": [
    "class Network(object):\n",
    "\n",
    "    def __init__(self, sizes):\n",
    "        \"\"\"The list ``sizes`` contains the number of neurons in the\n",
    "        respective layers of the network.  For example, if the list\n",
    "        was [2, 3, 1] then it would be a three-layer network, with the\n",
    "        first layer containing 2 neurons, the second layer 3 neurons,\n",
    "        and the third layer 1 neuron.  The biases and weights for the\n",
    "        network are initialized randomly, using a Gaussian\n",
    "        distribution with mean 0, and variance 1.  Note that the first\n",
    "        layer is assumed to be an input layer, and by convention we\n",
    "        won't set any biases for those neurons, since biases are only\n",
    "        ever used in computing the outputs from later layers.\"\"\"\n",
    "        self.num_layers = len(sizes)\n",
    "        self.sizes = sizes\n",
    "        self.biases = [np.random.randn(y, 1) for y in sizes[1:]]\n",
    "        self.weights = [np.random.randn(y, x)\n",
    "                        for x, y in zip(sizes[:-1], sizes[1:])]\n",
    "\n",
    "    def feedforward(self, a):\n",
    "        \"\"\"Return the output of the network if ``a`` is input.\"\"\"\n",
    "        for b, w in zip(self.biases, self.weights):\n",
    "            a = sigmoid(np.dot(w, a)+b)\n",
    "        return a\n",
    "\n",
    "    def SGD(self, training_data, test_data, epochs, mini_batch_size, eta, verbose):\n",
    "        \"\"\"Train the neural network using mini-batch stochastic\n",
    "        gradient descent.  The ``training_data`` is a list of tuples\n",
    "        ``(x, y)`` representing the training inputs and the desired\n",
    "        outputs.  The other non-optional parameters are\n",
    "        self-explanatory.  If ``test_data`` is provided then the\n",
    "        network will be evaluated against the test data after each\n",
    "        epoch, and partial progress printed out.  This is useful for\n",
    "        tracking progress, but slows things down substantially.\"\"\"\n",
    "\n",
    "        self.training_data = training_data\n",
    "        n = len(self.training_data)\n",
    "        \n",
    "        return_data = []\n",
    "\n",
    "        if test_data:\n",
    "            self.my_test_data = test_data\n",
    "            n_test = len(self.my_test_data)\n",
    "        else:\n",
    "            self.test_data = None\n",
    "\n",
    "        for j in range(epochs):\n",
    "            prepare_data = {}\n",
    "            prepare_data['epoch'] = j\n",
    "            prepare_data['data_quantity'] = n_test\n",
    "#             random.shuffle(self.training_data)\n",
    "            mini_batches = [\n",
    "               self.training_data[k:k+mini_batch_size]\n",
    "                for k in range(0, n, mini_batch_size)]\n",
    "            for mini_batch in mini_batches:\n",
    "                self.update_mini_batch(mini_batch, eta)\n",
    "            if test_data:\n",
    "                prepare_data['correct_quantity'] = self.evaluate(self.my_test_data)\n",
    "#                 print(prepare_data['correct_quantity'])\n",
    "                prepare_data['accuracy'] = (prepare_data['correct_quantity']/prepare_data['data_quantity'])*100\n",
    "                if verbose:\n",
    "                    print(\"Epoch {} : {} / {}\".format(j,self.evaluate(self.my_test_data),n_test));\n",
    "            else:\n",
    "                prepare_data['correct_values'] = None\n",
    "                if verbose:\n",
    "                    print(\"Epoch {} complete\".format(j))\n",
    "            return_data.append(prepare_data)\n",
    "                \n",
    "        return return_data\n",
    "\n",
    "    def update_mini_batch(self, mini_batch, eta):\n",
    "        \"\"\"Update the network's weights and biases by applying\n",
    "        gradient descent using backpropagation to a single mini batch.\n",
    "        The ``mini_batch`` is a list of tuples ``(x, y)``, and ``eta``\n",
    "        is the learning rate.\"\"\"\n",
    "        nabla_b = [np.zeros(b.shape) for b in self.biases]\n",
    "        nabla_w = [np.zeros(w.shape) for w in self.weights]\n",
    "        for x, y in mini_batch:\n",
    "            delta_nabla_b, delta_nabla_w = self.backprop(x, y)\n",
    "            nabla_b = [nb+dnb for nb, dnb in zip(nabla_b, delta_nabla_b)]\n",
    "            nabla_w = [nw+dnw for nw, dnw in zip(nabla_w, delta_nabla_w)]\n",
    "        self.weights = [w-(eta/len(mini_batch))*nw\n",
    "                        for w, nw in zip(self.weights, nabla_w)]\n",
    "        self.biases = [b-(eta/len(mini_batch))*nb\n",
    "                       for b, nb in zip(self.biases, nabla_b)]\n",
    "\n",
    "    def backprop(self, x, y):\n",
    "        \"\"\"Return a tuple ``(nabla_b, nabla_w)`` representing the\n",
    "        gradient for the cost function C_x.  ``nabla_b`` and\n",
    "        ``nabla_w`` are layer-by-layer lists of numpy arrays, similar\n",
    "        to ``self.biases`` and ``self.weights``.\"\"\"\n",
    "        nabla_b = [np.zeros(b.shape) for b in self.biases]\n",
    "        nabla_w = [np.zeros(w.shape) for w in self.weights]\n",
    "        # feedforward\n",
    "        activation = x\n",
    "        activations = [x] # list to store all the activations, layer by layer\n",
    "        zs = [] # list to store all the z vectors, layer by layer\n",
    "        for b, w in zip(self.biases, self.weights):\n",
    "            z = np.dot(w, activation)+b\n",
    "            zs.append(z)\n",
    "            activation = sigmoid(z)\n",
    "            activations.append(activation)\n",
    "        # backward pass\n",
    "        delta = self.cost_derivative(activations[-1], y) * \\\n",
    "            sigmoid_prime(zs[-1])\n",
    "        nabla_b[-1] = delta\n",
    "        nabla_w[-1] = np.dot(delta, activations[-2].transpose())\n",
    "        # Note that the variable l in the loop below is used a little\n",
    "        # differently to the notation in Chapter 2 of the book.  Here,\n",
    "        # l = 1 means the last layer of neurons, l = 2 is the\n",
    "        # second-last layer, and so on.  It's a renumbering of the\n",
    "        # scheme in the book, used here to take advantage of the fact\n",
    "        # that Python can use negative indices in lists.\n",
    "        for l in range(2, self.num_layers):\n",
    "            z = zs[-l]\n",
    "            sp = sigmoid_prime(z)\n",
    "            delta = np.dot(self.weights[-l+1].transpose(), delta) * sp\n",
    "            nabla_b[-l] = delta\n",
    "            nabla_w[-l] = np.dot(delta, activations[-l-1].transpose())\n",
    "        return (nabla_b, nabla_w)\n",
    "\n",
    "    def evaluate(self, comparison_data):\n",
    "        \"\"\"Return the number of test inputs for which the neural\n",
    "        network outputs the correct result. Note that the neural\n",
    "        network's output is assumed to be the index of whichever\n",
    "        neuron in the final layer has the highest activation.\"\"\"\n",
    "#         print(comparison_data)\n",
    "        test_results = [(np.argmax(self.feedforward(x)), y)\n",
    "                        for (x, y) in comparison_data]\n",
    "        return sum(int(x == y) for (x, y) in test_results)\n",
    "\n",
    "    def cost_derivative(self, output_activations, y):\n",
    "        \"\"\"Return the vector of partial derivatives \\partial C_x /\n",
    "        \\partial a for the output activations.\"\"\"\n",
    "        return (output_activations-y)\n",
    "\n",
    "#### Miscellaneous functions\n",
    "def sigmoid(z):\n",
    "    \"\"\"The sigmoid function.\"\"\"\n",
    "    return 1.0/(1.0+np.exp(-z))\n",
    "\n",
    "def sigmoid_prime(z):\n",
    "    \"\"\"Derivative of the sigmoid function.\"\"\"\n",
    "    return sigmoid(z)*(1-sigmoid(z))"
   ]
  },
  {
   "cell_type": "code",
   "execution_count": null,
   "metadata": {},
   "outputs": [],
   "source": [
    "wine_df_orig = pd.read_csv('data/wineQualityWhites.csv')\n",
    "wine_df_orig.head()"
   ]
  },
  {
   "cell_type": "code",
   "execution_count": null,
   "metadata": {},
   "outputs": [],
   "source": [
    "# remove first coloumn as just a repeat of the index.\n",
    "wine_df_filtered = wine_df_orig.iloc[:, 1:]\n",
    "# wine_df_filtered.head()"
   ]
  },
  {
   "cell_type": "code",
   "execution_count": null,
   "metadata": {},
   "outputs": [],
   "source": [
    "wine_df_filtered.hist(bins=50, figsize=(20,15))\n",
    "plt.show"
   ]
  },
  {
   "cell_type": "code",
   "execution_count": null,
   "metadata": {},
   "outputs": [],
   "source": [
    "# Create a 80\n",
    "# wine_train_valid_raw, wine_test_raw = np.split(wine_df_filtered, [int(.80*len(wine_df_filtered.index))])\n",
    "# wine_train_raw, wine_valid_raw = np.split(wine_train_valid_raw, [int(.80*len(wine_train_valid_raw.index))])\n",
    "\n",
    "wine_train_raw, wine_test_raw = np.split(wine_df_filtered, [int(.80*len(wine_df_filtered.index))])\n",
    "# wine_train = len(wine_df.index)\n",
    "print(len(wine_train_raw.index))\n",
    "# print(len(wine_valid_raw.index))\n",
    "print(len(wine_test_raw.index))"
   ]
  },
  {
   "cell_type": "code",
   "execution_count": null,
   "metadata": {},
   "outputs": [],
   "source": [
    "wine_train_raw.head()"
   ]
  },
  {
   "cell_type": "code",
   "execution_count": null,
   "metadata": {},
   "outputs": [],
   "source": [
    "wine_factors_train = wine_train_raw.iloc[:, 0:len(wine_train_raw.columns)]\n",
    "wine_quality_train = wine_train_raw.iloc[:, (len(wine_train_raw.columns)-1)]\n",
    "wine_factors_test = wine_test_raw.iloc[:, 0:len(wine_test_raw.columns)]\n",
    "wine_quality_test = wine_test_raw.iloc[:, (len(wine_test_raw.columns)-1)]"
   ]
  },
  {
   "cell_type": "code",
   "execution_count": null,
   "metadata": {},
   "outputs": [],
   "source": [
    "sc = StandardScaler()\n",
    "wine_factors_train[wine_factors_train.columns] = sc.fit_transform(wine_factors_train[wine_factors_train.columns])\n",
    "wine_factors_test[wine_factors_test.columns] = sc.transform(wine_factors_test[wine_factors_train.columns])"
   ]
  },
  {
   "cell_type": "code",
   "execution_count": null,
   "metadata": {},
   "outputs": [],
   "source": [
    "wine_train_formatted = wine_factors_train\n",
    "wine_train_formatted[wine_quality_train.name] = wine_quality_train\n",
    "\n",
    "wine_test_formatted = wine_factors_test\n",
    "wine_test_formatted[wine_quality_test.name] = wine_quality_test"
   ]
  },
  {
   "cell_type": "code",
   "execution_count": null,
   "metadata": {},
   "outputs": [],
   "source": [
    "# rearange the last coloumn to become the first\n",
    "wine_cols = wine_train_formatted.columns.tolist()\n",
    "wine_cols = wine_cols[-1:] + wine_cols[:-1]\n",
    "wine_train_formatted = wine_train_formatted[wine_cols]\n",
    "wine_test_formatted = wine_test_formatted[wine_cols]"
   ]
  },
  {
   "cell_type": "code",
   "execution_count": null,
   "metadata": {},
   "outputs": [],
   "source": [
    "wine_test_formatted.head()"
   ]
  },
  {
   "cell_type": "code",
   "execution_count": null,
   "metadata": {},
   "outputs": [],
   "source": [
    "wine_train= create_data_wrapper(wine_train_formatted, True)\n",
    "wine_test = create_data_wrapper(wine_test_formatted, False)"
   ]
  },
  {
   "cell_type": "markdown",
   "metadata": {},
   "source": [
    "Small epoch value to see effect on model accuaracy."
   ]
  },
  {
   "cell_type": "code",
   "execution_count": null,
   "metadata": {},
   "outputs": [],
   "source": [
    "small_epoch_net = Network([11, 50, 10])\n",
    "small_epoch_on_accuracy = small_epoch_net.SGD(wine_train, wine_test, 100, 10, 0.3, False)"
   ]
  },
  {
   "cell_type": "code",
   "execution_count": null,
   "metadata": {},
   "outputs": [],
   "source": [
    "small_epoch_on_accuracy_df = pd.DataFrame(small_epoch_on_accuracy)\n",
    "small_epoch_on_accuracy_df"
   ]
  },
  {
   "cell_type": "code",
   "execution_count": null,
   "metadata": {},
   "outputs": [],
   "source": [
    "ggplot(aes(x='epoch', y='accuracy'), data=small_epoch_on_accuracy_df) +\\\n",
    "    geom_line() +\\\n",
    "    stat_smooth(color='blue', span=0.2)"
   ]
  },
  {
   "cell_type": "markdown",
   "metadata": {},
   "source": [
    "Going to Test Model Accuracy depedning on the quantity of Epoch itterations.\n",
    "\n",
    "Data will start at 0, then progress to 1000 epochs."
   ]
  },
  {
   "cell_type": "code",
   "execution_count": null,
   "metadata": {},
   "outputs": [],
   "source": [
    "large_epoch_net = Network([11, 5, 10])\n",
    "large_epoch_on_accuracy = large_epoch_net.SGD(wine_train, wine_test, 1000, 10, 0.3, False)"
   ]
  },
  {
   "cell_type": "code",
   "execution_count": null,
   "metadata": {},
   "outputs": [],
   "source": [
    "# pprint.pprint(epoch_on_accuracy)\n",
    "large_epoch_on_accuracy_df = pd.DataFrame(large_epoch_on_accuracy)\n",
    "large_epoch_on_accuracy_df"
   ]
  },
  {
   "cell_type": "code",
   "execution_count": null,
   "metadata": {},
   "outputs": [],
   "source": [
    "ggplot(aes(x='epoch', y='accuracy'), data=large_epoch_on_accuracy_df) +\\\n",
    "    geom_line() +\\\n",
    "    stat_smooth(color='blue', span=0.8)"
   ]
  }
 ],
 "metadata": {
  "kernelspec": {
   "display_name": "Python 3",
   "language": "python",
   "name": "python3"
  },
  "language_info": {
   "codemirror_mode": {
    "name": "ipython",
    "version": 3
   },
   "file_extension": ".py",
   "mimetype": "text/x-python",
   "name": "python",
   "nbconvert_exporter": "python",
   "pygments_lexer": "ipython3",
   "version": "3.6.3"
  }
 },
 "nbformat": 4,
 "nbformat_minor": 2
}
