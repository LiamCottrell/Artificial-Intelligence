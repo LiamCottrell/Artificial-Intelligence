{
 "cells": [
  {
   "cell_type": "code",
   "execution_count": 1,
   "metadata": {},
   "outputs": [],
   "source": [
    "# !conda install --yes anaconda beautifulsoup4\n",
    "# !conda install --yes anaconda lxml"
   ]
  },
  {
   "cell_type": "code",
   "execution_count": 2,
   "metadata": {},
   "outputs": [],
   "source": [
    "import numpy as np\n",
    "import pandas as pd\n",
    "\n",
    "#for nlp\n",
    "import nltk\n",
    "from nltk.corpus import stopwords \n",
    "from nltk.stem.snowball import SnowballStemmer\n",
    "from nltk.corpus import stopwords\n",
    "\n",
    "#text vectorisation\n",
    "from sklearn.feature_extraction.text import CountVectorizer, TfidfTransformer, TfidfVectorizer\n",
    "\n",
    "#metrics\n",
    "from sklearn.metrics import classification_report, accuracy_score\n",
    "\n",
    "#import method releated to evaluation\n",
    "from sklearn import model_selection\n",
    "from sklearn.pipeline import make_pipeline\n",
    "from sklearn.pipeline import Pipeline\n",
    "from sklearn.model_selection import train_test_split, cross_val_score, GridSearchCV\n",
    "\n",
    "#classifiers\n",
    "from sklearn.linear_model import LogisticRegression\n",
    "from sklearn.naive_bayes import MultinomialNB\n",
    "\n",
    "#for graphs\n",
    "%matplotlib inline\n",
    "import matplotlib.pyplot as plt\n",
    "import seaborn as sns"
   ]
  },
  {
   "cell_type": "markdown",
   "metadata": {},
   "source": [
    "# Text Classification Case Study - Mobile Text Spam Detection\n",
    "We first load the text data  \"SMSSpamCollection\"\n",
    "\n",
    "Furthermore, we perform some simple preprocessing and split the data array into two parts:\n",
    "\n",
    "1. `text`: A list of lists, where each sublists contains the contents of our emails\n",
    "2. `y`: our SPAM vs HAM labels stored in binary; a 1 represents a spam message, and a 0 represnts a ham (non-spam) message. "
   ]
  },
  {
   "cell_type": "code",
   "execution_count": 3,
   "metadata": {},
   "outputs": [],
   "source": [
    "filename = 'data/SMSSpamData.csv'\n",
    "df = pd.read_csv(filename) "
   ]
  },
  {
   "cell_type": "markdown",
   "metadata": {},
   "source": [
    "# Exercise\n",
    "- Examine the df dataframe using functions such as df.head(10), df.columns and df.shape, df.describe\n",
    "- How many text messages are contained in this dataset?\n",
    "\n",
    "You will notice that the class labels column is categorical. This means that we must convert them to integers. \n",
    "The code in the next cell does this by creating a mapping between 'spam' to 1 and 'ham' to 0"
   ]
  },
  {
   "cell_type": "code",
   "execution_count": 4,
   "metadata": {},
   "outputs": [
    {
     "name": "stdout",
     "output_type": "stream",
     "text": [
      "{'ham': 0, 'spam': 1}\n"
     ]
    }
   ],
   "source": [
    "class_mapping = {label:idx for idx,label in enumerate(np.unique(df['class']))}\n",
    "\n",
    "print(class_mapping)\n",
    "class_labels = [x for x in class_mapping] # store the class labels for later"
   ]
  },
  {
   "cell_type": "code",
   "execution_count": 5,
   "metadata": {},
   "outputs": [],
   "source": [
    "#use the mapping dictionary to transform the class labels into integers\n",
    "\n",
    "df[\"class\"] = df[\"class\"].map(class_mapping)\n"
   ]
  },
  {
   "cell_type": "code",
   "execution_count": 6,
   "metadata": {},
   "outputs": [
    {
     "data": {
      "text/html": [
       "<div>\n",
       "<style scoped>\n",
       "    .dataframe tbody tr th:only-of-type {\n",
       "        vertical-align: middle;\n",
       "    }\n",
       "\n",
       "    .dataframe tbody tr th {\n",
       "        vertical-align: top;\n",
       "    }\n",
       "\n",
       "    .dataframe thead th {\n",
       "        text-align: right;\n",
       "    }\n",
       "</style>\n",
       "<table border=\"1\" class=\"dataframe\">\n",
       "  <thead>\n",
       "    <tr style=\"text-align: right;\">\n",
       "      <th></th>\n",
       "      <th>class</th>\n",
       "      <th>sms_msg</th>\n",
       "    </tr>\n",
       "  </thead>\n",
       "  <tbody>\n",
       "    <tr>\n",
       "      <th>0</th>\n",
       "      <td>0</td>\n",
       "      <td>Go until jurong point, crazy.. Available only ...</td>\n",
       "    </tr>\n",
       "    <tr>\n",
       "      <th>1</th>\n",
       "      <td>0</td>\n",
       "      <td>Ok lar... Joking wif u oni...</td>\n",
       "    </tr>\n",
       "    <tr>\n",
       "      <th>2</th>\n",
       "      <td>1</td>\n",
       "      <td>Free entry in 2 a wkly comp to win FA Cup fina...</td>\n",
       "    </tr>\n",
       "  </tbody>\n",
       "</table>\n",
       "</div>"
      ],
      "text/plain": [
       "   class                                            sms_msg\n",
       "0      0  Go until jurong point, crazy.. Available only ...\n",
       "1      0                      Ok lar... Joking wif u oni...\n",
       "2      1  Free entry in 2 a wkly comp to win FA Cup fina..."
      ]
     },
     "execution_count": 6,
     "metadata": {},
     "output_type": "execute_result"
    }
   ],
   "source": [
    "df.head(3)"
   ]
  },
  {
   "cell_type": "markdown",
   "metadata": {},
   "source": [
    "## Why do we need to preprocess raw text?\n",
    "User generated content particularly such as social media and text messaging normally contain non-word content.\n",
    "\n",
    "Whilst some of this content will be useful (e.g. emoji for sentiment analysis) to a given task; others won't. \n",
    "\n",
    "Accordingly we use regular expressions to clean our text before we can continue with converting text messages into vectors which can then form input into a sklearn classification algorithm. \n",
    "\n",
    "Use the next cell to explore different messages and the types of html tage, emojis and special chars that are contained in this dataset. "
   ]
  },
  {
   "cell_type": "code",
   "execution_count": 7,
   "metadata": {},
   "outputs": [
    {
     "data": {
      "text/plain": [
       "'XXXMobileMovieClub: To use your credit, click the WAP link in the next txt message or click here>> http://wap. xxxmobilemovieclub.com?n=QJKGIGHJJGCBL'"
      ]
     },
     "execution_count": 7,
     "metadata": {},
     "output_type": "execute_result"
    }
   ],
   "source": [
    "df.loc[15, 'sms_msg']"
   ]
  },
  {
   "cell_type": "markdown",
   "metadata": {},
   "source": [
    "## Regular expressions to clean text"
   ]
  },
  {
   "cell_type": "code",
   "execution_count": 8,
   "metadata": {},
   "outputs": [],
   "source": [
    "#import regular expressions to clean up the text\n",
    "import re\n",
    "def preprocessor(text):\n",
    "    text = re.sub('<[^>]*>', '', text) # remove all html markup\n",
    "    emoticons = re.findall('(?::|;|=)(?:-)?(?:\\)|\\(|D|P)', text) # findall the emoticons\n",
    "    \n",
    "    # remove the non-word chars '[\\W]+'\n",
    "    # append the emoticons to end \n",
    "    #convert all to lowercase\n",
    "    # remove nose char for consistency\n",
    "    text = (re.sub('[\\W]+', ' ', text.lower()) +\n",
    "            ' '.join(emoticons).replace('-', '')) \n",
    "    return text"
   ]
  },
  {
   "cell_type": "code",
   "execution_count": 9,
   "metadata": {},
   "outputs": [
    {
     "data": {
      "text/plain": [
       "'xxxmobilemovieclub to use your credit click the wap link in the next txt message or click here http wap xxxmobilemovieclub com n qjkgighjjgcbl'"
      ]
     },
     "execution_count": 9,
     "metadata": {},
     "output_type": "execute_result"
    }
   ],
   "source": [
    "preprocessor(df.loc[15, 'sms_msg'])"
   ]
  },
  {
   "cell_type": "code",
   "execution_count": 10,
   "metadata": {},
   "outputs": [],
   "source": [
    "# apply the preprocessor to the entire dataframe (i.e. column review)\n",
    "df['sms_msg'] = df['sms_msg'].apply(preprocessor)"
   ]
  },
  {
   "cell_type": "code",
   "execution_count": 11,
   "metadata": {},
   "outputs": [
    {
     "name": "stdout",
     "output_type": "stream",
     "text": [
      "[nltk_data] Downloading package stopwords to /root/nltk_data...\n",
      "[nltk_data]   Package stopwords is already up-to-date!\n"
     ]
    },
    {
     "data": {
      "text/plain": [
       "True"
      ]
     },
     "execution_count": 11,
     "metadata": {},
     "output_type": "execute_result"
    }
   ],
   "source": [
    "# download the stopwords if not done before (need an Internet connection)\n",
    "nltk.download('stopwords')"
   ]
  },
  {
   "cell_type": "markdown",
   "metadata": {},
   "source": [
    "# A basic text pre-processing pipeline\n",
    "The basic pipeline includes stopword removal, tokenising and stemming. "
   ]
  },
  {
   "cell_type": "code",
   "execution_count": 12,
   "metadata": {},
   "outputs": [],
   "source": [
    "\n",
    "stop = set(stopwords.words('english'))\n",
    "stemmer = SnowballStemmer(\"english\")\n",
    "\n",
    "def tokenizer(text):\n",
    "       return text.split()\n",
    "\n",
    "def tokenizer_stemmer(text):\n",
    "    return [stemmer.stem(word) for word in tokenizer(text)]#text.split()]\n",
    "\n",
    "\n",
    "def stop_removal(text):\n",
    "       return [w for w in text if not w in stop]"
   ]
  },
  {
   "cell_type": "code",
   "execution_count": 13,
   "metadata": {},
   "outputs": [
    {
     "data": {
      "text/plain": [
       "'hi you just spoke to maneesha v we d like to know if you were satisfied with the experience reply toll free with yes or no '"
      ]
     },
     "execution_count": 13,
     "metadata": {},
     "output_type": "execute_result"
    }
   ],
   "source": [
    "df.loc[180, 'sms_msg']"
   ]
  },
  {
   "cell_type": "markdown",
   "metadata": {},
   "source": [
    " # Exercise\n",
    " - Explore how each of the preprocessors can be applied to the an example message. \n",
    " - Would you consider different rules for this dataset compared to the IMDB dataset?"
   ]
  },
  {
   "cell_type": "markdown",
   "metadata": {},
   "source": [
    "#  Vectorisation of text data\n",
    "Next lets prepare the data using the CountVectorizer to parse the text data into a bag-of-words model.\n",
    "Thereafter fit a sklearn calssifier.\n",
    "First we start by creating a basic train_test_split to check that the data is trasnformed correctly before setting up a comparative study."
   ]
  },
  {
   "cell_type": "code",
   "execution_count": 14,
   "metadata": {},
   "outputs": [],
   "source": [
    "from sklearn.model_selection import train_test_split\n",
    "\n",
    "X = df.loc[:, 'sms_msg'].values\n",
    "y = df.loc[:, 'class'].values\n",
    "\n",
    "text_train, text_test, y_train, y_test = train_test_split(X, y, \n",
    "                                                          random_state=42,\n",
    "                                                          test_size=0.25,\n",
    "                                                          stratify=y)"
   ]
  },
  {
   "cell_type": "markdown",
   "metadata": {},
   "source": [
    "# CountVectorizer\n",
    "This method converts the text into count vector or a binary vector. For details of the avaiable parameters please refer to \n",
    "http://scikit-learn.org/stable/modules/generated/sklearn.feature_extraction.text.CountVectorizer.html\n",
    "\n",
    "In particular read up on:\n",
    "- how to vectorise with n_gram_range using different n-grams i.e. unigram, bigram etc- how to vectorise with \n",
    "- how to ignore terms that appear in less than a set number of documents with min_df; and conversely with max_df\n",
    "- how to restrict the vocabulary with max_features\n",
    "- how to set callable preprocessing steps with preprocessor\n",
    "\n",
    "\n",
    "## Exercise \n",
    "Modify the code below to explore parameters such as min_df; max_df; max_features etc."
   ]
  },
  {
   "cell_type": "code",
   "execution_count": 15,
   "metadata": {},
   "outputs": [],
   "source": [
    "vectorizer = CountVectorizer()\n",
    "vectorizer.fit(X) # Learn a vocabulary dictionary of all tokens in the raw documents.\n",
    "\n",
    "X_train = vectorizer.transform(text_train)\n",
    "X_test = vectorizer.transform(text_test)"
   ]
  },
  {
   "cell_type": "code",
   "execution_count": 16,
   "metadata": {},
   "outputs": [
    {
     "name": "stdout",
     "output_type": "stream",
     "text": [
      "(4180, 8713)\n",
      "(1394, 8713)\n"
     ]
    }
   ],
   "source": [
    "print(X_train.shape)\n",
    "print(X_test.shape)"
   ]
  },
  {
   "cell_type": "code",
   "execution_count": 17,
   "metadata": {},
   "outputs": [
    {
     "name": "stdout",
     "output_type": "stream",
     "text": [
      "Sice of the vocabulary or the number of features in the vector  8713\n"
     ]
    }
   ],
   "source": [
    "print('Sice of the vocabulary or the number of features in the vector ', len(vectorizer.vocabulary_))"
   ]
  },
  {
   "cell_type": "code",
   "execution_count": 18,
   "metadata": {},
   "outputs": [
    {
     "name": "stdout",
     "output_type": "stream",
     "text": [
      "['cheery', 'cheese', 'cheesy', 'cheetos', 'chef', 'chennai', 'cheque', 'cherish', 'cherthala', 'chess', 'chest', 'chex', 'cheyyamo', 'chez', 'chg', 'chgs', 'chic', 'chick', 'chicken', 'chickened']\n"
     ]
    }
   ],
   "source": [
    "print(vectorizer.get_feature_names()[2000:2020]) #Array mapping from feature integer indices to feature name"
   ]
  },
  {
   "cell_type": "markdown",
   "metadata": {},
   "source": [
    "### Training a Classifier on Text Features"
   ]
  },
  {
   "cell_type": "markdown",
   "metadata": {},
   "source": [
    "Now that we have transformed our text into a vector form, we can train a classifier, for instance a logistic regression classifier, which is a fast baseline for text classification tasks:"
   ]
  },
  {
   "cell_type": "code",
   "execution_count": 19,
   "metadata": {},
   "outputs": [
    {
     "data": {
      "text/plain": [
       "LogisticRegression(C=1.0, class_weight=None, dual=False, fit_intercept=True,\n",
       "          intercept_scaling=1, max_iter=100, multi_class='ovr', n_jobs=1,\n",
       "          penalty='l2', random_state=None, solver='liblinear', tol=0.0001,\n",
       "          verbose=0, warm_start=False)"
      ]
     },
     "execution_count": 19,
     "metadata": {},
     "output_type": "execute_result"
    }
   ],
   "source": [
    "from sklearn.linear_model import LogisticRegression\n",
    "\n",
    "clf = LogisticRegression()\n",
    "clf"
   ]
  },
  {
   "cell_type": "code",
   "execution_count": 20,
   "metadata": {},
   "outputs": [
    {
     "data": {
      "text/plain": [
       "LogisticRegression(C=1.0, class_weight=None, dual=False, fit_intercept=True,\n",
       "          intercept_scaling=1, max_iter=100, multi_class='ovr', n_jobs=1,\n",
       "          penalty='l2', random_state=None, solver='liblinear', tol=0.0001,\n",
       "          verbose=0, warm_start=False)"
      ]
     },
     "execution_count": 20,
     "metadata": {},
     "output_type": "execute_result"
    }
   ],
   "source": [
    "clf.fit(X_train, y_train)"
   ]
  },
  {
   "cell_type": "markdown",
   "metadata": {},
   "source": [
    "We can now evaluate the classifier on the testing set. Let's first use the built-in score function, which is the rate of correct classification in the test set:"
   ]
  },
  {
   "cell_type": "code",
   "execution_count": 21,
   "metadata": {},
   "outputs": [
    {
     "data": {
      "text/plain": [
       "0.9849354375896701"
      ]
     },
     "execution_count": 21,
     "metadata": {},
     "output_type": "execute_result"
    }
   ],
   "source": [
    "clf.score(X_test, y_test)"
   ]
  },
  {
   "cell_type": "markdown",
   "metadata": {},
   "source": [
    "We can also compute the score on the training set to see how well we do there:"
   ]
  },
  {
   "cell_type": "code",
   "execution_count": 22,
   "metadata": {},
   "outputs": [
    {
     "data": {
      "text/plain": [
       "0.9983253588516746"
      ]
     },
     "execution_count": 22,
     "metadata": {},
     "output_type": "execute_result"
    }
   ],
   "source": [
    "clf.score(X_train, y_train)"
   ]
  },
  {
   "cell_type": "markdown",
   "metadata": {},
   "source": [
    "# Setting up a pipeline \n",
    "In the previous example we carried out several steps involving: count vectorising; tfidf transforming and then applying this to both the train and test before fitting a classifier for preditcion. \n",
    "This pipeline of trnasformation steps and the final prediction can be carried out by setting up a pipeline.\n",
    "Instead of using the transformed vectors of X_train and Y_train ; we will use the original train and test which contained the text data i.e. text_train and text_test. These can then be sent through the transformation piepline steps. "
   ]
  },
  {
   "cell_type": "code",
   "execution_count": 23,
   "metadata": {},
   "outputs": [
    {
     "name": "stdout",
     "output_type": "stream",
     "text": [
      "accuracy 0.9734576757532282\n",
      "             precision    recall  f1-score   support\n",
      "\n",
      "        ham       0.97      1.00      0.98      1207\n",
      "       spam       1.00      0.80      0.89       187\n",
      "\n",
      "avg / total       0.97      0.97      0.97      1394\n",
      "\n"
     ]
    }
   ],
   "source": [
    "pipeline = make_pipeline(\n",
    "    CountVectorizer(),\n",
    "    TfidfTransformer(),\n",
    "    LogisticRegression(random_state=1))\n",
    "\n",
    "pipeline.fit(text_train, y_train)\n",
    "\n",
    "print('accuracy %s' % pipeline.score(text_test, y_test))\n",
    "\n",
    "y_pred = pipeline.predict(text_test)\n",
    "print(classification_report(y_test, y_pred,target_names=class_labels))\n"
   ]
  },
  {
   "cell_type": "markdown",
   "metadata": {},
   "source": [
    "# Exercise\n",
    "Modify the code above to:\n",
    "- use a Multinomial Naive Bayes instead of a Logistic Regression classifier\n"
   ]
  },
  {
   "cell_type": "markdown",
   "metadata": {},
   "source": [
    "# Setting up a gridsearch with Cross Validation\n",
    "In the previous cells we calculated results based in a single test-train split. \n",
    "Ideally we want to do this using cross-validation. For this purpose we can use GridSearchCV."
   ]
  },
  {
   "cell_type": "markdown",
   "metadata": {},
   "source": [
    "First we will setup a parameter grid search for the TfidfVectorizer (which combines CountVectorizer() \n",
    "with TfidfTransformer().\n",
    "Details of this function provides many possible parameters (see http://scikit-learn.org/stable/modules/generated/sklearn.feature_extraction.text.TfidfVectorizer.html). \n",
    "\n",
    "Some of the common parameters you may want to explore are listed below with some examples settings:\n",
    "\n",
    "min_df=1,  # min count for relevant vocabulary\n",
    "    \n",
    "max_features=4000,  # maximum number of features\n",
    "\n",
    "strip_accents='unicode',  # replace all accented unicode char by their corresponding  ASCII char\n",
    "\n",
    "analyzer='word',  # features made of words\n",
    "\n",
    "token_pattern=r'\\w{1,}',  # tokenize only words of 4+ chars\n",
    "\n",
    "ngram_range=(1, 1),  # features made of a single tokens\n",
    "\n",
    "use_idf=True,  # enable inverse-document-frequency reweighting\n",
    "\n",
    "smooth_idf=True,  # prevents zero division for unseen words\n",
    "\n",
    "In order to specify a specific parameter in a gridsearch we must use the estimator\\__parameter syntax. \n",
    "\n",
    "For instance if we want to specify a specific value for min_df; we state it as; 'tfidfvectorizer\\__min_df'\n",
    "\n",
    "In the follow-on code we set up alternative values for a few parameters and use a pipeline to setup the cross validation study to search the best combination of parameter values. "
   ]
  },
  {
   "cell_type": "code",
   "execution_count": 24,
   "metadata": {},
   "outputs": [],
   "source": [
    "param_grid = [{'tfidfvectorizer__ngram_range': [(1, 1)], #can also extract 2-grams of words in addition to the 1-grams (individual words)\n",
    "               'tfidfvectorizer__stop_words': [stop, None], # use the stop dictionary of stopwords or not\n",
    "               'tfidfvectorizer__max_features': [1000, 4000], # use the stop dictionary of stopwords or not\n",
    "               'tfidfvectorizer__tokenizer': [tokenizer_stemmer]}, # use a tokeniser and the stemmer \n",
    "               ]\n",
    "\n",
    "tfidf = TfidfVectorizer(strip_accents=None,\n",
    "                        lowercase=False,\n",
    "                        #max_features=4000,\n",
    "                        min_df=7,\n",
    "                        preprocessor=None)\n",
    "\n",
    "pipeline = make_pipeline(TfidfVectorizer(strip_accents=None, lowercase=False, min_df=7, preprocessor=None), \n",
    "                         LogisticRegression(random_state=1))\n",
    "\n",
    "gs_tfidf = GridSearchCV(pipeline, param_grid,\n",
    "                           scoring='accuracy',\n",
    "                           cv=5,\n",
    "                           verbose=1,\n",
    "                           n_jobs=1) "
   ]
  },
  {
   "cell_type": "markdown",
   "metadata": {},
   "source": [
    "Next, we split dataset into 2 parts, to form the test and training. This will ensure that the cross validation takes place on the training data and final accuracy on the test."
   ]
  },
  {
   "cell_type": "code",
   "execution_count": 25,
   "metadata": {},
   "outputs": [
    {
     "name": "stdout",
     "output_type": "stream",
     "text": [
      "Fitting 5 folds for each of 4 candidates, totalling 20 fits\n"
     ]
    },
    {
     "name": "stderr",
     "output_type": "stream",
     "text": [
      "[Parallel(n_jobs=1)]: Done  20 out of  20 | elapsed:   36.2s finished\n"
     ]
    },
    {
     "data": {
      "text/plain": [
       "GridSearchCV(cv=5, error_score='raise',\n",
       "       estimator=Pipeline(memory=None,\n",
       "     steps=[('tfidfvectorizer', TfidfVectorizer(analyzer='word', binary=False, decode_error='strict',\n",
       "        dtype=<class 'numpy.int64'>, encoding='utf-8', input='content',\n",
       "        lowercase=False, max_df=1.0, max_features=None, min_df=7,\n",
       "        ngram_range=(1, 1), norm='l2', preprocessor=None, smooth_...nalty='l2', random_state=1, solver='liblinear', tol=0.0001,\n",
       "          verbose=0, warm_start=False))]),\n",
       "       fit_params=None, iid=True, n_jobs=1,\n",
       "       param_grid=[{'tfidfvectorizer__ngram_range': [(1, 1)], 'tfidfvectorizer__stop_words': [{'me', 'didn', \"it's\", 'hers', 'who', 'have', \"wouldn't\", 'while', 'they', 'by', 'down', 'were', 'hasn', 'with', 'which', 'not', \"should've\", 'so', 'shan', \"mightn't\", 'she', 'when', 'yourselves', 'those', 'under'...res': [1000, 4000], 'tfidfvectorizer__tokenizer': [<function tokenizer_stemmer at 0x7fe3ef46dd08>]}],\n",
       "       pre_dispatch='2*n_jobs', refit=True, return_train_score='warn',\n",
       "       scoring='accuracy', verbose=1)"
      ]
     },
     "execution_count": 25,
     "metadata": {},
     "output_type": "execute_result"
    }
   ],
   "source": [
    "text_train, text_test, y_train, y_test = train_test_split(X, y, \n",
    "                                                          random_state=42,\n",
    "                                                          test_size=0.25,\n",
    "                                                          stratify=y)\n",
    "gs_tfidf.fit(text_train, y_train)"
   ]
  },
  {
   "cell_type": "markdown",
   "metadata": {},
   "source": [
    "# Exercise\n",
    "- Once the gridsearchCV is complete; access the best_params_ and print it\n",
    "- use best_score_ to access the accuracy for the best parameter combination on the train set\n",
    "- use the best_estimator_ to make predictions on the unseen text data i.e. text_test. You can use gs_tfidf.best_estimator_.score(text_test, y_test) to calculate the accuracy on test.\n",
    "- Use classification_report() to provides a summary of performance.\n",
    "- Try setting the different tfidfvectoriser params to find the best combination for this dataset. For instance change the parameters min_df and ngram_range of the TfidfVectorizer. How does that change the important features?\n",
    "- Finally you may want to do a similar study on the IMDB dataset."
   ]
  },
  {
   "cell_type": "markdown",
   "metadata": {},
   "source": [
    "# Unsupervised Learning \n",
    "\n",
    "This is a family of machine learning algorithms used to draw inferences from datasets consisting of input data. Since the focus is away from class labels we refer to these as unsupervised.\n",
    "The most common unsupervised learning method is cluster analysis, which is used for exploratory data analysis to find hidden patterns or grouping in data.\n",
    "Clustering of documents is a common task and often used as a means to form indexes to search large collections of documents (e.g. indexing of web collections). \n",
    "\n",
    "## Document Clustering - Organizing clusters as a hierarchical tree\n",
    "In agglomerative clustering method, at each stage, the pair of clusters with minimum between-cluster distance are merged. \n",
    "Once the distance matrix (dist) is computed the dendogram can be generated by stating a linkage method.\n",
    "To cluster our documents it is best to work with a small sample of emails messages in order to visualise the dendogram. \n",
    "This can be controlled with setting the frac parameter. \n",
    "\n",
    "### Clustering the Spam dataset\n",
    "We will study clustering using the same dataset we used before for text classification. However we will not be using the class labels as we did before. "
   ]
  },
  {
   "cell_type": "code",
   "execution_count": 26,
   "metadata": {},
   "outputs": [
    {
     "name": "stdout",
     "output_type": "stream",
     "text": [
      "(279, 2)\n"
     ]
    }
   ],
   "source": [
    "df_sample = df.sample(frac=0.05, random_state=1) # use a frac of the data\n",
    "print(df_sample.shape)\n",
    "labels = list(range(len(df_sample.index.values))) # labels are text message ids extracted from the data frame index\n",
    "index = labels # need these for the dendogram\n",
    "\n",
    "#a = list(range(len(df_sample.index.values)))\n",
    "#labels = (list(map(str, a)))\n",
    "#print(labels)\n",
    "#variables = list(df_sample.columns.values)\n",
    "#features = list(df_sample.columns.values)\n",
    "#print(variables)\n",
    "#np.array(labels).T.tolist()"
   ]
  },
  {
   "cell_type": "markdown",
   "metadata": {},
   "source": [
    "# Clean up the data further for clustering"
   ]
  },
  {
   "cell_type": "code",
   "execution_count": 27,
   "metadata": {},
   "outputs": [],
   "source": [
    "from bs4 import BeautifulSoup\n",
    "\n",
    "REPLACE_BY_SPACE_RE = re.compile('[/(){}\\[\\]\\|@,;]')\n",
    "BAD_SYMBOLS_RE = re.compile('[^0-9a-z #+_]')\n",
    "STOPWORDS = set(stopwords.words('english'))\n",
    "\n",
    "def clean_text(text):\n",
    "    \"\"\"\n",
    "        text: a string\n",
    "        \n",
    "        return: modified initial string\n",
    "    \"\"\"\n",
    "    text = BeautifulSoup(text, \"lxml\").text # HTML decoding\n",
    "    text = text.lower() # lowercase text\n",
    "    text = REPLACE_BY_SPACE_RE.sub(' ', text) # replace REPLACE_BY_SPACE_RE symbols by space in text\n",
    "    text = BAD_SYMBOLS_RE.sub('', text) # delete symbols which are in BAD_SYMBOLS_RE from text\n",
    "    text = ' '.join(word for word in text.split() if word not in STOPWORDS) # delete stopwors from text\n",
    "    return text"
   ]
  },
  {
   "cell_type": "code",
   "execution_count": 28,
   "metadata": {},
   "outputs": [],
   "source": [
    "df_sample['sms_msg'] = df_sample['sms_msg'].apply(clean_text)"
   ]
  },
  {
   "cell_type": "code",
   "execution_count": 29,
   "metadata": {},
   "outputs": [
    {
     "data": {
      "text/plain": [
       "1447    looks like u wil b getting headstart im leavin...\n",
       "2032         noe la u wana pei bf oso rite k lor days den\n",
       "4432                     2mro coming gym machan goodnight\n",
       "4888    todays vodafone numbers ending 4882 selected r...\n",
       "5276    hi hope ur day good back walk table booked hal...\n",
       "5463                          ok thk got u wan 2 come wat\n",
       "839     tried contact offer new video phone 750 anytim...\n",
       "4427                                      something u ate\n",
       "1247    know u mean king havin credit goin2bed night n...\n",
       "1545                 completed degree use joining finance\n",
       "Name: sms_msg, dtype: object"
      ]
     },
     "execution_count": 29,
     "metadata": {},
     "output_type": "execute_result"
    }
   ],
   "source": [
    "# example text messages\n",
    "df_sample.iloc[0:10].sms_msg"
   ]
  },
  {
   "cell_type": "markdown",
   "metadata": {},
   "source": [
    "# Create a dataframe to hold the vectorised versions of the data"
   ]
  },
  {
   "cell_type": "code",
   "execution_count": 30,
   "metadata": {},
   "outputs": [
    {
     "data": {
      "text/html": [
       "<div>\n",
       "<style scoped>\n",
       "    .dataframe tbody tr th:only-of-type {\n",
       "        vertical-align: middle;\n",
       "    }\n",
       "\n",
       "    .dataframe tbody tr th {\n",
       "        vertical-align: top;\n",
       "    }\n",
       "\n",
       "    .dataframe thead th {\n",
       "        text-align: right;\n",
       "    }\n",
       "</style>\n",
       "<table border=\"1\" class=\"dataframe\">\n",
       "  <thead>\n",
       "    <tr style=\"text-align: right;\">\n",
       "      <th></th>\n",
       "      <th>2</th>\n",
       "      <th>4</th>\n",
       "      <th>come</th>\n",
       "      <th>day</th>\n",
       "      <th>free</th>\n",
       "      <th>gt</th>\n",
       "      <th>hope</th>\n",
       "      <th>know</th>\n",
       "      <th>like</th>\n",
       "      <th>love</th>\n",
       "      <th>lt</th>\n",
       "      <th>night</th>\n",
       "      <th>number</th>\n",
       "      <th>ok</th>\n",
       "      <th>repli</th>\n",
       "      <th>text</th>\n",
       "      <th>time</th>\n",
       "      <th>u</th>\n",
       "      <th>ur</th>\n",
       "      <th>work</th>\n",
       "    </tr>\n",
       "  </thead>\n",
       "  <tbody>\n",
       "    <tr>\n",
       "      <th>0</th>\n",
       "      <td>0.475309</td>\n",
       "      <td>0.0</td>\n",
       "      <td>0.0</td>\n",
       "      <td>0.000000</td>\n",
       "      <td>0.0</td>\n",
       "      <td>0.0</td>\n",
       "      <td>0.0</td>\n",
       "      <td>0.0</td>\n",
       "      <td>0.44522</td>\n",
       "      <td>0.0</td>\n",
       "      <td>0.0</td>\n",
       "      <td>0.0</td>\n",
       "      <td>0.0</td>\n",
       "      <td>0.0</td>\n",
       "      <td>0.0</td>\n",
       "      <td>0.0</td>\n",
       "      <td>0.0</td>\n",
       "      <td>0.758854</td>\n",
       "      <td>0.0</td>\n",
       "      <td>0.0</td>\n",
       "    </tr>\n",
       "    <tr>\n",
       "      <th>1</th>\n",
       "      <td>0.000000</td>\n",
       "      <td>0.0</td>\n",
       "      <td>0.0</td>\n",
       "      <td>0.804894</td>\n",
       "      <td>0.0</td>\n",
       "      <td>0.0</td>\n",
       "      <td>0.0</td>\n",
       "      <td>0.0</td>\n",
       "      <td>0.00000</td>\n",
       "      <td>0.0</td>\n",
       "      <td>0.0</td>\n",
       "      <td>0.0</td>\n",
       "      <td>0.0</td>\n",
       "      <td>0.0</td>\n",
       "      <td>0.0</td>\n",
       "      <td>0.0</td>\n",
       "      <td>0.0</td>\n",
       "      <td>0.593419</td>\n",
       "      <td>0.0</td>\n",
       "      <td>0.0</td>\n",
       "    </tr>\n",
       "    <tr>\n",
       "      <th>2</th>\n",
       "      <td>0.000000</td>\n",
       "      <td>0.0</td>\n",
       "      <td>1.0</td>\n",
       "      <td>0.000000</td>\n",
       "      <td>0.0</td>\n",
       "      <td>0.0</td>\n",
       "      <td>0.0</td>\n",
       "      <td>0.0</td>\n",
       "      <td>0.00000</td>\n",
       "      <td>0.0</td>\n",
       "      <td>0.0</td>\n",
       "      <td>0.0</td>\n",
       "      <td>0.0</td>\n",
       "      <td>0.0</td>\n",
       "      <td>0.0</td>\n",
       "      <td>0.0</td>\n",
       "      <td>0.0</td>\n",
       "      <td>0.000000</td>\n",
       "      <td>0.0</td>\n",
       "      <td>0.0</td>\n",
       "    </tr>\n",
       "  </tbody>\n",
       "</table>\n",
       "</div>"
      ],
      "text/plain": [
       "          2    4  come       day  free   gt  hope  know     like  love   lt  \\\n",
       "0  0.475309  0.0   0.0  0.000000   0.0  0.0   0.0   0.0  0.44522   0.0  0.0   \n",
       "1  0.000000  0.0   0.0  0.804894   0.0  0.0   0.0   0.0  0.00000   0.0  0.0   \n",
       "2  0.000000  0.0   1.0  0.000000   0.0  0.0   0.0   0.0  0.00000   0.0  0.0   \n",
       "\n",
       "   night  number   ok  repli  text  time         u   ur  work  \n",
       "0    0.0     0.0  0.0    0.0   0.0   0.0  0.758854  0.0   0.0  \n",
       "1    0.0     0.0  0.0    0.0   0.0   0.0  0.593419  0.0   0.0  \n",
       "2    0.0     0.0  0.0    0.0   0.0   0.0  0.000000  0.0   0.0  "
      ]
     },
     "execution_count": 30,
     "metadata": {},
     "output_type": "execute_result"
    }
   ],
   "source": [
    "#define vectorizer parameters\n",
    "tfidf_vectorizer = TfidfVectorizer(max_features=20, min_df=4, smooth_idf=True, stop_words='english',\n",
    "                                 use_idf=True, tokenizer=tokenizer_stemmer, ngram_range=(1,1))\n",
    "\n",
    "tfidf_matrix = tfidf_vectorizer.fit_transform(df_sample['sms_msg']) #fit the vectorizer to sms messages\n",
    "terms = tfidf_vectorizer.get_feature_names()\n",
    "#print(tfidf_matrix.shape)\n",
    "\n",
    "#print(terms)\n",
    "#print(tfidf_matrix)\n",
    "#df_sample['smsVect'] = list(tfidf_matrix.toarray()) # create the corresponding vectorised representation\n",
    "#z= list(tfidf_matrix.toarray())\n",
    "\n",
    "#list(tfidf_matrix.toarray())\n",
    "df3 = pd.DataFrame(list(tfidf_matrix.toarray()), columns = terms, index = index)\n",
    "df3.head(3)"
   ]
  },
  {
   "cell_type": "markdown",
   "metadata": {},
   "source": [
    "### We can visualise this document x term matrix using a heatmap"
   ]
  },
  {
   "cell_type": "code",
   "execution_count": 31,
   "metadata": {},
   "outputs": [
    {
     "data": {
      "image/png": "[encoded data removed]",
      "text/plain": [
       "<Figure size 432x288 with 2 Axes>"
      ]
     },
     "metadata": {},
     "output_type": "display_data"
    }
   ],
   "source": [
    "import seaborn as sns; sns.set()\n",
    "uniform_data = np.random.rand(10, 12)\n",
    "ax = sns.heatmap(df3)\n",
    "ax.figure.savefig(\"heatmap.png\")"
   ]
  },
  {
   "cell_type": "markdown",
   "metadata": {},
   "source": [
    "## Performing hierarchical clustering on a distance matrix"
   ]
  },
  {
   "cell_type": "code",
   "execution_count": 32,
   "metadata": {},
   "outputs": [
    {
     "name": "stdout",
     "output_type": "stream",
     "text": [
      "          0         1         2         3         4         5         6    \\\n",
      "0    0.000000  1.048505  1.414214  1.414214  1.414214  0.936625  1.414214   \n",
      "1    1.048505  0.000000  1.414214  1.414214  1.192233  1.228022  1.414214   \n",
      "2    1.414214  1.414214  0.000000  1.414214  1.131889  0.935700  1.414214   \n",
      "3    1.414214  1.414214  1.414214  0.000000  1.414214  1.414214  1.414214   \n",
      "4    1.414214  1.192233  1.131889  1.414214  0.000000  1.263270  1.414214   \n",
      "5    0.936625  1.228022  0.935700  1.414214  1.263270  0.000000  1.414214   \n",
      "6    1.414214  1.414214  1.414214  1.414214  1.414214  1.414214  0.000000   \n",
      "7    0.694472  0.901755  1.414214  1.414214  1.414214  1.082114  1.414214   \n",
      "8    1.235292  1.276438  1.414214  1.414214  1.316270  1.319490  1.414214   \n",
      "9    1.000000  1.000000  1.000000  1.000000  1.000000  1.000000  1.000000   \n",
      "10   1.000000  1.000000  1.000000  1.000000  1.000000  1.000000  1.000000   \n",
      "11   1.000000  1.000000  1.000000  1.000000  1.000000  1.000000  1.000000   \n",
      "12   1.000000  1.000000  1.000000  1.000000  1.000000  1.000000  1.000000   \n",
      "13   1.414214  1.414214  0.000000  1.414214  1.131889  0.935700  1.414214   \n",
      "14   1.414214  1.414214  1.414214  0.774354  1.414214  1.414214  0.756361   \n",
      "15   1.414214  0.933925  1.414214  1.414214  1.223276  1.414214  1.414214   \n",
      "16   1.240630  1.280479  1.414214  1.414214  1.414214  1.322223  0.537638   \n",
      "17   1.414214  1.414214  1.414214  1.414214  1.414214  1.414214  1.414214   \n",
      "18   1.000000  1.000000  1.000000  1.000000  1.000000  1.000000  1.000000   \n",
      "19   1.000000  1.000000  1.000000  1.000000  1.000000  1.000000  1.000000   \n",
      "20   1.414214  1.025242  1.414214  1.414214  1.073584  1.414214  1.414214   \n",
      "21   1.414214  0.624670  1.414214  1.414214  1.131889  1.414214  1.414214   \n",
      "22   1.414214  1.414214  1.414214  1.414214  1.256591  1.414214  1.414214   \n",
      "23   0.694472  0.901755  1.414214  1.414214  1.414214  1.082114  1.414214   \n",
      "24   1.000000  1.000000  1.000000  1.000000  1.000000  1.000000  1.000000   \n",
      "25   1.000000  1.000000  1.000000  1.000000  1.000000  1.000000  1.000000   \n",
      "26   1.000000  1.000000  1.000000  1.000000  1.000000  1.000000  1.000000   \n",
      "27   1.000000  1.000000  1.000000  1.000000  1.000000  1.000000  1.000000   \n",
      "28   0.694472  0.901755  1.414214  1.414214  1.414214  1.082114  1.414214   \n",
      "29   1.053356  1.414214  1.414214  1.414214  1.414214  1.414214  1.414214   \n",
      "..        ...       ...       ...       ...       ...       ...       ...   \n",
      "249  0.842654  1.197821  0.841472  1.414214  1.239219  0.509156  1.414214   \n",
      "250  1.414214  0.624670  1.414214  1.414214  1.131889  1.414214  1.414214   \n",
      "251  1.000000  1.000000  1.000000  1.000000  1.000000  1.000000  1.000000   \n",
      "252  1.000000  1.000000  1.000000  1.000000  1.000000  1.000000  1.000000   \n",
      "253  1.414214  1.414214  1.414214  1.414214  1.414214  1.007591  1.414214   \n",
      "254  1.414214  1.414214  1.414214  1.414214  1.414214  1.414214  1.414214   \n",
      "255  1.414214  1.414214  1.414214  1.414214  1.414214  1.414214  1.414214   \n",
      "256  1.414214  1.414214  1.414214  1.414214  1.131889  1.414214  1.414214   \n",
      "257  1.000000  1.000000  1.000000  1.000000  1.000000  1.000000  1.000000   \n",
      "258  1.000000  1.000000  1.000000  1.000000  1.000000  1.000000  1.000000   \n",
      "259  1.414214  1.414214  1.414214  1.414214  1.414214  1.414214  1.414214   \n",
      "260  0.556965  1.122303  1.414214  1.414214  1.414214  0.819242  1.414214   \n",
      "261  1.000000  1.000000  1.000000  1.000000  1.000000  1.000000  1.000000   \n",
      "262  1.000000  1.000000  1.000000  1.000000  1.000000  1.000000  1.000000   \n",
      "263  1.000000  1.000000  1.000000  1.000000  1.000000  1.000000  1.000000   \n",
      "264  1.000000  1.000000  1.000000  1.000000  1.000000  1.000000  1.000000   \n",
      "265  0.847988  0.999165  1.414214  1.414214  1.414214  1.140314  1.414214   \n",
      "266  1.414214  1.414214  1.414214  0.726751  1.242543  1.414214  1.414214   \n",
      "267  1.000000  1.000000  1.000000  1.000000  1.000000  1.000000  1.000000   \n",
      "268  1.000000  1.000000  1.000000  1.000000  1.000000  1.000000  1.000000   \n",
      "269  1.000000  1.000000  1.000000  1.000000  1.000000  1.000000  1.000000   \n",
      "270  1.000000  1.000000  1.000000  1.000000  1.000000  1.000000  1.000000   \n",
      "271  1.000000  1.000000  1.000000  1.000000  1.000000  1.000000  1.000000   \n",
      "272  1.414214  1.414214  1.414214  1.414214  1.414214  1.414214  1.414214   \n",
      "273  1.414214  1.414214  1.414214  1.414214  1.414214  1.414214  1.414214   \n",
      "274  1.000000  1.000000  1.000000  1.000000  1.000000  1.000000  1.000000   \n",
      "275  1.000000  1.000000  1.000000  1.000000  1.000000  1.000000  1.000000   \n",
      "276  1.000000  1.000000  1.000000  1.000000  1.000000  1.000000  1.000000   \n",
      "277  1.414214  1.414214  1.414214  1.414214  1.414214  1.414214  1.414214   \n",
      "278  1.000000  1.000000  1.000000  1.000000  1.000000  1.000000  1.000000   \n",
      "\n",
      "          7         8    9   ...   269  270  271       272       273  274  \\\n",
      "0    0.694472  1.235292  1.0 ...   1.0  1.0  1.0  1.414214  1.414214  1.0   \n",
      "1    0.901755  1.276438  1.0 ...   1.0  1.0  1.0  1.414214  1.414214  1.0   \n",
      "2    1.414214  1.414214  1.0 ...   1.0  1.0  1.0  1.414214  1.414214  1.0   \n",
      "3    1.414214  1.414214  1.0 ...   1.0  1.0  1.0  1.414214  1.414214  1.0   \n",
      "4    1.414214  1.316270  1.0 ...   1.0  1.0  1.0  1.414214  1.414214  1.0   \n",
      "5    1.082114  1.319490  1.0 ...   1.0  1.0  1.0  1.414214  1.414214  1.0   \n",
      "6    1.414214  1.414214  1.0 ...   1.0  1.0  1.0  1.414214  1.414214  1.0   \n",
      "7    0.000000  1.172734  1.0 ...   1.0  1.0  1.0  1.414214  1.414214  1.0   \n",
      "8    1.172734  0.000000  1.0 ...   1.0  1.0  1.0  1.414214  1.414214  1.0   \n",
      "9    1.000000  1.000000  0.0 ...   0.0  0.0  0.0  1.000000  1.000000  0.0   \n",
      "10   1.000000  1.000000  0.0 ...   0.0  0.0  0.0  1.000000  1.000000  0.0   \n",
      "11   1.000000  1.000000  0.0 ...   0.0  0.0  0.0  1.000000  1.000000  0.0   \n",
      "12   1.000000  1.000000  0.0 ...   0.0  0.0  0.0  1.000000  1.000000  0.0   \n",
      "13   1.414214  1.414214  1.0 ...   1.0  1.0  1.0  1.414214  1.414214  1.0   \n",
      "14   1.414214  1.414214  1.0 ...   1.0  1.0  1.0  1.414214  1.414214  1.0   \n",
      "15   1.414214  1.414214  1.0 ...   1.0  1.0  1.0  1.414214  0.756870  1.0   \n",
      "16   1.180135  1.345480  1.0 ...   1.0  1.0  1.0  1.414214  1.414214  1.0   \n",
      "17   1.414214  1.414214  1.0 ...   1.0  1.0  1.0  1.414214  1.414214  1.0   \n",
      "18   1.000000  1.000000  0.0 ...   0.0  0.0  0.0  1.000000  1.000000  0.0   \n",
      "19   1.000000  1.000000  0.0 ...   0.0  0.0  0.0  1.000000  1.000000  0.0   \n",
      "20   1.414214  1.414214  1.0 ...   1.0  1.0  1.0  1.414214  1.414214  1.0   \n",
      "21   1.414214  1.414214  1.0 ...   1.0  1.0  1.0  1.414214  1.414214  1.0   \n",
      "22   1.414214  1.414214  1.0 ...   1.0  1.0  1.0  1.414214  0.898322  1.0   \n",
      "23   0.000000  1.172734  1.0 ...   1.0  1.0  1.0  1.414214  1.414214  1.0   \n",
      "24   1.000000  1.000000  0.0 ...   0.0  0.0  0.0  1.000000  1.000000  0.0   \n",
      "25   1.000000  1.000000  0.0 ...   0.0  0.0  0.0  1.000000  1.000000  0.0   \n",
      "26   1.000000  1.000000  0.0 ...   0.0  0.0  0.0  1.000000  1.000000  0.0   \n",
      "27   1.000000  1.000000  0.0 ...   0.0  0.0  0.0  1.000000  1.000000  0.0   \n",
      "28   0.000000  1.172734  1.0 ...   1.0  1.0  1.0  1.414214  1.414214  1.0   \n",
      "29   1.414214  1.414214  1.0 ...   1.0  1.0  1.0  1.414214  1.414214  1.0   \n",
      "..        ...       ...  ... ...   ...  ...  ...       ...       ...  ...   \n",
      "249  1.023480  1.304796  1.0 ...   1.0  1.0  1.0  1.414214  1.414214  1.0   \n",
      "250  1.414214  1.414214  1.0 ...   1.0  1.0  1.0  1.414214  1.414214  1.0   \n",
      "251  1.000000  1.000000  0.0 ...   0.0  0.0  0.0  1.000000  1.000000  0.0   \n",
      "252  1.000000  1.000000  0.0 ...   0.0  0.0  0.0  1.000000  1.000000  0.0   \n",
      "253  1.414214  1.414214  1.0 ...   1.0  1.0  1.0  1.414214  1.414214  1.0   \n",
      "254  1.414214  1.414214  1.0 ...   1.0  1.0  1.0  1.414214  0.000000  1.0   \n",
      "255  1.414214  1.414214  1.0 ...   1.0  1.0  1.0  1.414214  1.414214  1.0   \n",
      "256  1.414214  1.414214  1.0 ...   1.0  1.0  1.0  1.414214  1.414214  1.0   \n",
      "257  1.000000  1.000000  0.0 ...   0.0  0.0  0.0  1.000000  1.000000  0.0   \n",
      "258  1.000000  1.000000  0.0 ...   0.0  0.0  0.0  1.000000  1.000000  0.0   \n",
      "259  1.414214  1.414214  1.0 ...   1.0  1.0  1.0  1.414214  1.414214  1.0   \n",
      "260  0.867327  1.268964  1.0 ...   1.0  1.0  1.0  1.414214  1.414214  1.0   \n",
      "261  1.000000  1.000000  0.0 ...   0.0  0.0  0.0  1.000000  1.000000  0.0   \n",
      "262  1.000000  1.000000  0.0 ...   0.0  0.0  0.0  1.000000  1.000000  0.0   \n",
      "263  1.000000  1.000000  0.0 ...   0.0  0.0  0.0  1.000000  1.000000  0.0   \n",
      "264  1.000000  1.000000  0.0 ...   0.0  0.0  0.0  1.000000  1.000000  0.0   \n",
      "265  0.558604  1.213577  1.0 ...   1.0  1.0  1.0  1.414214  1.414214  1.0   \n",
      "266  1.414214  1.209293  1.0 ...   1.0  1.0  1.0  1.414214  1.414214  1.0   \n",
      "267  1.000000  1.000000  0.0 ...   0.0  0.0  0.0  1.000000  1.000000  0.0   \n",
      "268  1.000000  1.000000  0.0 ...   0.0  0.0  0.0  1.000000  1.000000  0.0   \n",
      "269  1.000000  1.000000  0.0 ...   0.0  0.0  0.0  1.000000  1.000000  0.0   \n",
      "270  1.000000  1.000000  0.0 ...   0.0  0.0  0.0  1.000000  1.000000  0.0   \n",
      "271  1.000000  1.000000  0.0 ...   0.0  0.0  0.0  1.000000  1.000000  0.0   \n",
      "272  1.414214  1.414214  1.0 ...   1.0  1.0  1.0  0.000000  1.414214  1.0   \n",
      "273  1.414214  1.414214  1.0 ...   1.0  1.0  1.0  1.414214  0.000000  1.0   \n",
      "274  1.000000  1.000000  0.0 ...   0.0  0.0  0.0  1.000000  1.000000  0.0   \n",
      "275  1.000000  1.000000  0.0 ...   0.0  0.0  0.0  1.000000  1.000000  0.0   \n",
      "276  1.000000  1.000000  0.0 ...   0.0  0.0  0.0  1.000000  1.000000  0.0   \n",
      "277  1.414214  0.523393  1.0 ...   1.0  1.0  1.0  1.414214  1.414214  1.0   \n",
      "278  1.000000  1.000000  0.0 ...   0.0  0.0  0.0  1.000000  1.000000  0.0   \n",
      "\n",
      "     275  276       277  278  \n",
      "0    1.0  1.0  1.414214  1.0  \n",
      "1    1.0  1.0  1.414214  1.0  \n",
      "2    1.0  1.0  1.414214  1.0  \n",
      "3    1.0  1.0  1.414214  1.0  \n",
      "4    1.0  1.0  1.414214  1.0  \n",
      "5    1.0  1.0  1.414214  1.0  \n",
      "6    1.0  1.0  1.414214  1.0  \n",
      "7    1.0  1.0  1.414214  1.0  \n",
      "8    1.0  1.0  0.523393  1.0  \n",
      "9    0.0  0.0  1.000000  0.0  \n",
      "10   0.0  0.0  1.000000  0.0  \n",
      "11   0.0  0.0  1.000000  0.0  \n",
      "12   0.0  0.0  1.000000  0.0  \n",
      "13   1.0  1.0  1.414214  1.0  \n",
      "14   1.0  1.0  1.414214  1.0  \n",
      "15   1.0  1.0  1.414214  1.0  \n",
      "16   1.0  1.0  1.414214  1.0  \n",
      "17   1.0  1.0  1.414214  1.0  \n",
      "18   0.0  0.0  1.000000  0.0  \n",
      "19   0.0  0.0  1.000000  0.0  \n",
      "20   1.0  1.0  1.414214  1.0  \n",
      "21   1.0  1.0  1.414214  1.0  \n",
      "22   1.0  1.0  1.414214  1.0  \n",
      "23   1.0  1.0  1.414214  1.0  \n",
      "24   0.0  0.0  1.000000  0.0  \n",
      "25   0.0  0.0  1.000000  0.0  \n",
      "26   0.0  0.0  1.000000  0.0  \n",
      "27   0.0  0.0  1.000000  0.0  \n",
      "28   1.0  1.0  1.414214  1.0  \n",
      "29   1.0  1.0  1.414214  1.0  \n",
      "..   ...  ...       ...  ...  \n",
      "249  1.0  1.0  1.414214  1.0  \n",
      "250  1.0  1.0  1.414214  1.0  \n",
      "251  0.0  0.0  1.000000  0.0  \n",
      "252  0.0  0.0  1.000000  0.0  \n",
      "253  1.0  1.0  1.414214  1.0  \n",
      "254  1.0  1.0  1.414214  1.0  \n",
      "255  1.0  1.0  1.414214  1.0  \n",
      "256  1.0  1.0  1.414214  1.0  \n",
      "257  0.0  0.0  1.000000  0.0  \n",
      "258  0.0  0.0  1.000000  0.0  \n",
      "259  1.0  1.0  1.414214  1.0  \n",
      "260  1.0  1.0  1.414214  1.0  \n",
      "261  0.0  0.0  1.000000  0.0  \n",
      "262  0.0  0.0  1.000000  0.0  \n",
      "263  0.0  0.0  1.000000  0.0  \n",
      "264  0.0  0.0  1.000000  0.0  \n",
      "265  1.0  1.0  1.414214  1.0  \n",
      "266  1.0  1.0  1.414214  1.0  \n",
      "267  0.0  0.0  1.000000  0.0  \n",
      "268  0.0  0.0  1.000000  0.0  \n",
      "269  0.0  0.0  1.000000  0.0  \n",
      "270  0.0  0.0  1.000000  0.0  \n",
      "271  0.0  0.0  1.000000  0.0  \n",
      "272  1.0  1.0  1.414214  1.0  \n",
      "273  1.0  1.0  1.414214  1.0  \n",
      "274  0.0  0.0  1.000000  0.0  \n",
      "275  0.0  0.0  1.000000  0.0  \n",
      "276  0.0  0.0  1.000000  0.0  \n",
      "277  1.0  1.0  0.000000  1.0  \n",
      "278  0.0  0.0  1.000000  0.0  \n",
      "\n",
      "[279 rows x 279 columns]\n"
     ]
    }
   ],
   "source": [
    "from scipy.spatial.distance import pdist, squareform\n",
    "\n",
    "row_dist = pd.DataFrame(squareform(pdist(df3.values, metric='euclidean')),\n",
    "                        columns=index,\n",
    "                        index=index)\n",
    "print(row_dist)"
   ]
  },
  {
   "cell_type": "code",
   "execution_count": 33,
   "metadata": {},
   "outputs": [
    {
     "data": {
      "text/html": [
       "<div>\n",
       "<style scoped>\n",
       "    .dataframe tbody tr th:only-of-type {\n",
       "        vertical-align: middle;\n",
       "    }\n",
       "\n",
       "    .dataframe tbody tr th {\n",
       "        vertical-align: top;\n",
       "    }\n",
       "\n",
       "    .dataframe thead th {\n",
       "        text-align: right;\n",
       "    }\n",
       "</style>\n",
       "<table border=\"1\" class=\"dataframe\">\n",
       "  <thead>\n",
       "    <tr style=\"text-align: right;\">\n",
       "      <th></th>\n",
       "      <th>row label 1</th>\n",
       "      <th>row label 2</th>\n",
       "      <th>distance</th>\n",
       "      <th>no. of items in clust.</th>\n",
       "    </tr>\n",
       "  </thead>\n",
       "  <tbody>\n",
       "    <tr>\n",
       "      <th>cluster 1</th>\n",
       "      <td>73.0</td>\n",
       "      <td>171.0</td>\n",
       "      <td>0.000000</td>\n",
       "      <td>2.0</td>\n",
       "    </tr>\n",
       "    <tr>\n",
       "      <th>cluster 2</th>\n",
       "      <td>260.0</td>\n",
       "      <td>279.0</td>\n",
       "      <td>0.000000</td>\n",
       "      <td>3.0</td>\n",
       "    </tr>\n",
       "    <tr>\n",
       "      <th>cluster 3</th>\n",
       "      <td>7.0</td>\n",
       "      <td>23.0</td>\n",
       "      <td>0.000000</td>\n",
       "      <td>2.0</td>\n",
       "    </tr>\n",
       "    <tr>\n",
       "      <th>cluster 4</th>\n",
       "      <td>28.0</td>\n",
       "      <td>281.0</td>\n",
       "      <td>0.000000</td>\n",
       "      <td>3.0</td>\n",
       "    </tr>\n",
       "    <tr>\n",
       "      <th>cluster 5</th>\n",
       "      <td>54.0</td>\n",
       "      <td>282.0</td>\n",
       "      <td>0.000000</td>\n",
       "      <td>4.0</td>\n",
       "    </tr>\n",
       "    <tr>\n",
       "      <th>cluster 6</th>\n",
       "      <td>84.0</td>\n",
       "      <td>283.0</td>\n",
       "      <td>0.000000</td>\n",
       "      <td>5.0</td>\n",
       "    </tr>\n",
       "    <tr>\n",
       "      <th>cluster 7</th>\n",
       "      <td>117.0</td>\n",
       "      <td>284.0</td>\n",
       "      <td>0.000000</td>\n",
       "      <td>6.0</td>\n",
       "    </tr>\n",
       "    <tr>\n",
       "      <th>cluster 8</th>\n",
       "      <td>142.0</td>\n",
       "      <td>285.0</td>\n",
       "      <td>0.000000</td>\n",
       "      <td>7.0</td>\n",
       "    </tr>\n",
       "    <tr>\n",
       "      <th>cluster 9</th>\n",
       "      <td>151.0</td>\n",
       "      <td>286.0</td>\n",
       "      <td>0.000000</td>\n",
       "      <td>8.0</td>\n",
       "    </tr>\n",
       "    <tr>\n",
       "      <th>cluster 10</th>\n",
       "      <td>170.0</td>\n",
       "      <td>287.0</td>\n",
       "      <td>0.000000</td>\n",
       "      <td>9.0</td>\n",
       "    </tr>\n",
       "    <tr>\n",
       "      <th>cluster 11</th>\n",
       "      <td>179.0</td>\n",
       "      <td>288.0</td>\n",
       "      <td>0.000000</td>\n",
       "      <td>10.0</td>\n",
       "    </tr>\n",
       "    <tr>\n",
       "      <th>cluster 12</th>\n",
       "      <td>239.0</td>\n",
       "      <td>289.0</td>\n",
       "      <td>0.000000</td>\n",
       "      <td>11.0</td>\n",
       "    </tr>\n",
       "    <tr>\n",
       "      <th>cluster 13</th>\n",
       "      <td>129.0</td>\n",
       "      <td>145.0</td>\n",
       "      <td>0.000000</td>\n",
       "      <td>2.0</td>\n",
       "    </tr>\n",
       "    <tr>\n",
       "      <th>cluster 14</th>\n",
       "      <td>149.0</td>\n",
       "      <td>291.0</td>\n",
       "      <td>0.000000</td>\n",
       "      <td>3.0</td>\n",
       "    </tr>\n",
       "    <tr>\n",
       "      <th>cluster 15</th>\n",
       "      <td>174.0</td>\n",
       "      <td>292.0</td>\n",
       "      <td>0.000000</td>\n",
       "      <td>4.0</td>\n",
       "    </tr>\n",
       "    <tr>\n",
       "      <th>cluster 16</th>\n",
       "      <td>203.0</td>\n",
       "      <td>221.0</td>\n",
       "      <td>0.000000</td>\n",
       "      <td>2.0</td>\n",
       "    </tr>\n",
       "    <tr>\n",
       "      <th>cluster 17</th>\n",
       "      <td>202.0</td>\n",
       "      <td>231.0</td>\n",
       "      <td>0.000000</td>\n",
       "      <td>2.0</td>\n",
       "    </tr>\n",
       "    <tr>\n",
       "      <th>cluster 18</th>\n",
       "      <td>246.0</td>\n",
       "      <td>295.0</td>\n",
       "      <td>0.000000</td>\n",
       "      <td>3.0</td>\n",
       "    </tr>\n",
       "    <tr>\n",
       "      <th>cluster 19</th>\n",
       "      <td>259.0</td>\n",
       "      <td>296.0</td>\n",
       "      <td>0.000000</td>\n",
       "      <td>4.0</td>\n",
       "    </tr>\n",
       "    <tr>\n",
       "      <th>cluster 20</th>\n",
       "      <td>59.0</td>\n",
       "      <td>162.0</td>\n",
       "      <td>0.000000</td>\n",
       "      <td>2.0</td>\n",
       "    </tr>\n",
       "    <tr>\n",
       "      <th>cluster 21</th>\n",
       "      <td>185.0</td>\n",
       "      <td>298.0</td>\n",
       "      <td>0.000000</td>\n",
       "      <td>3.0</td>\n",
       "    </tr>\n",
       "    <tr>\n",
       "      <th>cluster 22</th>\n",
       "      <td>190.0</td>\n",
       "      <td>299.0</td>\n",
       "      <td>0.000000</td>\n",
       "      <td>4.0</td>\n",
       "    </tr>\n",
       "    <tr>\n",
       "      <th>cluster 23</th>\n",
       "      <td>200.0</td>\n",
       "      <td>300.0</td>\n",
       "      <td>0.000000</td>\n",
       "      <td>5.0</td>\n",
       "    </tr>\n",
       "    <tr>\n",
       "      <th>cluster 24</th>\n",
       "      <td>253.0</td>\n",
       "      <td>301.0</td>\n",
       "      <td>0.000000</td>\n",
       "      <td>6.0</td>\n",
       "    </tr>\n",
       "    <tr>\n",
       "      <th>cluster 25</th>\n",
       "      <td>42.0</td>\n",
       "      <td>85.0</td>\n",
       "      <td>0.000000</td>\n",
       "      <td>2.0</td>\n",
       "    </tr>\n",
       "    <tr>\n",
       "      <th>cluster 26</th>\n",
       "      <td>95.0</td>\n",
       "      <td>303.0</td>\n",
       "      <td>0.000000</td>\n",
       "      <td>3.0</td>\n",
       "    </tr>\n",
       "    <tr>\n",
       "      <th>cluster 27</th>\n",
       "      <td>186.0</td>\n",
       "      <td>304.0</td>\n",
       "      <td>0.000000</td>\n",
       "      <td>4.0</td>\n",
       "    </tr>\n",
       "    <tr>\n",
       "      <th>cluster 28</th>\n",
       "      <td>37.0</td>\n",
       "      <td>210.0</td>\n",
       "      <td>0.000000</td>\n",
       "      <td>2.0</td>\n",
       "    </tr>\n",
       "    <tr>\n",
       "      <th>cluster 29</th>\n",
       "      <td>277.0</td>\n",
       "      <td>306.0</td>\n",
       "      <td>0.000000</td>\n",
       "      <td>3.0</td>\n",
       "    </tr>\n",
       "    <tr>\n",
       "      <th>cluster 30</th>\n",
       "      <td>55.0</td>\n",
       "      <td>228.0</td>\n",
       "      <td>0.000000</td>\n",
       "      <td>2.0</td>\n",
       "    </tr>\n",
       "    <tr>\n",
       "      <th>...</th>\n",
       "      <td>...</td>\n",
       "      <td>...</td>\n",
       "      <td>...</td>\n",
       "      <td>...</td>\n",
       "    </tr>\n",
       "    <tr>\n",
       "      <th>cluster 249</th>\n",
       "      <td>336.0</td>\n",
       "      <td>501.0</td>\n",
       "      <td>0.757314</td>\n",
       "      <td>7.0</td>\n",
       "    </tr>\n",
       "    <tr>\n",
       "      <th>cluster 250</th>\n",
       "      <td>494.0</td>\n",
       "      <td>499.0</td>\n",
       "      <td>0.759136</td>\n",
       "      <td>10.0</td>\n",
       "    </tr>\n",
       "    <tr>\n",
       "      <th>cluster 251</th>\n",
       "      <td>180.0</td>\n",
       "      <td>196.0</td>\n",
       "      <td>0.763988</td>\n",
       "      <td>2.0</td>\n",
       "    </tr>\n",
       "    <tr>\n",
       "      <th>cluster 252</th>\n",
       "      <td>243.0</td>\n",
       "      <td>524.0</td>\n",
       "      <td>0.764800</td>\n",
       "      <td>70.0</td>\n",
       "    </tr>\n",
       "    <tr>\n",
       "      <th>cluster 253</th>\n",
       "      <td>75.0</td>\n",
       "      <td>518.0</td>\n",
       "      <td>0.765367</td>\n",
       "      <td>8.0</td>\n",
       "    </tr>\n",
       "    <tr>\n",
       "      <th>cluster 254</th>\n",
       "      <td>523.0</td>\n",
       "      <td>531.0</td>\n",
       "      <td>0.765367</td>\n",
       "      <td>16.0</td>\n",
       "    </tr>\n",
       "    <tr>\n",
       "      <th>cluster 255</th>\n",
       "      <td>4.0</td>\n",
       "      <td>530.0</td>\n",
       "      <td>0.766268</td>\n",
       "      <td>71.0</td>\n",
       "    </tr>\n",
       "    <tr>\n",
       "      <th>cluster 256</th>\n",
       "      <td>317.0</td>\n",
       "      <td>533.0</td>\n",
       "      <td>0.771016</td>\n",
       "      <td>78.0</td>\n",
       "    </tr>\n",
       "    <tr>\n",
       "      <th>cluster 257</th>\n",
       "      <td>338.0</td>\n",
       "      <td>527.0</td>\n",
       "      <td>0.773405</td>\n",
       "      <td>10.0</td>\n",
       "    </tr>\n",
       "    <tr>\n",
       "      <th>cluster 258</th>\n",
       "      <td>532.0</td>\n",
       "      <td>535.0</td>\n",
       "      <td>0.773847</td>\n",
       "      <td>26.0</td>\n",
       "    </tr>\n",
       "    <tr>\n",
       "      <th>cluster 259</th>\n",
       "      <td>526.0</td>\n",
       "      <td>536.0</td>\n",
       "      <td>0.774354</td>\n",
       "      <td>32.0</td>\n",
       "    </tr>\n",
       "    <tr>\n",
       "      <th>cluster 260</th>\n",
       "      <td>528.0</td>\n",
       "      <td>537.0</td>\n",
       "      <td>0.774354</td>\n",
       "      <td>42.0</td>\n",
       "    </tr>\n",
       "    <tr>\n",
       "      <th>cluster 261</th>\n",
       "      <td>97.0</td>\n",
       "      <td>538.0</td>\n",
       "      <td>0.782127</td>\n",
       "      <td>43.0</td>\n",
       "    </tr>\n",
       "    <tr>\n",
       "      <th>cluster 262</th>\n",
       "      <td>519.0</td>\n",
       "      <td>534.0</td>\n",
       "      <td>0.788307</td>\n",
       "      <td>86.0</td>\n",
       "    </tr>\n",
       "    <tr>\n",
       "      <th>cluster 263</th>\n",
       "      <td>521.0</td>\n",
       "      <td>540.0</td>\n",
       "      <td>0.801902</td>\n",
       "      <td>89.0</td>\n",
       "    </tr>\n",
       "    <tr>\n",
       "      <th>cluster 264</th>\n",
       "      <td>539.0</td>\n",
       "      <td>541.0</td>\n",
       "      <td>0.803651</td>\n",
       "      <td>132.0</td>\n",
       "    </tr>\n",
       "    <tr>\n",
       "      <th>cluster 265</th>\n",
       "      <td>20.0</td>\n",
       "      <td>242.0</td>\n",
       "      <td>0.804459</td>\n",
       "      <td>2.0</td>\n",
       "    </tr>\n",
       "    <tr>\n",
       "      <th>cluster 266</th>\n",
       "      <td>93.0</td>\n",
       "      <td>542.0</td>\n",
       "      <td>0.806472</td>\n",
       "      <td>133.0</td>\n",
       "    </tr>\n",
       "    <tr>\n",
       "      <th>cluster 267</th>\n",
       "      <td>193.0</td>\n",
       "      <td>544.0</td>\n",
       "      <td>0.806889</td>\n",
       "      <td>134.0</td>\n",
       "    </tr>\n",
       "    <tr>\n",
       "      <th>cluster 268</th>\n",
       "      <td>213.0</td>\n",
       "      <td>545.0</td>\n",
       "      <td>0.838350</td>\n",
       "      <td>135.0</td>\n",
       "    </tr>\n",
       "    <tr>\n",
       "      <th>cluster 269</th>\n",
       "      <td>22.0</td>\n",
       "      <td>543.0</td>\n",
       "      <td>0.838626</td>\n",
       "      <td>3.0</td>\n",
       "    </tr>\n",
       "    <tr>\n",
       "      <th>cluster 270</th>\n",
       "      <td>163.0</td>\n",
       "      <td>546.0</td>\n",
       "      <td>0.839725</td>\n",
       "      <td>136.0</td>\n",
       "    </tr>\n",
       "    <tr>\n",
       "      <th>cluster 271</th>\n",
       "      <td>181.0</td>\n",
       "      <td>209.0</td>\n",
       "      <td>0.855884</td>\n",
       "      <td>2.0</td>\n",
       "    </tr>\n",
       "    <tr>\n",
       "      <th>cluster 272</th>\n",
       "      <td>70.0</td>\n",
       "      <td>219.0</td>\n",
       "      <td>0.857635</td>\n",
       "      <td>2.0</td>\n",
       "    </tr>\n",
       "    <tr>\n",
       "      <th>cluster 273</th>\n",
       "      <td>547.0</td>\n",
       "      <td>548.0</td>\n",
       "      <td>0.877274</td>\n",
       "      <td>139.0</td>\n",
       "    </tr>\n",
       "    <tr>\n",
       "      <th>cluster 274</th>\n",
       "      <td>550.0</td>\n",
       "      <td>551.0</td>\n",
       "      <td>0.883008</td>\n",
       "      <td>141.0</td>\n",
       "    </tr>\n",
       "    <tr>\n",
       "      <th>cluster 275</th>\n",
       "      <td>529.0</td>\n",
       "      <td>552.0</td>\n",
       "      <td>0.887488</td>\n",
       "      <td>143.0</td>\n",
       "    </tr>\n",
       "    <tr>\n",
       "      <th>cluster 276</th>\n",
       "      <td>549.0</td>\n",
       "      <td>553.0</td>\n",
       "      <td>0.899775</td>\n",
       "      <td>145.0</td>\n",
       "    </tr>\n",
       "    <tr>\n",
       "      <th>cluster 277</th>\n",
       "      <td>525.0</td>\n",
       "      <td>554.0</td>\n",
       "      <td>0.958309</td>\n",
       "      <td>161.0</td>\n",
       "    </tr>\n",
       "    <tr>\n",
       "      <th>cluster 278</th>\n",
       "      <td>465.0</td>\n",
       "      <td>555.0</td>\n",
       "      <td>1.000000</td>\n",
       "      <td>279.0</td>\n",
       "    </tr>\n",
       "  </tbody>\n",
       "</table>\n",
       "<p>278 rows × 4 columns</p>\n",
       "</div>"
      ],
      "text/plain": [
       "             row label 1  row label 2  distance  no. of items in clust.\n",
       "cluster 1           73.0        171.0  0.000000                     2.0\n",
       "cluster 2          260.0        279.0  0.000000                     3.0\n",
       "cluster 3            7.0         23.0  0.000000                     2.0\n",
       "cluster 4           28.0        281.0  0.000000                     3.0\n",
       "cluster 5           54.0        282.0  0.000000                     4.0\n",
       "cluster 6           84.0        283.0  0.000000                     5.0\n",
       "cluster 7          117.0        284.0  0.000000                     6.0\n",
       "cluster 8          142.0        285.0  0.000000                     7.0\n",
       "cluster 9          151.0        286.0  0.000000                     8.0\n",
       "cluster 10         170.0        287.0  0.000000                     9.0\n",
       "cluster 11         179.0        288.0  0.000000                    10.0\n",
       "cluster 12         239.0        289.0  0.000000                    11.0\n",
       "cluster 13         129.0        145.0  0.000000                     2.0\n",
       "cluster 14         149.0        291.0  0.000000                     3.0\n",
       "cluster 15         174.0        292.0  0.000000                     4.0\n",
       "cluster 16         203.0        221.0  0.000000                     2.0\n",
       "cluster 17         202.0        231.0  0.000000                     2.0\n",
       "cluster 18         246.0        295.0  0.000000                     3.0\n",
       "cluster 19         259.0        296.0  0.000000                     4.0\n",
       "cluster 20          59.0        162.0  0.000000                     2.0\n",
       "cluster 21         185.0        298.0  0.000000                     3.0\n",
       "cluster 22         190.0        299.0  0.000000                     4.0\n",
       "cluster 23         200.0        300.0  0.000000                     5.0\n",
       "cluster 24         253.0        301.0  0.000000                     6.0\n",
       "cluster 25          42.0         85.0  0.000000                     2.0\n",
       "cluster 26          95.0        303.0  0.000000                     3.0\n",
       "cluster 27         186.0        304.0  0.000000                     4.0\n",
       "cluster 28          37.0        210.0  0.000000                     2.0\n",
       "cluster 29         277.0        306.0  0.000000                     3.0\n",
       "cluster 30          55.0        228.0  0.000000                     2.0\n",
       "...                  ...          ...       ...                     ...\n",
       "cluster 249        336.0        501.0  0.757314                     7.0\n",
       "cluster 250        494.0        499.0  0.759136                    10.0\n",
       "cluster 251        180.0        196.0  0.763988                     2.0\n",
       "cluster 252        243.0        524.0  0.764800                    70.0\n",
       "cluster 253         75.0        518.0  0.765367                     8.0\n",
       "cluster 254        523.0        531.0  0.765367                    16.0\n",
       "cluster 255          4.0        530.0  0.766268                    71.0\n",
       "cluster 256        317.0        533.0  0.771016                    78.0\n",
       "cluster 257        338.0        527.0  0.773405                    10.0\n",
       "cluster 258        532.0        535.0  0.773847                    26.0\n",
       "cluster 259        526.0        536.0  0.774354                    32.0\n",
       "cluster 260        528.0        537.0  0.774354                    42.0\n",
       "cluster 261         97.0        538.0  0.782127                    43.0\n",
       "cluster 262        519.0        534.0  0.788307                    86.0\n",
       "cluster 263        521.0        540.0  0.801902                    89.0\n",
       "cluster 264        539.0        541.0  0.803651                   132.0\n",
       "cluster 265         20.0        242.0  0.804459                     2.0\n",
       "cluster 266         93.0        542.0  0.806472                   133.0\n",
       "cluster 267        193.0        544.0  0.806889                   134.0\n",
       "cluster 268        213.0        545.0  0.838350                   135.0\n",
       "cluster 269         22.0        543.0  0.838626                     3.0\n",
       "cluster 270        163.0        546.0  0.839725                   136.0\n",
       "cluster 271        181.0        209.0  0.855884                     2.0\n",
       "cluster 272         70.0        219.0  0.857635                     2.0\n",
       "cluster 273        547.0        548.0  0.877274                   139.0\n",
       "cluster 274        550.0        551.0  0.883008                   141.0\n",
       "cluster 275        529.0        552.0  0.887488                   143.0\n",
       "cluster 276        549.0        553.0  0.899775                   145.0\n",
       "cluster 277        525.0        554.0  0.958309                   161.0\n",
       "cluster 278        465.0        555.0  1.000000                   279.0\n",
       "\n",
       "[278 rows x 4 columns]"
      ]
     },
     "execution_count": 33,
     "metadata": {},
     "output_type": "execute_result"
    }
   ],
   "source": [
    "\n",
    "from scipy.cluster.hierarchy import linkage\n",
    "\n",
    "row_clusters = linkage(df3.values, method='single', metric='euclidean')\n",
    "pd.DataFrame(row_clusters,\n",
    "             columns=['row label 1', 'row label 2',\n",
    "                      'distance', 'no. of items in clust.'],\n",
    "             index=['cluster %d' % (i + 1)\n",
    "                    for i in range(row_clusters.shape[0])])"
   ]
  },
  {
   "cell_type": "markdown",
   "metadata": {},
   "source": [
    "## Display the Dendogram"
   ]
  },
  {
   "cell_type": "code",
   "execution_count": 34,
   "metadata": {},
   "outputs": [
    {
     "data": {
      "image/png": "[encoded data removed]",
      "text/plain": [
       "<Figure size 1080x1440 with 1 Axes>"
      ]
     },
     "metadata": {},
     "output_type": "display_data"
    }
   ],
   "source": [
    "from scipy.cluster.hierarchy import dendrogram\n",
    "\n",
    "#make dendrogram black (part 1/2)\n",
    "#from scipy.cluster.hierarchy import set_link_color_palette\n",
    "#set_link_color_palette(['black'])\n",
    "\n",
    "fig, row_dendr = plt.subplots(figsize=(15, 20)) # set size\n",
    "\n",
    "row_dendr = dendrogram(row_clusters, \n",
    "                       labels=labels,\n",
    "                       orientation=\"right\",\n",
    "                       # make dendrogram black (part 2/2)\n",
    "                       # color_threshold=np.inf\n",
    "                       )\n",
    "\n",
    "plt.tight_layout()\n",
    "plt.ylabel('Euclidean distance')\n",
    "#plt.savefig('images/11_11.png', dpi=300, \n",
    "#            bbox_inches='tight')\n",
    "plt.show()"
   ]
  },
  {
   "cell_type": "markdown",
   "metadata": {},
   "source": [
    "## Exercise \n",
    "Change the linkage method from 'complete' to 'single' and create the dendogram. Do you notice any obvious differences? Single link tends to create straggly clusters compared to complete."
   ]
  },
  {
   "cell_type": "markdown",
   "metadata": {},
   "source": [
    "# Further visualisations with the seaborn library\n",
    "seaborn provides some useful methods to display both the dendogram aswell as visualise the distances that led to the merging of instances (or text messages). "
   ]
  },
  {
   "cell_type": "code",
   "execution_count": 35,
   "metadata": {},
   "outputs": [
    {
     "data": {
      "text/plain": [
       "<seaborn.matrix.ClusterGrid at 0x7fe3e02ad588>"
      ]
     },
     "execution_count": 35,
     "metadata": {},
     "output_type": "execute_result"
    },
    {
     "data": {
      "image/png": "[encoded data removed]",
      "text/plain": [
       "<Figure size 720x720 with 4 Axes>"
      ]
     },
     "metadata": {},
     "output_type": "display_data"
    },
    {
     "data": {
      "image/png": "[encoded data removed]",
      "text/plain": [
       "<Figure size 720x720 with 4 Axes>"
      ]
     },
     "metadata": {},
     "output_type": "display_data"
    }
   ],
   "source": [
    "# Libraries\n",
    "import seaborn as sns\n",
    "\n",
    " \n",
    "# Data set\n",
    "df3\n",
    " \n",
    "# draw the dendogram.\n",
    "# there are several linkage methods that can be used here\n",
    "sns.clustermap(df3, metric=\"euclidean\", standard_scale=1, method=\"single\")\n",
    "sns.clustermap(df3, metric=\"euclidean\", standard_scale=1, method=\"complete\", cmap=\"mako\")\n",
    "#sns.clustermap(df3, metric=\"euclidean\", standard_scale=1, method=\"average\", cmap=\"viridis\")\n",
    "#sns.clustermap(df3, metric=\"euclidean\", standard_scale=1, method=\"complete\", cmap=\"Blues\")\n"
   ]
  },
  {
   "cell_type": "markdown",
   "metadata": {},
   "source": [
    "# Explorations\n",
    "\n",
    "The code above can be used to cluster any text collection you might want to manage. \n",
    "For instance we could use it to cluster similar movies from synopsis; or we could cluster similar books from their abstracts; or cluster friends in a network based on similar postings etc. "
   ]
  }
 ],
 "metadata": {
  "anaconda-cloud": {},
  "kernelspec": {
   "display_name": "Python 3",
   "language": "python",
   "name": "python3"
  },
  "language_info": {
   "codemirror_mode": {
    "name": "ipython",
    "version": 3
   },
   "file_extension": ".py",
   "mimetype": "text/x-python",
   "name": "python",
   "nbconvert_exporter": "python",
   "pygments_lexer": "ipython3",
   "version": "3.6.5"
  }
 },
 "nbformat": 4,
 "nbformat_minor": 1
}
