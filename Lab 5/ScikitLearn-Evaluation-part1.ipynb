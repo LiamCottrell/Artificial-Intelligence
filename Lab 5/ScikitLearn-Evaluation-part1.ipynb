{
 "cells": [
  {
   "cell_type": "code",
   "execution_count": 112,
   "metadata": {},
   "outputs": [],
   "source": [
    "# Compare Algorithms\n",
    "import pandas\n",
    "import numpy as np\n",
    "import matplotlib.pyplot as plt\n",
    "\n",
    "#import method releated to evaluation\n",
    "from sklearn import model_selection\n",
    "from sklearn.model_selection import train_test_split, KFold, StratifiedKFold, StratifiedShuffleSplit, ShuffleSplit, cross_val_score, GridSearchCV\n",
    "\n",
    "#metrics\n",
    "from sklearn.metrics import classification_report, confusion_matrix, roc_curve, auc\n",
    "\n",
    "#export the models from the sklearn library\n",
    "from sklearn.linear_model import LogisticRegression\n",
    "from sklearn.tree import DecisionTreeClassifier\n",
    "from sklearn.neighbors import KNeighborsClassifier\n",
    "from sklearn.discriminant_analysis import LinearDiscriminantAnalysis\n",
    "from sklearn.naive_bayes import GaussianNB\n",
    "from sklearn.neural_network import MLPClassifier\n",
    "from sklearn.svm import SVC\n",
    "%matplotlib inline\n"
   ]
  },
  {
   "cell_type": "markdown",
   "metadata": {},
   "source": [
    "# Toy Example: Handling Missing Values with sklearn's imputer methods\n",
    "There are several built in methods within sklearn for filling in missing vaules; referred to as imputation.\n",
    "Convinient way to do this is to use the Imputer class from scikitLearn. \n",
    "However note that it applies it to all columns. Later on we will see how we can use Pandas dataframe to control which columns to impute. \n",
    "Lets create a toy example to try these methods out."
   ]
  },
  {
   "cell_type": "code",
   "execution_count": 121,
   "metadata": {},
   "outputs": [
    {
     "data": {
      "text/plain": [
       "array([[ 1. ,  2. ,  3. ,  4. ],\n",
       "       [ 5. ,  6. ,  7.5,  8. ],\n",
       "       [10. , 11. , 12. ,  6. ]])"
      ]
     },
     "execution_count": 121,
     "metadata": {},
     "output_type": "execute_result"
    }
   ],
   "source": [
    "from sklearn.preprocessing import Imputer\n",
    "from io import StringIO\n",
    "\n",
    "#first create some dummy data with missing values\n",
    "csv_data =  '''A, B, C, D\n",
    "1.0, 2.0, 3.0, 4.0\n",
    "5.0, 6.0,,8.0\n",
    "10.0, 11.0, 12.0,'''\n",
    "\n",
    "\n",
    "df = pandas.read_csv(StringIO(csv_data))\n",
    "\n",
    "#check that it has stored the NaN missing values\n",
    "df.isnull().sum()\n",
    "\n",
    "imr = Imputer(missing_values=np.nan, strategy = 'mean', axis = 0)\n",
    "#imr = imr.fit(df)\n",
    "#imputed_data = imr.transform(df.values)\n",
    "imputed_data = imr.fit_transform(df.values)\n",
    "imputed_data\n"
   ]
  },
  {
   "cell_type": "markdown",
   "metadata": {},
   "source": [
    "# Toy Example: Preparing categorical data and class labels for classifiers\n",
    "Often classifiers expect that all values are numeric and that the class labels are provided as integers. \n",
    "If the original csv file does not follow this convention then we need to transform our data to suit the classifier. \n",
    "Next we will create a toy dataset to explore this in more detail."
   ]
  },
  {
   "cell_type": "code",
   "execution_count": 122,
   "metadata": {},
   "outputs": [
    {
     "data": {
      "text/html": [
       "<div>\n",
       "<style scoped>\n",
       "    .dataframe tbody tr th:only-of-type {\n",
       "        vertical-align: middle;\n",
       "    }\n",
       "\n",
       "    .dataframe tbody tr th {\n",
       "        vertical-align: top;\n",
       "    }\n",
       "\n",
       "    .dataframe thead th {\n",
       "        text-align: right;\n",
       "    }\n",
       "</style>\n",
       "<table border=\"1\" class=\"dataframe\">\n",
       "  <thead>\n",
       "    <tr style=\"text-align: right;\">\n",
       "      <th></th>\n",
       "      <th>colour</th>\n",
       "      <th>size</th>\n",
       "      <th>price</th>\n",
       "      <th>classLabels</th>\n",
       "    </tr>\n",
       "  </thead>\n",
       "  <tbody>\n",
       "    <tr>\n",
       "      <th>0</th>\n",
       "      <td>green</td>\n",
       "      <td>M</td>\n",
       "      <td>10.1</td>\n",
       "      <td>class1</td>\n",
       "    </tr>\n",
       "    <tr>\n",
       "      <th>1</th>\n",
       "      <td>red</td>\n",
       "      <td>L</td>\n",
       "      <td>13.5</td>\n",
       "      <td>class2</td>\n",
       "    </tr>\n",
       "    <tr>\n",
       "      <th>2</th>\n",
       "      <td>blue</td>\n",
       "      <td>XL</td>\n",
       "      <td>15.3</td>\n",
       "      <td>class1</td>\n",
       "    </tr>\n",
       "  </tbody>\n",
       "</table>\n",
       "</div>"
      ],
      "text/plain": [
       "  colour size  price classLabels\n",
       "0  green    M   10.1      class1\n",
       "1    red    L   13.5      class2\n",
       "2   blue   XL   15.3      class1"
      ]
     },
     "execution_count": 122,
     "metadata": {},
     "output_type": "execute_result"
    }
   ],
   "source": [
    "df = pandas.DataFrame([\n",
    "    ['green', 'M', 10.1, 'class1'],\n",
    "    ['red', 'L', 13.5, 'class2'],\n",
    "    ['blue', 'XL', 15.3, 'class1']\n",
    "])\n",
    "\n",
    "df.columns = ['colour', 'size', 'price', 'classLabels']\n",
    "\n",
    "df\n"
   ]
  },
  {
   "cell_type": "markdown",
   "metadata": {},
   "source": [
    "## Toy Example: Encoding class labels and mapping categorical features\n",
    "\n",
    "There are many ways to acheive the mapping of categorical labels to integers. \n",
    "\n"
   ]
  },
  {
   "cell_type": "code",
   "execution_count": 160,
   "metadata": {},
   "outputs": [
    {
     "data": {
      "text/html": [
       "<div>\n",
       "<style scoped>\n",
       "    .dataframe tbody tr th:only-of-type {\n",
       "        vertical-align: middle;\n",
       "    }\n",
       "\n",
       "    .dataframe tbody tr th {\n",
       "        vertical-align: top;\n",
       "    }\n",
       "\n",
       "    .dataframe thead th {\n",
       "        text-align: right;\n",
       "    }\n",
       "</style>\n",
       "<table border=\"1\" class=\"dataframe\">\n",
       "  <thead>\n",
       "    <tr style=\"text-align: right;\">\n",
       "      <th></th>\n",
       "      <th>colour</th>\n",
       "      <th>size</th>\n",
       "      <th>price</th>\n",
       "      <th>classLabels</th>\n",
       "    </tr>\n",
       "  </thead>\n",
       "  <tbody>\n",
       "    <tr>\n",
       "      <th>0</th>\n",
       "      <td>green</td>\n",
       "      <td>M</td>\n",
       "      <td>10.1</td>\n",
       "      <td>0</td>\n",
       "    </tr>\n",
       "    <tr>\n",
       "      <th>1</th>\n",
       "      <td>red</td>\n",
       "      <td>L</td>\n",
       "      <td>13.5</td>\n",
       "      <td>1</td>\n",
       "    </tr>\n",
       "    <tr>\n",
       "      <th>2</th>\n",
       "      <td>blue</td>\n",
       "      <td>XL</td>\n",
       "      <td>15.3</td>\n",
       "      <td>0</td>\n",
       "    </tr>\n",
       "  </tbody>\n",
       "</table>\n",
       "</div>"
      ],
      "text/plain": [
       "  colour size  price  classLabels\n",
       "0  green    M   10.1            0\n",
       "1    red    L   13.5            1\n",
       "2   blue   XL   15.3            0"
      ]
     },
     "execution_count": 160,
     "metadata": {},
     "output_type": "execute_result"
    }
   ],
   "source": [
    "class_mapping = {label:idx for idx,label in enumerate(np.unique(df['classLabels']))}\n",
    "\n",
    "class_mapping\n",
    "\n",
    "#use the mapping dictionary to transform the class labels into integers\n",
    "\n",
    "df['classLabels'] = df['classLabels'].map(class_mapping)\n",
    "df"
   ]
  },
  {
   "cell_type": "markdown",
   "metadata": {},
   "source": [
    "An even more convinient way to create the feature transformation is to use the get_dummies methods \n",
    "implmented in pandas to generate one-hot-encodings."
   ]
  },
  {
   "cell_type": "code",
   "execution_count": 161,
   "metadata": {},
   "outputs": [
    {
     "data": {
      "text/html": [
       "<div>\n",
       "<style scoped>\n",
       "    .dataframe tbody tr th:only-of-type {\n",
       "        vertical-align: middle;\n",
       "    }\n",
       "\n",
       "    .dataframe tbody tr th {\n",
       "        vertical-align: top;\n",
       "    }\n",
       "\n",
       "    .dataframe thead th {\n",
       "        text-align: right;\n",
       "    }\n",
       "</style>\n",
       "<table border=\"1\" class=\"dataframe\">\n",
       "  <thead>\n",
       "    <tr style=\"text-align: right;\">\n",
       "      <th></th>\n",
       "      <th>price</th>\n",
       "      <th>colour_blue</th>\n",
       "      <th>colour_green</th>\n",
       "      <th>colour_red</th>\n",
       "      <th>size_L</th>\n",
       "      <th>size_M</th>\n",
       "      <th>size_XL</th>\n",
       "      <th>class</th>\n",
       "    </tr>\n",
       "  </thead>\n",
       "  <tbody>\n",
       "    <tr>\n",
       "      <th>0</th>\n",
       "      <td>10.1</td>\n",
       "      <td>0</td>\n",
       "      <td>1</td>\n",
       "      <td>0</td>\n",
       "      <td>0</td>\n",
       "      <td>1</td>\n",
       "      <td>0</td>\n",
       "      <td>0</td>\n",
       "    </tr>\n",
       "    <tr>\n",
       "      <th>1</th>\n",
       "      <td>13.5</td>\n",
       "      <td>0</td>\n",
       "      <td>0</td>\n",
       "      <td>1</td>\n",
       "      <td>1</td>\n",
       "      <td>0</td>\n",
       "      <td>0</td>\n",
       "      <td>1</td>\n",
       "    </tr>\n",
       "    <tr>\n",
       "      <th>2</th>\n",
       "      <td>15.3</td>\n",
       "      <td>1</td>\n",
       "      <td>0</td>\n",
       "      <td>0</td>\n",
       "      <td>0</td>\n",
       "      <td>0</td>\n",
       "      <td>1</td>\n",
       "      <td>0</td>\n",
       "    </tr>\n",
       "  </tbody>\n",
       "</table>\n",
       "</div>"
      ],
      "text/plain": [
       "   price  colour_blue  colour_green  colour_red  size_L  size_M  size_XL  \\\n",
       "0   10.1            0             1           0       0       1        0   \n",
       "1   13.5            0             0           1       1       0        0   \n",
       "2   15.3            1             0           0       0       0        1   \n",
       "\n",
       "   class  \n",
       "0      0  \n",
       "1      1  \n",
       "2      0  "
      ]
     },
     "execution_count": 161,
     "metadata": {},
     "output_type": "execute_result"
    }
   ],
   "source": [
    "df_new = pandas.get_dummies(df[['price', 'colour', 'size']])\n",
    "#now append the class column on to this new frame\n",
    "df_new['class'] = df.iloc[:, -1] \n",
    "df_new"
   ]
  },
  {
   "cell_type": "markdown",
   "metadata": {},
   "source": [
    "# Toy Example:Exercise\n",
    "Take a moment to study the transformed data. Can you understand how the binary valued columns represent the previous values?"
   ]
  },
  {
   "cell_type": "markdown",
   "metadata": {},
   "source": [
    "## Diabetes Dataset : Prepare Dataset\n",
    "We will use the Pima Indians diabetes dataset to explore the different evaluation methods provided in sklearn. \n",
    "It contains 768 rows and 9 features and is used to build models that can predict the onset of diabetes based on diagnostic measures.\n",
    "Description of the features follow:\n",
    "\n",
    "0 preg = Number of times pregnant\n",
    "\n",
    "1 plas = Plasma glucose concentration a 2 hours in an oral glucose tolerance test\n",
    "\n",
    "2 pres = Diastolic blood pressure (mm Hg)\n",
    "\n",
    "3 skin = Triceps skin fold thickness (mm)\n",
    "\n",
    "4 test = 2-Hour serum insulin (mu U/ml)\n",
    "\n",
    "5 mass = Body mass index (weight in kg/(height in m)^2)\n",
    "\n",
    "6 pedi = Diabetes pedigree function\n",
    "\n",
    "7 age = Age (years)\n",
    "\n",
    "8 class = Class variable (1:tested positive for diabetes, 0: tested negative for diabetes)\"\n",
    "\n",
    "All of the values in the file are numeric, specifically floating point values. \n",
    "We will learn how to load the file first, then use it with sklearn by dividing the data into class labels (Y) and feature sets (X). We dont need to split it into test/train as we are going to use scklearn methods to do that."
   ]
  },
  {
   "cell_type": "code",
   "execution_count": 125,
   "metadata": {},
   "outputs": [
    {
     "name": "stdout",
     "output_type": "stream",
     "text": [
      "first 5 rows\n"
     ]
    },
    {
     "data": {
      "text/html": [
       "<div>\n",
       "<style scoped>\n",
       "    .dataframe tbody tr th:only-of-type {\n",
       "        vertical-align: middle;\n",
       "    }\n",
       "\n",
       "    .dataframe tbody tr th {\n",
       "        vertical-align: top;\n",
       "    }\n",
       "\n",
       "    .dataframe thead th {\n",
       "        text-align: right;\n",
       "    }\n",
       "</style>\n",
       "<table border=\"1\" class=\"dataframe\">\n",
       "  <thead>\n",
       "    <tr style=\"text-align: right;\">\n",
       "      <th></th>\n",
       "      <th>pregnancies</th>\n",
       "      <th>glucose</th>\n",
       "      <th>bp</th>\n",
       "      <th>skin</th>\n",
       "      <th>insuline</th>\n",
       "      <th>bmi</th>\n",
       "      <th>pedi</th>\n",
       "      <th>age</th>\n",
       "      <th>class</th>\n",
       "    </tr>\n",
       "  </thead>\n",
       "  <tbody>\n",
       "    <tr>\n",
       "      <th>0</th>\n",
       "      <td>6</td>\n",
       "      <td>148</td>\n",
       "      <td>72</td>\n",
       "      <td>35</td>\n",
       "      <td>0</td>\n",
       "      <td>33.6</td>\n",
       "      <td>0.627</td>\n",
       "      <td>50</td>\n",
       "      <td>1</td>\n",
       "    </tr>\n",
       "    <tr>\n",
       "      <th>1</th>\n",
       "      <td>1</td>\n",
       "      <td>85</td>\n",
       "      <td>66</td>\n",
       "      <td>29</td>\n",
       "      <td>0</td>\n",
       "      <td>26.6</td>\n",
       "      <td>0.351</td>\n",
       "      <td>31</td>\n",
       "      <td>0</td>\n",
       "    </tr>\n",
       "    <tr>\n",
       "      <th>2</th>\n",
       "      <td>8</td>\n",
       "      <td>183</td>\n",
       "      <td>64</td>\n",
       "      <td>0</td>\n",
       "      <td>0</td>\n",
       "      <td>23.3</td>\n",
       "      <td>0.672</td>\n",
       "      <td>32</td>\n",
       "      <td>1</td>\n",
       "    </tr>\n",
       "    <tr>\n",
       "      <th>3</th>\n",
       "      <td>1</td>\n",
       "      <td>89</td>\n",
       "      <td>66</td>\n",
       "      <td>23</td>\n",
       "      <td>94</td>\n",
       "      <td>28.1</td>\n",
       "      <td>0.167</td>\n",
       "      <td>21</td>\n",
       "      <td>0</td>\n",
       "    </tr>\n",
       "    <tr>\n",
       "      <th>4</th>\n",
       "      <td>0</td>\n",
       "      <td>137</td>\n",
       "      <td>40</td>\n",
       "      <td>35</td>\n",
       "      <td>168</td>\n",
       "      <td>43.1</td>\n",
       "      <td>2.288</td>\n",
       "      <td>33</td>\n",
       "      <td>1</td>\n",
       "    </tr>\n",
       "  </tbody>\n",
       "</table>\n",
       "</div>"
      ],
      "text/plain": [
       "   pregnancies  glucose  bp  skin  insuline   bmi   pedi  age  class\n",
       "0            6      148  72    35         0  33.6  0.627   50      1\n",
       "1            1       85  66    29         0  26.6  0.351   31      0\n",
       "2            8      183  64     0         0  23.3  0.672   32      1\n",
       "3            1       89  66    23        94  28.1  0.167   21      0\n",
       "4            0      137  40    35       168  43.1  2.288   33      1"
      ]
     },
     "execution_count": 125,
     "metadata": {},
     "output_type": "execute_result"
    }
   ],
   "source": [
    "# load dataset\n",
    "filename = \"pima-indians-diabetes.data.csv\"\n",
    "#lets add some column names as the CSV file does not have these\n",
    "names = ['pregnancies', 'glucose', 'bp', 'skin', 'insuline', 'bmi', 'pedi', 'age', 'class']\n",
    "#lets use the convinient pandas library to read and form a data frame of our dataset\n",
    "dataframe = pandas.read_csv(filename, names=names)\n",
    "\n",
    "seed =100 #useful for random generators\n",
    "print('first 5 rows')\n",
    "dataframe.head()"
   ]
  },
  {
   "cell_type": "markdown",
   "metadata": {},
   "source": [
    "# Exercise\n",
    "Add a cell below and \n",
    "- use dataframe.isnull().sum() to check for null or missing values\n",
    "- use dataframe.columns.values to view the names for this dataset i.e. 'pregnancies', 'glucose', 'bp', 'skin', 'insuline', 'bmi', 'pedi', 'age', 'class'\n",
    "- use dataframe.hist(bins=50, figsize=(20,15)) with plt.show to explore its feature"
   ]
  },
  {
   "cell_type": "markdown",
   "metadata": {},
   "source": [
    "# Unexpected Outliers\n",
    "When analyzing the histogram we can identify that there are some outliers in some columns. We will further analyse those outliers and determine what we can do about them.\n",
    "\n",
    "bp (Blood pressure) : By observing the data we can see that there are 0 values for blood pressure. And it is evident that the readings of the data set seems wrong because a living person cannot have diastolic blood pressure of zero. By observing the data we can see 35 counts where the value is 0.\n",
    "\n",
    "\n",
    "\n"
   ]
  },
  {
   "cell_type": "code",
   "execution_count": 126,
   "metadata": {},
   "outputs": [
    {
     "name": "stdout",
     "output_type": "stream",
     "text": [
      "Total zeros for BP feature:  35\n",
      "class\n",
      "0    19\n",
      "1    16\n",
      "Name: age, dtype: int64\n"
     ]
    }
   ],
   "source": [
    "print(\"Total zeros for BP feature: \", dataframe[dataframe.bp == 0].shape[0])\n",
    "print(dataframe[dataframe.bp == 0].groupby('class')['age'].count())"
   ]
  },
  {
   "cell_type": "markdown",
   "metadata": {},
   "source": [
    "# Exercise\n",
    "\n",
    "The diabetes dataset which was set up with dataframe object has the following features = ['pregnancies', 'glucose', 'bp', 'skin', 'insuline', 'bmi', 'pedi', 'age', 'class']\n",
    "\n",
    "Extending the example above we can execute the code below and explore the following column names:\n",
    "\n",
    "glucose (Plasma glucose levels) : Even after fasting, glucose level should not be as low as zero. Therefor zero is an invalid reading. By observing the data can you identify if there are any rows where 'glocuse' column has a value of 0?\n",
    "\n",
    "\n",
    "skin (Skin Fold Thickness) : For normal people skin fold thickness can’t be less than 10 mm better yet zero. Again check if there are any rows where value is 0?\n",
    "\n",
    "bmi (Body Mass Index): Should not be 0 or close to zero unless the person is really underweight which could be life threatening.\n",
    "Check for rows where value is 0?\n",
    "\n",
    "insulin : In a rare situation a person can have zero insulin but by observing the data, again you should find if there are any values of zero in any rows?"
   ]
  },
  {
   "cell_type": "markdown",
   "metadata": {},
   "source": [
    "# How do we handle invalid data / missing values ?\n",
    "\n",
    "Option 1\n",
    "Ignore/remove these instances : This is not actually possible in most cases because that would mean losing valuable information. And in this case “skin thickness” and “insulin” columns have a lot of invalid points. But it might work for “BMI”, “glucose ”and “blood pressure” data points.\n",
    "To drop instances where an attribute is missing / invalid you can use:\n",
    "\n",
    "dataframe.dropna(subset=[\"bp\"]) # to get rid of instances where bp is missing\n",
    "\n",
    "dataframe = dataframe[(dataframe.bp != 0) # to get rid of instances where bp is zero\n",
    "\n",
    "\n",
    "Option 2\n",
    "Set the values to an average/mean value : This might work for some data sets, but in our case putting a mean value to the blood pressure column would send a wrong signal to the model.\n",
    "You can acheive this easily using the dataframe fillna() method for instance for the bp feature:\n",
    "\n",
    "median = dataframe[\"bp\"].median()\n",
    "\n",
    "dataframe[\"bp\"].fillna(media, inplace = True)\n",
    "\n",
    "Optino 3\n",
    "Avoid using features : It is possible to not use the features with a lot of invalid values for the model. This may work for “skin thickness” but its hard to predict that. We can do this easily with a dataframe for example as follows:\n",
    "\n",
    "dataframe.drop(\"bp\", axis=1) # axis=1 simply states to match the given column name to the column labels instead of an index\n",
    "\n",
    "In this example we can clearly see that the dataset is incomplete in certain vaules. \n",
    "Since this is a demonstration for machine learning we will proceed with the given data with some minor adjustments.\n",
    "\n",
    "- We will remove the rows which the bp (BloodPressure), bmi (BMI) and glucose (Glucose) are zero.\n",
    "\n",
    "You can compare the changes to the dataframe in the next cell:"
   ]
  },
  {
   "cell_type": "code",
   "execution_count": 127,
   "metadata": {},
   "outputs": [
    {
     "name": "stdout",
     "output_type": "stream",
     "text": [
      "Print before cleaning :  (768, 9)\n",
      "Print before cleaning :  (724, 9)\n"
     ]
    }
   ],
   "source": [
    "print('Print before cleaning : ', dataframe.shape)\n",
    "dataframe = dataframe[(dataframe.bp != 0) & (dataframe.bmi != 0) & (dataframe.glucose != 0)]\n",
    "print('Print before cleaning : ', dataframe.shape)"
   ]
  },
  {
   "cell_type": "markdown",
   "metadata": {},
   "source": [
    "# Understanding your X (features) and y (labels) in datasets\n",
    "When selecting the columnd from the data frame we need to understand the original source file (i.e. csv) file in order to specify which column forms the class label ; here if the patient is diabetic or not.\n",
    "\n",
    "Normally the class label appears as the first column / features (as we saw in the MNIST dataset) or appears at the end , as with the diabetes dataset. \n",
    "\n",
    "This means that in the diabetes dataset, given that we have 9 columns; then the range of features to include in X will be 0:8 (from 0 upto and including 7) and class label index will be 8."
   ]
  },
  {
   "cell_type": "code",
   "execution_count": 128,
   "metadata": {},
   "outputs": [],
   "source": [
    "array = dataframe.values\n",
    "# divide data into label and feature sets.\n",
    "# this dataset has its class column in location 8\n",
    "X = array[:,0:8] # upto column index 7 i.e. 0 to 7\n",
    "y = array[:,8] # 8th column index"
   ]
  },
  {
   "cell_type": "markdown",
   "metadata": {},
   "source": [
    "## Prepare models\n",
    "We will use the scikitLearn library to access a bunch of ML models already avaiable\n",
    "and run each of them on the diabetes classification dataset. \n",
    "\n",
    "For instance with a statement such as: \n",
    "models.append(('ANN', MLPClassifier()))\n",
    "\n",
    "we are using sciktlearn's neural net classifier which is a Multi-layer Perceptron classifier. \n",
    "\n",
    "We will be using the default settings for each of the classifiers. \n",
    "\n",
    "We encourage you to look up the scikitlearn documentation on classifiers to understand the different hyper-parameter settings and how you might change them (http://scikit-learn.org/stable/)"
   ]
  },
  {
   "cell_type": "code",
   "execution_count": 129,
   "metadata": {},
   "outputs": [],
   "source": [
    "# prepare models\n",
    "models = []\n",
    "models.append(('LR', LogisticRegression()))\n",
    "models.append(('LDA', LinearDiscriminantAnalysis()))\n",
    "models.append(('KNN', KNeighborsClassifier()))\n",
    "models.append(('CART', DecisionTreeClassifier()))\n",
    "models.append(('NB', GaussianNB()))\n",
    "models.append(('SVM', SVC(kernel='rbf', gamma=0.7, C=1.0)))\n",
    "models.append(('ANN', MLPClassifier()))\n"
   ]
  },
  {
   "cell_type": "markdown",
   "metadata": {},
   "source": [
    "By evaluating our classifier performance on data that has been seen during training, we could get false confidence in the predictive power of our model. In the worst case, it may simply memorize the training samples but completely fails classifying new, similar samples -- we really don't want to put such a system into production!\n",
    "Instead of using the same dataset for training and testing (this is called \"resubstitution evaluation\"), it is much much better to use a train/test split in order to estimate how well your trained model is doing on new data."
   ]
  },
  {
   "cell_type": "markdown",
   "metadata": {},
   "source": [
    "## Hold-out train-test splits\n",
    "\n",
    "We need to split the data into training and testing. Luckily, this is a common pattern in machine learning and scikit-learn has a pre-built function to split data into training and testing sets for you. \n",
    "Here, we use 75% of the data as training, and 25% testing. \n",
    "Note that 80% and 20% is another common split, but there are no hard and fast rules. \n",
    "The most important thing is to fairly evaluate your system on data it has not seen during training!"
   ]
  },
  {
   "cell_type": "code",
   "execution_count": 131,
   "metadata": {},
   "outputs": [
    {
     "name": "stdout",
     "output_type": "stream",
     "text": [
      "Labels for training and testing data\n",
      "[[1.00e+00 1.68e+02 8.80e+01 ... 3.50e+01 9.05e-01 5.20e+01]\n",
      " [7.00e+00 1.50e+02 7.80e+01 ... 3.52e+01 6.92e-01 5.40e+01]\n",
      " [5.00e+00 1.12e+02 6.60e+01 ... 3.78e+01 2.61e-01 4.10e+01]\n",
      " ...\n",
      " [2.00e+00 1.22e+02 5.20e+01 ... 3.62e+01 8.16e-01 2.80e+01]\n",
      " [2.00e+00 1.00e+02 6.80e+01 ... 3.85e+01 3.24e-01 2.60e+01]\n",
      " [7.00e+00 1.24e+02 7.00e+01 ... 2.55e+01 1.61e-01 3.70e+01]]\n",
      "[[2.00e+00 9.00e+01 8.00e+01 ... 2.44e+01 2.49e-01 2.40e+01]\n",
      " [3.00e+00 1.73e+02 7.80e+01 ... 3.38e+01 9.70e-01 3.10e+01]\n",
      " [4.00e+00 9.00e+01 8.80e+01 ... 3.77e+01 3.62e-01 2.90e+01]\n",
      " ...\n",
      " [0.00e+00 1.02e+02 5.20e+01 ... 2.51e+01 7.80e-02 2.10e+01]\n",
      " [2.00e+00 9.10e+01 6.20e+01 ... 2.73e+01 5.25e-01 2.20e+01]\n",
      " [3.00e+00 7.80e+01 7.00e+01 ... 3.25e+01 2.70e-01 3.90e+01]]\n"
     ]
    }
   ],
   "source": [
    "train_X, test_X, train_y, test_y = train_test_split(X, y, \n",
    "                                                    train_size=0.75, test_size=0.25,\n",
    "                                                    random_state=seed)\n",
    "print(\"Labels for training and testing data\")\n",
    "print(train_X)\n",
    "print(test_X)"
   ]
  },
  {
   "cell_type": "markdown",
   "metadata": {},
   "source": [
    "**Tip: Stratified Split**\n",
    "Especially for relatively small datasets, it's better to stratify the split. Stratification means that we maintain the original class proportion of the dataset in the test and training sets. For example, after we randomly split the dataset as shown in the previous code example, we have the following class proportions in percent:"
   ]
  },
  {
   "cell_type": "code",
   "execution_count": 132,
   "metadata": {},
   "outputs": [
    {
     "name": "stdout",
     "output_type": "stream",
     "text": [
      "All (class distribution): [65.60773481 34.39226519]\n",
      "Training (class distribution): [63.90423573 36.09576427]\n",
      "Test (class distribution): [70.71823204 29.28176796]\n"
     ]
    }
   ],
   "source": [
    "#we will use the bincount function to count the total number of instances in each class\n",
    "# using list to convert and cast the array as a list; so it works with bincount\n",
    "print('All (class distribution):', np.bincount(list(map(float, y))) / float(len(y)) * 100.0)\n",
    "print('Training (class distribution):', np.bincount(list(map(float,train_y))) / float(len(train_y)) * 100.0)\n",
    "print('Test (class distribution):', np.bincount(list(map(float,test_y))) / float(len(test_y)) * 100.0)"
   ]
  },
  {
   "cell_type": "markdown",
   "metadata": {},
   "source": [
    "So, in order to stratify the split, we can pass the label array as an additional option to the `train_test_split` function, with stratify=True.\n",
    "\n",
    "For more details about this function you should also look up http://scikit-learn.org/stable/modules/generated/sklearn.model_selection.train_test_split.html"
   ]
  },
  {
   "cell_type": "code",
   "execution_count": 133,
   "metadata": {},
   "outputs": [
    {
     "name": "stdout",
     "output_type": "stream",
     "text": [
      "All (class distribution): [65.60773481 34.39226519]\n",
      "Training (class distribution): [65.56169429 34.43830571]\n",
      "Test (class distribution): [65.74585635 34.25414365]\n"
     ]
    }
   ],
   "source": [
    "train_X, test_X, train_y, test_y = train_test_split(X, y, \n",
    "                                                    train_size=0.75, test_size=0.25,\n",
    "                                                    random_state=seed,\n",
    "                                                    stratify=y)\n",
    "\n",
    "print('All (class distribution):', np.bincount(list(map(float, y))) / float(len(y)) * 100.0)\n",
    "print('Training (class distribution):', np.bincount(list(map(float,train_y))) / float(len(train_y)) * 100.0)\n",
    "print('Test (class distribution):', np.bincount(list(map(float,test_y))) / float(len(test_y)) * 100.0)"
   ]
  },
  {
   "cell_type": "markdown",
   "metadata": {},
   "source": [
    "# Bringing features onto same scale\n",
    "We will use the built in sklearn methods to normalise the price column"
   ]
  },
  {
   "cell_type": "code",
   "execution_count": 138,
   "metadata": {},
   "outputs": [
    {
     "name": "stdout",
     "output_type": "stream",
     "text": [
      "[[0.11764706 0.15483871 0.42222222 ... 0.03885481 0.0764304  0.03333333]\n",
      " [0.35294118 0.23225806 0.62222222 ... 0.44171779 0.04227156 0.11666667]\n",
      " [0.05882353 0.30322581 0.33333333 ... 0.14314928 0.06660974 0.03333333]\n",
      " ...\n",
      " [0.41176471 0.52258065 0.68888889 ... 0.39672802 0.09649872 0.5       ]\n",
      " [0.05882353 0.98064516 0.57777778 ... 0.37423313 0.34030743 0.13333333]\n",
      " [0.23529412 0.42580645 0.46666667 ... 0.2801636  0.16780529 0.13333333]]\n"
     ]
    }
   ],
   "source": [
    "from sklearn.preprocessing import MinMaxScaler, StandardScaler\n",
    "mms = MinMaxScaler() # stdsc = StandardScaler()\n",
    "train_X_norm = mms.fit_transform(train_X)\n",
    "test_X_norm = mms.transform(test_X)\n",
    "print(X_train_norm)"
   ]
  },
  {
   "cell_type": "markdown",
   "metadata": {},
   "source": [
    "## Train and test a model with the scikitlearn library methods, fit and predict"
   ]
  },
  {
   "cell_type": "code",
   "execution_count": 140,
   "metadata": {},
   "outputs": [
    {
     "name": "stdout",
     "output_type": "stream",
     "text": [
      "Classifier LR [Accuracy]:\n",
      "0.7900552486187845\n"
     ]
    }
   ],
   "source": [
    "#lets work with the first classifier for now from the list above in the \"Prepare models\" setion\n",
    "classifier = models[0][1]\n",
    "classifier.fit(train_X_norm, train_y)\n",
    "pred_y = classifier.predict(test_X_norm)\n",
    "\n",
    "print(\"Classifier %s [Accuracy]:\" % (models[0][0]))\n",
    "print(np.sum(pred_y == test_y) / float(len(test_y)))"
   ]
  },
  {
   "cell_type": "markdown",
   "metadata": {},
   "source": [
    "# Lets visualize the correct and failed predictions"
   ]
  },
  {
   "cell_type": "code",
   "execution_count": 142,
   "metadata": {},
   "outputs": [
    {
     "name": "stdout",
     "output_type": "stream",
     "text": [
      "Samples correctly classified:\n",
      "[  0   2   3   6   7   9  10  11  12  13  14  15  16  17  18  19  20  21\n",
      "  23  25  26  27  29  30  32  33  34  35  37  38  39  40  41  42  43  44\n",
      "  45  46  47  48  49  50  51  52  53  54  56  57  58  59  60  63  64  65\n",
      "  66  68  70  71  72  73  74  75  76  77  79  82  83  84  86  87  88  90\n",
      "  91  92  93  94  96  97  98  99 100 101 103 104 106 107 109 110 111 112\n",
      " 113 115 116 117 118 119 121 124 125 126 127 128 129 132 133 134 135 136\n",
      " 138 139 140 141 144 145 147 148 150 151 152 153 154 155 156 159 160 161\n",
      " 162 163 164 165 166 167 168 169 170 172 173 174 175 176 177 178 179]\n",
      "\n",
      "Samples incorrectly classified:\n",
      "[  1   4   5   8  22  24  28  31  36  55  61  62  67  69  78  80  81  85\n",
      "  89  95 102 105 108 114 120 122 123 130 131 137 142 143 146 149 157 158\n",
      " 171 180]\n"
     ]
    }
   ],
   "source": [
    "#in the following code we use np.where \n",
    "#which is a handy command which is like asking \n",
    "#\"tell me where in this array, entries satisfy a given condition\".\n",
    "#the [0] appended at the end simply extracts the first in a 2-element response\n",
    "#you can delete the [0] and explore what the 2-d element looks like.\n",
    "\n",
    "print('Samples correctly classified:')\n",
    "correct_idx = np.where(pred_y == test_y)[0] \n",
    "print(correct_idx)\n",
    "\n",
    "print('\\nSamples incorrectly classified:')\n",
    "incorrect_idx = np.where(pred_y != test_y)[0]\n",
    "print(incorrect_idx)"
   ]
  },
  {
   "cell_type": "code",
   "execution_count": 141,
   "metadata": {},
   "outputs": [
    {
     "name": "stdout",
     "output_type": "stream",
     "text": [
      "features of an instance that was incorrectly classified 2 [0.05882353 0.40645161 0.48888889 0.3015873  0.         0.16973415\n",
      " 0.03714774 0.05      ] 0.0\n"
     ]
    }
   ],
   "source": [
    "idx = 2 # select an instance \n",
    "\n",
    "print(\"features of an instance that was incorrectly classified\", idx, test_X_norm[idx], test_y[idx])\n"
   ]
  },
  {
   "cell_type": "markdown",
   "metadata": {},
   "source": [
    "## Use a scatter plot to visualise correct and incorrect classifications"
   ]
  },
  {
   "cell_type": "code",
   "execution_count": 144,
   "metadata": {
    "scrolled": true
   },
   "outputs": [
    {
     "data": {
      "image/png": "[encoded data removed]",
      "text/plain": [
       "<matplotlib.figure.Figure at 0x200d9af7940>"
      ]
     },
     "metadata": {},
     "output_type": "display_data"
    }
   ],
   "source": [
    "# Plot two dimensions\n",
    "#lets select 2 features from our dataset\n",
    "f1 = 5 # e.g. body mass index\n",
    "f2 = 7 # e.g. the \"age\" feature\n",
    "\n",
    "#set 2 colours for the two classes in the diabetes dataset\n",
    "colors = [\"darkblue\", \"darkgreen\"]\n",
    "\n",
    "#get the scatter data for correctly classified instance\n",
    "#we use enumerate in our for loop\n",
    "#It allows us to loop over something and have an automatic counter (here the counter is n)\n",
    "#since our class values are 0 or 1 ; this works well here\n",
    "for n, color in enumerate(colors):\n",
    "    idx = np.where(test_y == n)[0]\n",
    "    plt.scatter(test_X_norm[idx, f1], test_X_norm[idx, f2], color=color, label=\"Class %s\" % str(n))\n",
    "\n",
    "#get the scatter data for incorrectly classified instance\n",
    "plt.scatter(test_X_norm[incorrect_idx, f1], test_X_norm[incorrect_idx, f2], color=\"darkred\")\n",
    "\n",
    "plt.xlabel('BMI')\n",
    "plt.ylabel('age')\n",
    "plt.legend(loc=3)\n",
    "plt.title(\"Classification results\")\n",
    "plt.show()"
   ]
  },
  {
   "cell_type": "markdown",
   "metadata": {},
   "source": [
    "We can also closely examine a few incorrectly classified instances (instead of all) using the scatter plot.\n",
    "For instance say we want to print the true labels of 3 wrong predictions and modify the scatterplot code, which we used above, to visualize and distinguish just these three instances with different markers in the 2D scatterplot. \n",
    "\n",
    "Doing this allows us to understand prediction errors and in particular understand \n",
    "why our classifier made these wrong predictions"
   ]
  },
  {
   "cell_type": "code",
   "execution_count": 145,
   "metadata": {},
   "outputs": [
    {
     "data": {
      "image/png": "[encoded data removed]",
      "text/plain": [
       "<matplotlib.figure.Figure at 0x200d9fc86a0>"
      ]
     },
     "metadata": {},
     "output_type": "display_data"
    }
   ],
   "source": [
    "# Plot two dimensions\n",
    "#lets select 2 features for from our dataset\n",
    "f1 = 5 # body mass index\n",
    "f2 = 7 # this is the \"age\" feature\n",
    "\n",
    "#set 2 colours for the two classes in the diabetes dataset\n",
    "colors = [\"darkblue\", \"darkgreen\"]\n",
    "\n",
    "for n, color in enumerate(colors):\n",
    "    idx = np.where(test_y == n)[0]\n",
    "    plt.scatter(test_X_norm[idx, f1], test_X_norm[idx, f2],\n",
    "                color=color, label=\"Class %s\" % str(n))\n",
    "\n",
    "# we use the zip function with 2 iterators\n",
    "# iterate through the set of incorrect instance index, incorrect_idx and ['o', 's', 'v']\n",
    "# zip will ensure that the iterator stops when shortest iterable is exhaused.\n",
    "for i, marker in zip(incorrect_idx, ['o', 's', 'v']):\n",
    "    plt.scatter(test_X_norm[i, f1], test_X_norm[i, f2],\n",
    "                color=\"darkred\",\n",
    "                marker=marker, #specify the marker (see for a full list https://matplotlib.org/api/markers_api.html)\n",
    "                s=100, # set the marker size\n",
    "                label=i)\n",
    "\n",
    "plt.xlabel('BMI')\n",
    "plt.ylabel('age')\n",
    "plt.legend(loc=3)\n",
    "plt.title(\"Classification results\")\n",
    "plt.show()\n"
   ]
  },
  {
   "cell_type": "markdown",
   "metadata": {},
   "source": [
    "### Exercise \n",
    "- How can you modify the code above to choose specfic indexes of incorrectly classified instances?\n",
    "- Try generating the plots for different models?\n",
    "- You can use a similar analysis on a different dataset such as the Iris dataset. You can load Iris dataset which is part of the sklearn library \"from sklearn.datasets import load_iris\". Thereafter \n",
    "                    iris = load_iris()\n",
    "\n",
    "                    X, y = iris.data, iris.target\n",
    "\n",
    "                    class_names = iris.target_names\n",
    "\n",
    "                    print(\"Number of instances: \", len(X))\n",
    "\n",
    "Examine its columns and consider how to normalise them if needed."
   ]
  },
  {
   "cell_type": "code",
   "execution_count": null,
   "metadata": {},
   "outputs": [],
   "source": []
  },
  {
   "cell_type": "code",
   "execution_count": null,
   "metadata": {},
   "outputs": [],
   "source": []
  }
 ],
 "metadata": {
  "kernelspec": {
   "display_name": "Python 3",
   "language": "python",
   "name": "python3"
  },
  "language_info": {
   "codemirror_mode": {
    "name": "ipython",
    "version": 3
   },
   "file_extension": ".py",
   "mimetype": "text/x-python",
   "name": "python",
   "nbconvert_exporter": "python",
   "pygments_lexer": "ipython3",
   "version": "3.6.5"
  }
 },
 "nbformat": 4,
 "nbformat_minor": 2
}
